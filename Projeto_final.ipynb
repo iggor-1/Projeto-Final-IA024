{
  "cells": [
    {
      "cell_type": "code",
      "execution_count": null,
      "metadata": {
        "colab": {
          "base_uri": "https://localhost:8080/"
        },
        "id": "ktueWwm3PVfm",
        "outputId": "f9b44f2f-3fdd-4b12-b75a-647d25e124a6"
      },
      "outputs": [
        {
          "name": "stdout",
          "output_type": "stream",
          "text": [
            "Collecting groq\n",
            "  Downloading groq-0.9.0-py3-none-any.whl (103 kB)\n",
            "\u001b[?25l     \u001b[90m━━━━━━━━━━━━━━━━━━━━━━━━━━━━━━━━━━━━━━━━\u001b[0m \u001b[32m0.0/103.5 kB\u001b[0m \u001b[31m?\u001b[0m eta \u001b[36m-:--:--\u001b[0m\r\u001b[2K     \u001b[90m━━━━━━━━━━━━━━━━━━━━━━━━━━━━━━━━━━━━━━━━\u001b[0m \u001b[32m103.5/103.5 kB\u001b[0m \u001b[31m3.7 MB/s\u001b[0m eta \u001b[36m0:00:00\u001b[0m\n",
            "\u001b[?25hRequirement already satisfied: anyio<5,>=3.5.0 in /usr/local/lib/python3.10/dist-packages (from groq) (3.7.1)\n",
            "Requirement already satisfied: distro<2,>=1.7.0 in /usr/lib/python3/dist-packages (from groq) (1.7.0)\n",
            "Collecting httpx<1,>=0.23.0 (from groq)\n",
            "  Downloading httpx-0.27.0-py3-none-any.whl (75 kB)\n",
            "\u001b[2K     \u001b[90m━━━━━━━━━━━━━━━━━━━━━━━━━━━━━━━━━━━━━━━━\u001b[0m \u001b[32m75.6/75.6 kB\u001b[0m \u001b[31m4.9 MB/s\u001b[0m eta \u001b[36m0:00:00\u001b[0m\n",
            "\u001b[?25hRequirement already satisfied: pydantic<3,>=1.9.0 in /usr/local/lib/python3.10/dist-packages (from groq) (2.7.4)\n",
            "Requirement already satisfied: sniffio in /usr/local/lib/python3.10/dist-packages (from groq) (1.3.1)\n",
            "Requirement already satisfied: typing-extensions<5,>=4.7 in /usr/local/lib/python3.10/dist-packages (from groq) (4.12.2)\n",
            "Requirement already satisfied: idna>=2.8 in /usr/local/lib/python3.10/dist-packages (from anyio<5,>=3.5.0->groq) (3.7)\n",
            "Requirement already satisfied: exceptiongroup in /usr/local/lib/python3.10/dist-packages (from anyio<5,>=3.5.0->groq) (1.2.1)\n",
            "Requirement already satisfied: certifi in /usr/local/lib/python3.10/dist-packages (from httpx<1,>=0.23.0->groq) (2024.6.2)\n",
            "Collecting httpcore==1.* (from httpx<1,>=0.23.0->groq)\n",
            "  Downloading httpcore-1.0.5-py3-none-any.whl (77 kB)\n",
            "\u001b[2K     \u001b[90m━━━━━━━━━━━━━━━━━━━━━━━━━━━━━━━━━━━━━━━━\u001b[0m \u001b[32m77.9/77.9 kB\u001b[0m \u001b[31m6.3 MB/s\u001b[0m eta \u001b[36m0:00:00\u001b[0m\n",
            "\u001b[?25hCollecting h11<0.15,>=0.13 (from httpcore==1.*->httpx<1,>=0.23.0->groq)\n",
            "  Downloading h11-0.14.0-py3-none-any.whl (58 kB)\n",
            "\u001b[2K     \u001b[90m━━━━━━━━━━━━━━━━━━━━━━━━━━━━━━━━━━━━━━━━\u001b[0m \u001b[32m58.3/58.3 kB\u001b[0m \u001b[31m5.2 MB/s\u001b[0m eta \u001b[36m0:00:00\u001b[0m\n",
            "\u001b[?25hRequirement already satisfied: annotated-types>=0.4.0 in /usr/local/lib/python3.10/dist-packages (from pydantic<3,>=1.9.0->groq) (0.7.0)\n",
            "Requirement already satisfied: pydantic-core==2.18.4 in /usr/local/lib/python3.10/dist-packages (from pydantic<3,>=1.9.0->groq) (2.18.4)\n",
            "Installing collected packages: h11, httpcore, httpx, groq\n",
            "Successfully installed groq-0.9.0 h11-0.14.0 httpcore-1.0.5 httpx-0.27.0\n",
            "Collecting unidecode\n",
            "  Downloading Unidecode-1.3.8-py3-none-any.whl (235 kB)\n",
            "\u001b[2K     \u001b[90m━━━━━━━━━━━━━━━━━━━━━━━━━━━━━━━━━━━━━━━━\u001b[0m \u001b[32m235.5/235.5 kB\u001b[0m \u001b[31m5.4 MB/s\u001b[0m eta \u001b[36m0:00:00\u001b[0m\n",
            "\u001b[?25hInstalling collected packages: unidecode\n",
            "Successfully installed unidecode-1.3.8\n",
            "\u001b[2K     \u001b[90m━━━━━━━━━━━━━━━━━━━━━━━━━━━━━━━━━━━━━━━━\u001b[0m \u001b[32m154.1/154.1 MB\u001b[0m \u001b[31m4.0 MB/s\u001b[0m eta \u001b[36m0:00:00\u001b[0m\n",
            "\u001b[2K     \u001b[90m━━━━━━━━━━━━━━━━━━━━━━━━━━━━━━━━━━━━━━━━\u001b[0m \u001b[32m1.5/1.5 MB\u001b[0m \u001b[31m76.1 MB/s\u001b[0m eta \u001b[36m0:00:00\u001b[0m\n",
            "\u001b[2K     \u001b[90m━━━━━━━━━━━━━━━━━━━━━━━━━━━━━━━━━━━━━━━━\u001b[0m \u001b[32m188.7/188.7 kB\u001b[0m \u001b[31m24.1 MB/s\u001b[0m eta \u001b[36m0:00:00\u001b[0m\n",
            "\u001b[?25h  Preparing metadata (setup.py) ... \u001b[?25l\u001b[?25hdone\n",
            "\u001b[2K     \u001b[90m━━━━━━━━━━━━━━━━━━━━━━━━━━━━━━━━━━━━━━━━\u001b[0m \u001b[32m6.8/6.8 MB\u001b[0m \u001b[31m103.6 MB/s\u001b[0m eta \u001b[36m0:00:00\u001b[0m\n",
            "\u001b[2K     \u001b[90m━━━━━━━━━━━━━━━━━━━━━━━━━━━━━━━━━━━━━━━━\u001b[0m \u001b[32m46.0/46.0 kB\u001b[0m \u001b[31m6.0 MB/s\u001b[0m eta \u001b[36m0:00:00\u001b[0m\n",
            "\u001b[2K     \u001b[90m━━━━━━━━━━━━━━━━━━━━━━━━━━━━━━━━━━━━━━━━\u001b[0m \u001b[32m86.8/86.8 kB\u001b[0m \u001b[31m11.7 MB/s\u001b[0m eta \u001b[36m0:00:00\u001b[0m\n",
            "\u001b[?25h  Building wheel for nmslib (setup.py) ... \u001b[?25l\u001b[?25hdone\n",
            "\u001b[2K     \u001b[90m━━━━━━━━━━━━━━━━━━━━━━━━━━━━━━━━━━━━━━━━\u001b[0m \u001b[32m27.0/27.0 MB\u001b[0m \u001b[31m51.7 MB/s\u001b[0m eta \u001b[36m0:00:00\u001b[0m\n",
            "\u001b[2K     \u001b[90m━━━━━━━━━━━━━━━━━━━━━━━━━━━━━━━━━━━━━━━━\u001b[0m \u001b[32m227.1/227.1 kB\u001b[0m \u001b[31m5.9 MB/s\u001b[0m eta \u001b[36m0:00:00\u001b[0m\n",
            "\u001b[2K     \u001b[90m━━━━━━━━━━━━━━━━━━━━━━━━━━━━━━━━━━━━━━━━\u001b[0m \u001b[32m21.3/21.3 MB\u001b[0m \u001b[31m64.8 MB/s\u001b[0m eta \u001b[36m0:00:00\u001b[0m\n",
            "\u001b[?25hRequirement already satisfied: transformers in /usr/local/lib/python3.10/dist-packages (4.41.2)\n",
            "Requirement already satisfied: filelock in /usr/local/lib/python3.10/dist-packages (from transformers) (3.15.3)\n",
            "Requirement already satisfied: huggingface-hub<1.0,>=0.23.0 in /usr/local/lib/python3.10/dist-packages (from transformers) (0.23.4)\n",
            "Requirement already satisfied: numpy>=1.17 in /usr/local/lib/python3.10/dist-packages (from transformers) (1.25.2)\n",
            "Requirement already satisfied: packaging>=20.0 in /usr/local/lib/python3.10/dist-packages (from transformers) (24.1)\n",
            "Requirement already satisfied: pyyaml>=5.1 in /usr/local/lib/python3.10/dist-packages (from transformers) (6.0.1)\n",
            "Requirement already satisfied: regex!=2019.12.17 in /usr/local/lib/python3.10/dist-packages (from transformers) (2024.5.15)\n",
            "Requirement already satisfied: requests in /usr/local/lib/python3.10/dist-packages (from transformers) (2.31.0)\n",
            "Requirement already satisfied: tokenizers<0.20,>=0.19 in /usr/local/lib/python3.10/dist-packages (from transformers) (0.19.1)\n",
            "Requirement already satisfied: safetensors>=0.4.1 in /usr/local/lib/python3.10/dist-packages (from transformers) (0.4.3)\n",
            "Requirement already satisfied: tqdm>=4.27 in /usr/local/lib/python3.10/dist-packages (from transformers) (4.66.4)\n",
            "Requirement already satisfied: fsspec>=2023.5.0 in /usr/local/lib/python3.10/dist-packages (from huggingface-hub<1.0,>=0.23.0->transformers) (2023.6.0)\n",
            "Requirement already satisfied: typing-extensions>=3.7.4.3 in /usr/local/lib/python3.10/dist-packages (from huggingface-hub<1.0,>=0.23.0->transformers) (4.12.2)\n",
            "Requirement already satisfied: charset-normalizer<4,>=2 in /usr/local/lib/python3.10/dist-packages (from requests->transformers) (3.3.2)\n",
            "Requirement already satisfied: idna<4,>=2.5 in /usr/local/lib/python3.10/dist-packages (from requests->transformers) (3.7)\n",
            "Requirement already satisfied: urllib3<3,>=1.21.1 in /usr/local/lib/python3.10/dist-packages (from requests->transformers) (2.0.7)\n",
            "Requirement already satisfied: certifi>=2017.4.17 in /usr/local/lib/python3.10/dist-packages (from requests->transformers) (2024.6.2)\n",
            "\u001b[2K     \u001b[90m━━━━━━━━━━━━━━━━━━━━━━━━━━━━━━━━━━━━━━━━\u001b[0m \u001b[32m309.4/309.4 kB\u001b[0m \u001b[31m6.4 MB/s\u001b[0m eta \u001b[36m0:00:00\u001b[0m\n",
            "\u001b[2K     \u001b[90m━━━━━━━━━━━━━━━━━━━━━━━━━━━━━━━━━━━━━━━━\u001b[0m \u001b[32m119.8/119.8 MB\u001b[0m \u001b[31m8.4 MB/s\u001b[0m eta \u001b[36m0:00:00\u001b[0m\n",
            "\u001b[?25h"
          ]
        }
      ],
      "source": [
        "!pip install groq\n",
        "!pip install unidecode\n",
        "\n",
        "!pip install -q pyserini==0.21.0\n",
        "\n",
        "!pip install -q faiss-cpu\n",
        "!pip install -q sentence_transformers\n",
        "\n",
        "!pip install transformers\n",
        "!pip install -q accelerate\n",
        "!pip install -q bitsandbytes"
      ]
    },
    {
      "cell_type": "code",
      "execution_count": null,
      "metadata": {
        "id": "M6hH2zEKPVZN"
      },
      "outputs": [],
      "source": [
        "from groq import Groq\n",
        "\n",
        "import os\n",
        "import re\n",
        "import math\n",
        "import json\n",
        "\n",
        "import spacy\n",
        "import pickle\n",
        "\n",
        "from pyserini.search.lucene import LuceneSearcher\n",
        "from collections import defaultdict\n",
        "from tqdm import tqdm\n"
      ]
    },
    {
      "cell_type": "code",
      "execution_count": null,
      "metadata": {
        "id": "vsx49Yp8PVWO"
      },
      "outputs": [],
      "source": [
        "faq_path = 'dataset.json'\n",
        "laws_path = 'dataset_8981.json'"
      ]
    },
    {
      "cell_type": "code",
      "execution_count": null,
      "metadata": {
        "id": "UTx2OQRPPVTG"
      },
      "outputs": [],
      "source": [
        "faq_set =  json.load(open(faq_path, 'r'))\n",
        "laws_set = json.load(open(laws_path, 'r'))"
      ]
    },
    {
      "cell_type": "code",
      "execution_count": null,
      "metadata": {
        "colab": {
          "base_uri": "https://localhost:8080/"
        },
        "id": "NmCAKArBPVNG",
        "outputId": "572f74fd-392a-495e-d3e1-1d14920161ca"
      },
      "outputs": [
        {
          "name": "stdout",
          "output_type": "stream",
          "text": [
            "0: O que é operação day trade?\n",
            "Considera-se day trade a operação ou a conjugação de operações iniciadas e encerradas em um mesmo dia, com o mesmo ativo, em uma mesma instituição intermediadora, em que a quantidade negociada tenha sido liquidada, total ou parcialmente. Na apuração do resultado da operação day trade são considerados, pela ordem, o primeiro negócio de compra com o primeiro de venda ou o primeiro negócio de venda com o primeiro de compra, sucessivamente. Será admitida a compensação de perdas incorridas em operações de day trade realizadas no mesmo dia.\n",
            "Lei nº 9.959, de 27 de janeiro de 2000, art. 8º; Lei nº 12.350, de 20 de dezembro de 2010, art. 45\n",
            "----------------------------------------------------------------------\n",
            "1: Qual é a alíquota de incidência do IR aplicável nas operações realizadas em bolsa?\n",
            "Os ganhos líquidos auferidos em operações realizadas em bolsas de valores, de mercadorias, de futuros, e assemelhadas, inclusive day trade, serão tributados às seguintes alíquotas: a) 20%, no caso de operação day trade; b) 15%, nas operações realizadas nos mercados à vista, a termo, de opções e de futuros. As operações realizadas em bolsas de valores, de mercadorias, de futuros, e assemelhadas estão sujeitas à retenção do imposto sobre a renda incidente na fonte à alíquota de 0,005% (cinco milésimos por cento), salvo se o valor da retenção do imposto seja igual ou inferior a R$ 1,00, como antecipação, podendo ser compensado com o imposto sobre a renda mensal na apuração do ganho líquido.\n",
            "Lei nº 11.033, de 21 de dezembro de 2004, art. 2º, caput, incisos I e II,\n",
            "----------------------------------------------------------------------\n",
            "2: Quais operações em bolsa são isentas do IR?\n",
            "São isentos do imposto sobre a renda os ganhos líquidos auferidos por pessoa física em operações efetuadas: I - com ações, no mercado à vista de bolsas de valores ou mercado de balcão, se o total das alienações desse ativo, realizadas no mês, não exceder a R$ 20.000,00 (vinte mil reais); II - com ouro, ativo financeiro, se o total das alienações desse ativo, realizadas no mês, não exceder a R$ 20.000,00 (vinte mil reais); III – com ações de pequenas e médias empresas a que se refere o art. 16 da Lei nº 13.043, de 13 de novembro de 2014, até 31 de dezembro de 2023.\n",
            "Lei nº 11.033, de 21 de dezembro de 2004, art.3º, inciso I; Lei nº 13.043, de 13 de novembro de 2014, art. 16;\n",
            "----------------------------------------------------------------------\n",
            "3: Os rendimentos auferidos em operações day trade sujeitam-se à incidência do imposto sobre a renda incidente na fonte?\n",
            "Sim. Os rendimentos auferidos em operações day trade realizadas em bolsas de valores, de mercadorias, de futuros e assemelhadas, por qualquer beneficiário, sujeitam-se à incidência do imposto sobre a renda incidente na fonte à alíquota de 1%.\n",
            "Lei nº 9.959, de 27 de janeiro de 2000, art. 8º\n",
            "----------------------------------------------------------------------\n",
            "4: Quem é o responsável pela retenção do imposto sobre a renda retido na fonte incidente sobre operações day trade?\n",
            "O responsável pela retenção e recolhimento do imposto sobre a renda na fonte é a instituição intermediadora da operação de day trade que receber, diretamente, a ordem do cliente.\n",
            "Lei nº 9.959, de 27 de janeiro de 2000, art. 8º, § 3º; Lei nº 12.350, de 20 de dezembro de 2010, art. 45, § 3º\n",
            "----------------------------------------------------------------------\n",
            "5: O valor do imposto retido na fonte durante o ano-calendário sobre rendimentos de day trade pode ser compensado com o imposto incidente sobre ganhos auferidos em meses do ano-calendário seguinte?\n",
            "Não. O valor do imposto retido na fonte sobre operações day trade somente pode ser compensado até o mês de dezembro do ano-calendário da retenção.\n",
            "Lei nº 9.959, de 27 de janeiro de 2000, art. 8º, § 5º;\n",
            "----------------------------------------------------------------------\n",
            "6: Quem está obrigado a preencher o Demonstrativo de Apuração de Ganhos - Renda Variável?\n",
            "Este Demonstrativo deve ser preenchido, com a utilização do programa IRPF2024, pelo contribuinte pessoa física, residente no Brasil, que durante o ano-calendário de 2023 efetuou: 1 - alienação de ações no mercado à vista em bolsa de valores; 2 - alienação de ouro, ativo financeiro, no mercado disponível ou à vista em bolsa de mercadorias e de futuros ou diretamente junto a instituições financeiras; 3 - operações nos mercados a termo, de opções e futuro, realizadas em bolsa de valores, de mercadorias e de futuros, com qualquer ativo; 4 - operações realizadas em mercados de liquidação futura, fora de bolsa, inclusive com opções flexíveis.\n",
            "Lei nº 11.033, de 21 de dezembro de 2004, art. 3º, inciso I; Lei nº 13.043, de 13 de novembro de 2014, art. 16\n",
            "----------------------------------------------------------------------\n",
            "7: Como são tributados os ganhos obtidos pelos cotistas de fundos de ações?\n",
            "São tributados no resgate de quotas à alíquota de 15%. Esse imposto será retido pelo administrador do fundo na data do resgate das quotas, sendo considerado exclusivo de fonte.\n",
            "Lei nº 11.033, de 21 de dezembro de 2004, art.1º, § 3º\n",
            "----------------------------------------------------------------------\n",
            "8: Como são tributadas as operações no mercado de renda variável e de renda fixa realizadas direta e individualmente por não residente no Brasil?\n",
            "1 - Ressalvados os itens 2 e 3, os rendimentos decorrentes de aplicações financeiras de renda fixa e em fundos de investimento, os ganhos líquidos auferidos em operações realizadas em bolsas de valores, de mercadorias, de futuros e assemelhadas, os ganhos líquidos auferidos na alienação de ouro, ativo financeiro, e em operações realizadas nos mercados de liquidação futura, fora de bolsa, e os rendimentos auferidos nas operações de swap estão sujeitos às mesmas normas de tributação pelo imposto sobre a renda, previstas para o residente no Brasil. 2 - Os rendimentos auferidos por investidor não residente, individual ou coletivo, que realizar operações financeiras no Brasil de acordo com as normas e condições estabelecidas pelo Conselho Monetário Nacional, sujeitam-se à incidência do imposto sobre a renda às seguintes alíquotas: I - 10%, no caso de aplicações nos fundos de investimento em ações, em operações de swap, registradas ou não em bolsa, e nas operações realizadas em mercados de liquidação futura, fora de bolsa; II - 15%, nos demais casos, inclusive em aplicações financeiras de renda fixa, realizadas no mercado de balcão ou em bolsa. 3 - Não estão sujeitos à incidência do imposto sobre a renda os ganhos de capital auferidos pelos investidores não residentes que realizarem operações financeiras no Brasil de acordo com as normas e condições estabelecidas pelo Conselho Monetário Nacional: I - nas operações realizadas em bolsas de valores, de mercadorias, de futuros e assemelhadas, com exceção das operações conjugadas; II - nas operações com ouro, ativo financeiro, fora de bolsa.\n",
            "Lei nº 8.981, de 1995, arts. 78 e 81\n",
            "----------------------------------------------------------------------\n",
            "9: Qual é o tratamento tributário dos rendimentos obtidos pela pessoa física nas aplicações financeiras?\n",
            "Os rendimentos produzidos por aplicação financeira são tributados na fonte às alíquotas de: a) 22,5%, em aplicações com prazo de até seis meses; b) 20%, em aplicações com prazo de seis meses e um dia até doze meses; c) 17,5%, em aplicações com prazo de doze meses e um dia até vinte e quatro meses; d) 15%, em aplicações com prazo acima de vinte e quatro meses.\n",
            "Lei nº 11.033, de 21 de dezembro de 2004, art. 1º\n",
            "----------------------------------------------------------------------\n",
            "10: Como são tributados os rendimentos obtidos pelos cotistas de fundos de renda fixa?\n",
            "Se classificados como de longo prazo, os rendimentos são tributados na fonte às alíquotas de: a) 22,5%, em aplicações com prazo de até seis meses; b) 22%, em aplicações com prazo de seis meses e um dia até doze meses; c) 17,5%, em aplicações com prazo de doze meses e um dia até vinte e quatro meses; d) 15%, em aplicações com prazo acima de vinte e quatro meses. Se classificados como de curto prazo, os rendimentos são tributados na fonte às alíquotas de: a) 22,5%, em aplicações com prazo de até seis meses; b) 20%, em aplicações com prazo acima de seis meses.\n",
            "Lei nº 11.033, de 21 de dezembro de 2004, art. 1º ; Lei nº 11.053, de 29 de dezembro de 2004, art. 6º; Lei nº 12.431, de 24 de junho de 2011, arts. 2º e 3º; Lei nº 13.043, de 13 de novembro de 2014, art. 2º\n",
            "----------------------------------------------------------------------\n",
            "11: Qual é o tratamento tributário dos rendimentos produzidos por conta de depósito de poupança?\n",
            "Os rendimentos obtidos em conta de depósito de poupança pela pessoa física estão isentos do imposto sobre a renda, ainda que em virtude de decisão judicial que tenha determinado a correção dos valores depositados por índice diferente do fixado pela autoridade monetária.\n",
            "Lei nº 8.981, de 20 de janeiro de 1995, art. 68, inciso III\n",
            "----------------------------------------------------------------------\n",
            "12: Qual é o tratamento tributário dos rendimentos produzidos por conta de depósito de poupança em nome de menor, cujo depósito é efetuado em decorrência de ordem judicial?\n",
            "Tratando-se de conta de depósito de poupança, os rendimentos auferidos são isentos do imposto sobre a renda.\n",
            "Lei nº 8.981, de 20 de janeiro de 1995, art. 68, inciso III\n",
            "----------------------------------------------------------------------\n",
            "13: As importâncias correspondentes aos juros de conta de depósito de poupança remetidas para beneficiário pessoa física não residente no Brasil são tributáveis?\n",
            "Não. Relativamente aos juros de conta de depósito de poupança, o não residente sujeita-se às mesmas normas de tributação previstas para o residente no Brasil. Assim, os rendimentos correspondentes aos juros creditados estão isentos.\n",
            "Lei nº 8.981, de 20 de janeiro de 1995, arts. 68, inciso III, e 78\n",
            "----------------------------------------------------------------------\n"
          ]
        }
      ],
      "source": [
        "# Adaptado de Leandro Carísio\n",
        "\n",
        "question_answer = []\n",
        "\n",
        "for i in range(len(faq_set)):\n",
        "  qa = faq_set[i]\n",
        "\n",
        "  question = qa['question']\n",
        "  answer = qa['answer']\n",
        "  source = qa['source']\n",
        "\n",
        "  question_answer.append({\"question\": question, \"answer\": answer.strip(), \"source\": source})\n",
        "  print(f\"{i}: {question}\\n{answer}\\n{source}\")\n",
        "  print('----------------------------------------------------------------------')\n"
      ]
    },
    {
      "cell_type": "code",
      "execution_count": null,
      "metadata": {
        "id": "_1al4dWcPVJ9"
      },
      "outputs": [],
      "source": [
        "documents = []\n",
        "all_texts = []\n",
        "\n",
        "for item in laws_set:\n",
        "    for artigos in item[\"artigos\"]:\n",
        "        for paragrafos in artigos[\"paragrafos\"]:\n",
        "            for incisos in paragrafos[\"incisos\"]:\n",
        "                documents.append({\n",
        "                    \"lei\":             item[\"titulo\"],\n",
        "                    \"content\":          artigos[\"artigo\"] + \" \" + artigos[\"texto\"] + \" \" +  paragrafos[\"paragrafo\"] + \" \" +  paragrafos[\"texto\"] + \" \" + incisos\n",
        "                })"
      ]
    },
    {
      "cell_type": "code",
      "execution_count": null,
      "metadata": {
        "colab": {
          "base_uri": "https://localhost:8080/"
        },
        "id": "2mvwI1m1SMqI",
        "outputId": "7c3d5e4f-cebb-474f-fcf9-a3a1f05c2548"
      },
      "outputs": [
        {
          "name": "stdout",
          "output_type": "stream",
          "text": [
            "[{'paragrafo': '§ 1º', 'texto': 'O Ministério da Fazenda divulgará a expressão monetária da Ufir trimestral com base no IPCA - Série Especial de que trata o art. 2º daLei nº 8.383, de 30 de dezembro de 1991.', 'incisos': ['O Ministério da Fazenda divulgará a expressão monetária da Ufir trimestral com base no IPCA - Série Especial de que trata o art. 2º daLei nº 8.383, de 30 de dezembro de 1991.']}, {'paragrafo': '§ 2º', 'texto': 'O IPCA - Série Especial será apurado a partir do período de apuração iniciado em 16 de dezembro de 1994 e divulgado trimestralmente pela Fundação Instituto Brasileiro de Geografia e Estatística (FIBGE).', 'incisos': ['O IPCA - Série Especial será apurado a partir do período de apuração iniciado em 16 de dezembro de 1994 e divulgado trimestralmente pela Fundação Instituto Brasileiro de Geografia e Estatística (FIBGE).']}, {'paragrafo': '§ 3º', 'texto': 'A expressão monetária da Ufir referente ao primeiro trimestre de 1995 é de R$ 0,6767.', 'incisos': ['A expressão monetária da Ufir referente ao primeiro trimestre de 1995 é de R$ 0,6767.']}]\n",
            "[{'paragrafo': '§ 1º', 'texto': 'Para efeito de aplicação dos limites, bem como dos demais valores expressos em Ufir na legislação federal, a conversão dos valores em Reais para Ufir será efetuada utilizando-se o valor da Ufir vigente no trimestre de referência.', 'incisos': ['Para efeito de aplicação dos limites, bem como dos demais valores expressos em Ufir na legislação federal, a conversão dos valores em Reais para Ufir será efetuada utilizando-se o valor da Ufir vigente no trimestre de referência.']}]\n",
            "[{'paragrafo': '§ 1º', 'texto': 'A base de cálculo e o Imposto de Renda das pessoas jurídicas tributadas com base no lucro real, presumido ou arbitrado, correspondentes aos períodos-base encerrados no ano-calendário de 1994, serão expressos em quantidade de Ufir, observada a legislação então vigente.', 'incisos': ['A base de cálculo e o Imposto de Renda das pessoas jurídicas tributadas com base no lucro real, presumido ou arbitrado, correspondentes aos períodos-base encerrados no ano-calendário de 1994, serão expressos em quantidade de Ufir, observada a legislação então vigente.']}]\n",
            "[{'paragrafo': '§ 1º', 'texto': 'O Imposto de Renda devido pelas pessoas físicas, correspondente ao ano-calendário de 1994, será expresso em quantidade de Ufir, observada a legislação então vigente.', 'incisos': ['O Imposto de Renda devido pelas pessoas físicas, correspondente ao ano-calendário de 1994, será expresso em quantidade de Ufir, observada a legislação então vigente.']}]\n",
            "[{'paragrafo': '§ 1º', 'texto': 'Os débitos de qualquer natureza para com a Fazenda Nacional e os decorrentes de contribuições arrecadadas pela União, constituídos ou não, cujos fatos geradores ocorrerem até 31 de dezembro de 1994, inclusive os que foram objeto de parcelamento, expressos em quantidade de Ufir, serão reconvertidos para Real com base no valor desta fixado para o trimestre do pagamento.\\nParágrafo único. O disposto neste artigo se aplica também às contribuições sociais arrecadadas pelo Instituto Nacional de Seguro Social (INSS), relativas a períodos de competência anteriores a 1º de janeiro de 1995.', 'incisos': ['Os débitos de qualquer natureza para com a Fazenda Nacional e os decorrentes de contribuições arrecadadas pela União, constituídos ou não, cujos fatos geradores ocorrerem até 31 de dezembro de 1994, inclusive os que foram objeto de parcelamento, expressos em quantidade de Ufir, serão reconvertidos para Real com base no valor desta fixado para o trimestre do pagamento.\\nParágrafo único. O disposto neste artigo se aplica também às contribuições sociais arrecadadas pelo Instituto Nacional de Seguro Social (INSS), relativas a períodos de competência anteriores a 1º de janeiro de 1995.']}]\n",
            "[{'paragrafo': '§ 1º', 'texto': 'Os tributos e contribuições sociais, cujos fatos geradores vierem a ocorrer a partir de 1º de janeiro de 1995, serão apurados em Reais.\\nCAPÍTULO II\\nDo Imposto de Renda das Pessoas Físicas\\nSEÇÃO I\\nDisposições Gerais', 'incisos': ['Os tributos e contribuições sociais, cujos fatos geradores vierem a ocorrer a partir de 1º de janeiro de 1995, serão apurados em Reais.\\nCAPÍTULO II\\nDo Imposto de Renda das Pessoas Físicas\\nSEÇÃO I\\nDisposições Gerais']}]\n",
            "[{'paragrafo': '§ 1º', 'texto': 'O imposto de que trata este artigo deverá ser pago até o último dia útil do mês subseqüente ao da percepção dos ganhos.', 'incisos': ['O imposto de que trata este artigo deverá ser pago até o último dia útil do mês subseqüente ao da percepção dos ganhos.']}, {'paragrafo': '§ 2º', 'texto': 'Os ganhos a que se refere este artigo serão apurados e tributados em separado e não integrarão a base de cálculo do\\xa0 Imposto de Renda na declaração de ajuste anual, e o imposto pago não poderá ser deduzido do devido na declaração.\\n§ 3oNa hipótese de alienação em partes do mesmo bem ou direito, a partir da segunda operação, desde que realizada até o final do ano-calendário seguinte ao da primeira operação, o ganho de capital deve ser somado aos ganhos auferidos nas operações anteriores, para fins da apuração do imposto na forma docaput, deduzindo-se o montante do imposto pago nas operações anteriores.(Redação dada pela Lei nº 13.259, de 2016)Produção de efeito\\n§ 4oPara fins do disposto neste artigo, considera-se integrante do mesmo bem ou direito o conjunto de ações ou quotas de uma mesma pessoa jurídica.(Redação dada pela Lei nº 13.259, de 2016)Produção de efeito\\n§ 5o(VETADO).(Redação dada pela Lei nº 13.259, de 2016)Produção de efeito\\nArt. 22. Na apuração dos ganhos de capital na alienação de bens e direitos será considerado como custo de aquisição:\\nI - no caso de bens e direitos adquiridos até 31 de dezembro de 1994, o valor em Ufir, apurado na forma da legislação então vigente;\\nII - no caso de bens e direitos adquiridos a partir de 1º de janeiro de 1995, o valor pago convertido em Ufir com base no valor desta fixado para o trimestre de aquisição ou de cada pagamento, quando se tratar de pagamento parcelado.\\nParágrafo único. O custo de aquisição em Ufir será reconvertido para Reais com base no valor da Ufir vigente no trimestre em que ocorrer a alienação.\\nSEÇÃO V\\nDeclaração de Bens e Direitos\\nArt. 24. A partir do exercício financeiro de 1996, a pessoa física deverá apresentar relação pormenorizada de todos os bens e direitos, em Reais, que, no país ou no exterior, constituam, em 31 de dezembro do ano-calendário anterior, seu patrimônio e o de seus dependentes.\\nParágrafo único. Os valores dos bens e direitos adquiridos até 31 de dezembro de 1994, declarados em Ufir, serão reconvertidos para Reais, para efeito de preenchimento da declaração de bens e direitos a partir do ano-calendário de 1995, exercício de 1996, com base no valor da Ufir vigente no primeiro trimestre do ano-calendário de 1995.\\nCAPÍTULO III\\nDo Imposto de Renda das Pessoas Jurídicas\\nSEÇÃO I\\nNormas Gerais\\nArt. 25. A partir de 1º de janeiro de 1995, o Imposto de Renda das pessoas jurídicas, inclusive das equiparadas, será devido à medida em que os rendimentos, ganhos e lucros forem sendo auferidos.\\nArt. 26. As pessoas jurídicas determinarão o Imposto de Renda segundo as regras aplicáveis ao regime de tributação com base no lucro real, presumido ou arbitrado.', 'incisos': ['no caso de bens e direitos adquiridos até 31 de dezembro de 1994, o valor em Ufir, apurado na forma da legislação então vigente;', 'no caso de bens e direitos adquiridos a partir de 1º de janeiro de 1995, o valor pago convertido em Ufir com base no valor desta fixado para o trimestre de aquisição ou de cada pagamento, quando se tratar de pagamento parcelado.\\nParágrafo único. O custo de aquisição em Ufir será reconvertido para Reais com base no valor da Ufir vigente no trimestre em que ocorrer a alienação.\\nSEÇÃO V\\nDeclaração de Bens e Direitos\\nArt. 24. A partir do exercício financeiro de 1996, a pessoa física deverá apresentar relação pormenorizada de todos os bens e direitos, em Reais, que, no país ou no exterior, constituam, em 31 de dezembro do ano-calendário anterior, seu patrimônio e o de seus dependentes.\\nParágrafo único. Os valores dos bens e direitos adquiridos até 31 de dezembro de 1994, declarados em Ufir, serão reconvertidos para Reais, para efeito de preenchimento da declaração de bens e direitos a partir do ano-calendário de 1995, exercício de 1996, com base no valor da Ufir vigente no primeiro trimestre do ano-calendário de 1995.\\nCAPÍTULO III\\nDo Imposto de Renda das Pessoas Jurídicas\\nSEÇÃO I\\nNormas Gerais\\nArt. 25. A partir de 1º de janeiro de 1995, o Imposto de Renda das pessoas jurídicas, inclusive das equiparadas, será devido à medida em que os rendimentos, ganhos e lucros forem sendo auferidos.\\nArt. 26. As pessoas jurídicas determinarão o Imposto de Renda segundo as regras aplicáveis ao regime de tributação com base no lucro real, presumido ou arbitrado.']}, {'paragrafo': '§ 3º', 'texto': 'É facultado às sociedades civis de prestação de serviços relativos às profissões regulamentadas(art. 1º do Decreto-Lei nº 2.397, de 21 de dezembro de 1987)optarem pelo regime de tributação com base no lucro real ou presumido.', 'incisos': ['É facultado às sociedades civis de prestação de serviços relativos às profissões regulamentadas(art. 1º do Decreto-Lei nº 2.397, de 21 de dezembro de 1987)optarem pelo regime de tributação com base no lucro real ou presumido.']}, {'paragrafo': '§ 4º', 'texto': 'Na hipótese do parágrafo anterior, a opção, de caráter irretratável, se fará mediante o pagamento do imposto correspondente ao mês de janeiro do ano-calendário da opção ou do mês de início da atividade.\\nSEÇÃO II\\nDo Pagamento Mensal do Imposto\\nArt. 27. Para efeito de apuração do Imposto de Renda, relativo aos fatos geradores ocorridos em cada mês, a pessoa jurídica determinará a base de cálculo mensalmente, de acordo com as regras previstas nesta seção, sem prejuízo do ajuste previsto no art. 37.(Vide Lei nº 9.249, de 1995)\\nArt. 29. No caso das pessoas jurídicas a que se refere o art. 36, inciso III, desta lei, a base de cálculo do imposto será determinada mediante a aplicação do percentual de nove por cento sobre a receita bruta.(Vide Lei nº 9.249, de 1995)', 'incisos': ['Na hipótese do parágrafo anterior, a opção, de caráter irretratável, se fará mediante o pagamento do imposto correspondente ao mês de janeiro do ano-calendário da opção ou do mês de início da atividade.\\nSEÇÃO II\\nDo Pagamento Mensal do Imposto\\nArt. 27. Para efeito de apuração do Imposto de Renda, relativo aos fatos geradores ocorridos em cada mês, a pessoa jurídica determinará a base de cálculo mensalmente, de acordo com as regras previstas nesta seção, sem prejuízo do ajuste previsto no art. 37.(Vide Lei nº 9.249, de 1995)\\nArt. 29. No caso das pessoas jurídicas a que se refere o art. 36, inciso III, desta lei, a base de cálculo do imposto será determinada mediante a aplicação do percentual de nove por cento sobre a receita bruta.(Vide Lei nº 9.249, de 1995)']}, {'paragrafo': '§ 5º', 'texto': 'Poderão ser deduzidas da receita bruta :\\na) no caso das instituições financeiras, sociedades corretoras de títulos, valores mobiliários e câmbio e sociedades distribuidoras de títulos e valores mobiliários:\\na.1) as despesas incorridas na captação de recursos de terceiros;\\na.2) as despesas com obrigações por refinanciamentos, empréstimos e repasses de recursos de órgãos e instituições oficiais e do exterior;\\na.3) as despesas de cessão de créditos;\\na.4) as despesas de câmbio;\\na.5) as perdas com títulos e aplicações financeiras de renda fixa;\\na.6) as perdas nas operações de renda variável previstas no inciso III do art. 77.\\nb) no caso de empresas de seguros privados: o cosseguro e resseguro cedidos, os valores referentes a cancelamentos e restituições de prêmios e a parcela dos prêmios destinada à constituição de provisões ou reservas técnicas;\\nc) no caso de entidades de previdência privada abertas e de empresas de capitalização: a parcela das contribuições e prêmios, respectivamente, destinada à constituição de provisões ou reservas técnicas.\\nd)\\xa0no caso de operadoras de planos de assistência à saúde: as co-responsabilidades cedidas e a parcela das contraprestações pecuniárias destinada à constituição de provisões técnicas.(Incluído pela Medida Provisória nº 2.158-35, de 2001)', 'incisos': ['Poderão ser deduzidas da receita bruta :\\na) no caso das instituições financeiras, sociedades corretoras de títulos, valores mobiliários e câmbio e sociedades distribuidoras de títulos e valores mobiliários:\\na.1) as despesas incorridas na captação de recursos de terceiros;\\na.2) as despesas com obrigações por refinanciamentos, empréstimos e repasses de recursos de órgãos e instituições oficiais e do exterior;\\na.3) as despesas de cessão de créditos;\\na.4) as despesas de câmbio;\\na.5) as perdas com títulos e aplicações financeiras de renda fixa;\\na.6) as perdas nas operações de renda variável previstas no inciso III do art. 77.\\nb) no caso de empresas de seguros privados: o cosseguro e resseguro cedidos, os valores referentes a cancelamentos e restituições de prêmios e a parcela dos prêmios destinada à constituição de provisões ou reservas técnicas;\\nc) no caso de entidades de previdência privada abertas e de empresas de capitalização: a parcela das contribuições e prêmios, respectivamente, destinada à constituição de provisões ou reservas técnicas.\\nd)\\xa0no caso de operadoras de planos de assistência à saúde: as co-responsabilidades cedidas e a parcela das contraprestações pecuniárias destinada à constituição de provisões técnicas.(Incluído pela Medida Provisória nº 2.158-35, de 2001)']}, {'paragrafo': '§ 6º', 'texto': 'É vedada a dedução de qualquer despesa administrativa.\\nArt. 30. As pessoas jurídicas que explorem atividades imobiliárias relativa a loteamento de terrenos, incorporação imobiliária, construção de prédios destinados à venda, bem como a venda de imóveis construídos ou adquiridos para revenda, deverão considerar como receita bruta o montante efetivamente recebido, relativo às unidades imobiliárias vendidas.\\nParágrafo único. O disposto neste artigo aplica-se, inclusive, aos casos de empreitada ou fornecimento contratado nas condições doart. 10 do Decreto-lei nº 1.598, de 26 de dezembro de 1977, com pessoa jurídica de direito público, ou empresa sob seu controle, empresa pública, sociedade de economia mista ou sua subsidiária.(Incluído pela Lei nº 9.065, de 1995)\\nArt. 32. Os ganhos de capital, demais receitas e os resultados positivos decorrentes de receitas não abrangidas pelo artigo anterior serão acrescidos à base de cálculo determinada na forma dos arts. 28 ou 29, para efeito de incidência do Imposto de Renda de que trata esta seção.', 'incisos': ['É vedada a dedução de qualquer despesa administrativa.\\nArt. 30. As pessoas jurídicas que explorem atividades imobiliárias relativa a loteamento de terrenos, incorporação imobiliária, construção de prédios destinados à venda, bem como a venda de imóveis construídos ou adquiridos para revenda, deverão considerar como receita bruta o montante efetivamente recebido, relativo às unidades imobiliárias vendidas.\\nParágrafo único. O disposto neste artigo aplica-se, inclusive, aos casos de empreitada ou fornecimento contratado nas condições doart. 10 do Decreto-lei nº 1.598, de 26 de dezembro de 1977, com pessoa jurídica de direito público, ou empresa sob seu controle, empresa pública, sociedade de economia mista ou sua subsidiária.(Incluído pela Lei nº 9.065, de 1995)\\nArt. 32. Os ganhos de capital, demais receitas e os resultados positivos decorrentes de receitas não abrangidas pelo artigo anterior serão acrescidos à base de cálculo determinada na forma dos arts. 28 ou 29, para efeito de incidência do Imposto de Renda de que trata esta seção.']}, {'paragrafo': '§ 7º', 'texto': 'O disposto neste artigo não se aplica aos rendimentos tributados na forma dos arts. 65, 66, 67, 70, 72, 73 e 74, decorrentes das operações ali mencionadas, bem como aos lucros, dividendos ou resultado positivo decorrente da avaliação de investimentos pela equivalência patrimonial.\\n§ 2oO ganho de capital nas alienações de bens ou direitos classificados como investimento, imobilizado ou intangível e de aplicações em ouro, não tributadas na forma do art. 72, corresponderá à diferença positiva verificada entre o valor da alienação e o respectivo valor contábil.(Redação dada pela Lei nº 12.973, de 2014)(Vigência)\\n§ 3oNa apuração dos valores de que trata ocaput, deverão ser considerados os respectivos valores decorrentes do ajuste a valor presente de que trata oinciso VIII docaputdo art. 183 da Lei no6.404, de 15 de dezembro de 1976.(Incluído pela Lei nº 12.973, de 2014)(Vigência)\\n§ 4oPara fins do disposto no § 2o, poderão ser considerados no valor contábil, e na proporção deste, os respectivos valores decorrentes dos efeitos do ajuste a valor presente de que trata oinciso III do caput do art. 184 da Lei nº 6.404, de 15 de dezembro de 1976.(Incluído pela Lei nº 12.973, de 2014)(Vigência)\\n§ 5oOs ganhos decorrentes de avaliação de ativo ou passivo com base no valor justo não integrarão a base de cálculo do imposto, no momento em que forem apurados.(Incluído pela Lei nº 12.973, de 2014)(Vigência)\\n§ 6oPara fins do disposto nocaput, os ganhos e perdas decorrentes de avaliação do ativo com base em valor justo não serão considerados como parte integrante do valor contábil.(Incluído pela Lei nº 12.973, de 2014)(Vigência)\\n§ 7oO disposto no § 6onão se aplica aos ganhos que tenham sido anteriormente computados na base de cálculo do imposto.(Incluído pela Lei nº 12.973, de 2014)(Vigência)\\nArt. 34. Para efeito de pagamento, a pessoa jurídica poderá deduzir, do imposto apurado no mês, o imposto de renda pago ou retido na fonte sobre as receitas que integraram a base de cálculo correspondente (arts. 28 ou 29), bem como os incentivos de dedução do imposto, relativos ao Programa de Alimentação do Trabalhador, Vale-Transporte, Doações aos Fundos da Criança e do Adolescente, Atividades Culturais ou Artísticas e Atividade Audiovisual, observados os limites e prazos previstos na legislação vigente.(Redação dada\\xa0 pela Lei nº 9.065, de 1995)\\nArt. 35. A pessoa jurídica poderá suspender ou reduzir o pagamento do imposto devido em cada mês, desde que demonstre, através de balanços ou balancetes mensais, que o valor acumulado já pago excede o valor do imposto, inclusive adicional, calculado com base no lucro real do período em curso.', 'incisos': ['O disposto neste artigo não se aplica aos rendimentos tributados na forma dos arts. 65, 66, 67, 70, 72, 73 e 74, decorrentes das operações ali mencionadas, bem como aos lucros, dividendos ou resultado positivo decorrente da avaliação de investimentos pela equivalência patrimonial.\\n§ 2oO ganho de capital nas alienações de bens ou direitos classificados como investimento, imobilizado ou intangível e de aplicações em ouro, não tributadas na forma do art. 72, corresponderá à diferença positiva verificada entre o valor da alienação e o respectivo valor contábil.(Redação dada pela Lei nº 12.973, de 2014)(Vigência)\\n§ 3oNa apuração dos valores de que trata ocaput, deverão ser considerados os respectivos valores decorrentes do ajuste a valor presente de que trata oinciso VIII docaputdo art. 183 da Lei no6.404, de 15 de dezembro de 1976.(Incluído pela Lei nº 12.973, de 2014)(Vigência)\\n§ 4oPara fins do disposto no § 2o, poderão ser considerados no valor contábil, e na proporção deste, os respectivos valores decorrentes dos efeitos do ajuste a valor presente de que trata oinciso III do caput do art. 184 da Lei nº 6.404, de 15 de dezembro de 1976.(Incluído pela Lei nº 12.973, de 2014)(Vigência)\\n§ 5oOs ganhos decorrentes de avaliação de ativo ou passivo com base no valor justo não integrarão a base de cálculo do imposto, no momento em que forem apurados.(Incluído pela Lei nº 12.973, de 2014)(Vigência)\\n§ 6oPara fins do disposto nocaput, os ganhos e perdas decorrentes de avaliação do ativo com base em valor justo não serão considerados como parte integrante do valor contábil.(Incluído pela Lei nº 12.973, de 2014)(Vigência)\\n§ 7oO disposto no § 6onão se aplica aos ganhos que tenham sido anteriormente computados na base de cálculo do imposto.(Incluído pela Lei nº 12.973, de 2014)(Vigência)\\nArt. 34. Para efeito de pagamento, a pessoa jurídica poderá deduzir, do imposto apurado no mês, o imposto de renda pago ou retido na fonte sobre as receitas que integraram a base de cálculo correspondente (arts. 28 ou 29), bem como os incentivos de dedução do imposto, relativos ao Programa de Alimentação do Trabalhador, Vale-Transporte, Doações aos Fundos da Criança e do Adolescente, Atividades Culturais ou Artísticas e Atividade Audiovisual, observados os limites e prazos previstos na legislação vigente.(Redação dada\\xa0 pela Lei nº 9.065, de 1995)\\nArt. 35. A pessoa jurídica poderá suspender ou reduzir o pagamento do imposto devido em cada mês, desde que demonstre, através de balanços ou balancetes mensais, que o valor acumulado já pago excede o valor do imposto, inclusive adicional, calculado com base no lucro real do período em curso.']}, {'paragrafo': '§ 8º', 'texto': 'Os balanços ou balancetes de que trata este artigo:\\na) deverão ser levantados com observância das leis comerciais e fiscais e transcritos no livro Diário;\\nb) somente produzirão efeitos para determinação da parcela do Imposto de Renda e da contribuição social sobre o lucro devidos no decorrer do ano-calendário.', 'incisos': ['Os balanços ou balancetes de que trata este artigo:\\na) deverão ser levantados com observância das leis comerciais e fiscais e transcritos no livro Diário;\\nb) somente produzirão efeitos para determinação da parcela do Imposto de Renda e da contribuição social sobre o lucro devidos no decorrer do ano-calendário.']}, {'paragrafo': '§ 9º', 'texto': 'Estão dispensadas do pagamento de que tratam os arts. 28 e 29 as pessoas jurídicas que, através de balanço ou balancetes mensais, demonstrem a existência de prejuízos fiscais apurados a partir do mês de janeiro do ano-calendário.(Redação dada\\xa0 pela Lei nº 9.065, de 1995)', 'incisos': ['Estão dispensadas do pagamento de que tratam os arts. 28 e 29 as pessoas jurídicas que, através de balanço ou balancetes mensais, demonstrem a existência de prejuízos fiscais apurados a partir do mês de janeiro do ano-calendário.(Redação dada\\xa0 pela Lei nº 9.065, de 1995)']}, {'paragrafo': '§ 10º', 'texto': 'O pagamento mensal, relativo ao mês de janeiro do ano-calendário, poderá ser efetuado com base em balanço ou balancete mensal, desde que neste fique demonstrado que o imposto devido no período é inferior ao calculado com base no disposto nos arts. 28 e 29.(Incluído pela Lei nº 9.065, de 1995)', 'incisos': ['O pagamento mensal, relativo ao mês de janeiro do ano-calendário, poderá ser efetuado com base em balanço ou balancete mensal, desde que neste fique demonstrado que o imposto devido no período é inferior ao calculado com base no disposto nos arts. 28 e 29.(Incluído pela Lei nº 9.065, de 1995)']}, {'paragrafo': '§ 11º', 'texto': 'O Poder Executivo poderá baixar instruções para a aplicação do disposto neste artigo.(Incluído pela Lei nº 9.065, de 1995)\\nSEÇÃO III\\nDo Regime de Tributação com Base no Lucro Real\\nArt. 37. Sem prejuízo dos pagamentos mensais do imposto, as pessoas jurídicas obrigadas ao regime de tributação com base no lucro real (art. 36) e as pessoas jurídicas que não optarem pelo regime de tributação com base no lucro presumido (art. 44) deverão, para efeito de determinação do saldo de imposto a pagar ou a ser compensado, apurar o lucro real em 31 de dezembro de cada ano-calendário ou na data da extinção.', 'incisos': ['O Poder Executivo poderá baixar instruções para a aplicação do disposto neste artigo.(Incluído pela Lei nº 9.065, de 1995)\\nSEÇÃO III\\nDo Regime de Tributação com Base no Lucro Real\\nArt. 37. Sem prejuízo dos pagamentos mensais do imposto, as pessoas jurídicas obrigadas ao regime de tributação com base no lucro real (art. 36) e as pessoas jurídicas que não optarem pelo regime de tributação com base no lucro presumido (art. 44) deverão, para efeito de determinação do saldo de imposto a pagar ou a ser compensado, apurar o lucro real em 31 de dezembro de cada ano-calendário ou na data da extinção.']}, {'paragrafo': '§ 12º', 'texto': 'A determinação do lucro real será precedida da apuração do lucro líquido com observância das disposições das leis comerciais.', 'incisos': ['A determinação do lucro real será precedida da apuração do lucro líquido com observância das disposições das leis comerciais.']}, {'paragrafo': '§ 13º', 'texto': 'Sobre o lucro real será aplicada a alíquota de 25%, sem prejuízo do disposto no art. 39.', 'incisos': ['Sobre o lucro real será aplicada a alíquota de 25%, sem prejuízo do disposto no art. 39.']}, {'paragrafo': '§ 14º', 'texto': 'Para efeito de determinação do saldo do imposto a pagar ou a ser compensado, a pessoa jurídica poderá deduzir do imposto devido o valor:\\na) dos incentivos fiscais de dedução do imposto, observados os limites e prazos fixados na legislação vigente, bem como o disposto no § 2º do art. 39;\\nb) dos incentivos fiscais de redução e isenção do imposto, calculados com base no lucro da exploração;\\nc) do Imposto de Renda pago ou retido na fonte, incidentes sobre receitas computadas na determinação do lucro real;\\nd) do Imposto de Renda calculado na forma dos arts. 27 a 35 desta lei, pago mensalmente.', 'incisos': ['Para efeito de determinação do saldo do imposto a pagar ou a ser compensado, a pessoa jurídica poderá deduzir do imposto devido o valor:\\na) dos incentivos fiscais de dedução do imposto, observados os limites e prazos fixados na legislação vigente, bem como o disposto no § 2º do art. 39;\\nb) dos incentivos fiscais de redução e isenção do imposto, calculados com base no lucro da exploração;\\nc) do Imposto de Renda pago ou retido na fonte, incidentes sobre receitas computadas na determinação do lucro real;\\nd) do Imposto de Renda calculado na forma dos arts. 27 a 35 desta lei, pago mensalmente.']}, {'paragrafo': '§ 15º', 'texto': 'O disposto no caput somente alcança as pessoas jurídicas que:\\na) efetuaram o pagamento do Imposto de Renda e da contribuição social sobre o lucro, devidos no curso do ano-calendário, com base nas regras previstas nos arts. 27 a 34;\\nb) demonstrarem, através de balanços ou balancetes mensais (art. 35):(Redação dada\\xa0 pela Lei nº 9.065, de 1995\\nb.1) que o valor pago a menor decorreu da apuração do lucro real e da base de cálculo da contribuição social sobre o lucro, na forma da legislação comercial e fiscal; ou(Incluído pela Lei nº 9.065, de 1995\\nb.2) a existência de prejuízos fiscais, a partir do mês de janeiro do referido ano-calendário.(Incluído pela Lei nº 9.065, de 1995', 'incisos': ['O disposto no caput somente alcança as pessoas jurídicas que:\\na) efetuaram o pagamento do Imposto de Renda e da contribuição social sobre o lucro, devidos no curso do ano-calendário, com base nas regras previstas nos arts. 27 a 34;\\nb) demonstrarem, através de balanços ou balancetes mensais (art. 35):(Redação dada\\xa0 pela Lei nº 9.065, de 1995\\nb.1) que o valor pago a menor decorreu da apuração do lucro real e da base de cálculo da contribuição social sobre o lucro, na forma da legislação comercial e fiscal; ou(Incluído pela Lei nº 9.065, de 1995\\nb.2) a existência de prejuízos fiscais, a partir do mês de janeiro do referido ano-calendário.(Incluído pela Lei nº 9.065, de 1995']}, {'paragrafo': '§ 16º', 'texto': 'As pessoas jurídicas não enquadradas nas disposições contidas no § 5º deverão determinar, mensalmente, o lucro real e a base de cálculo da contribuição social sobre o lucro, de acordo com a legislação comercial e fiscal.', 'incisos': ['As pessoas jurídicas não enquadradas nas disposições contidas no § 5º deverão determinar, mensalmente, o lucro real e a base de cálculo da contribuição social sobre o lucro, de acordo com a legislação comercial e fiscal.']}, {'paragrafo': '§ 17º', 'texto': 'Na hipótese do parágrafo anterior o imposto e a contribuição social sobre o lucro devidos terão por vencimento o último dia útil do mês subseqüente ao de encerramento do período mensal.\\nArt. 39. O lucro real ou arbitrado da pessoa jurídica estará sujeito a um adicional do Imposto de Renda à alíquota de:\\nI - doze por cento sobre a parcela do lucro real que ultrapassar R$ 180.000,00 até R$ 780.000,00;\\nII - dezoito por cento sobre a parcela do lucro real que ultrapassar R$ 780.000,00;\\nIII - doze por cento sobre a parcela do lucro arbitrado que ultrapassar R$ 15.000,00 até R$ 65.000,00;\\nIV - dezoito por cento sobre a parcela do lucro arbitrado que ultrapassar R$ 65.000,00.', 'incisos': ['doze por cento sobre a parcela do lucro real que ultrapassar R$ 180.000,00 até R$ 780.000,00;', 'dezoito por cento sobre a parcela do lucro real que ultrapassar R$ 780.000,00;', 'doze por cento sobre a parcela do lucro arbitrado que ultrapassar R$ 15.000,00 até R$ 65.000,00;', 'dezoito por cento sobre a parcela do lucro arbitrado que ultrapassar R$ 65.000,00.']}, {'paragrafo': '§ 18º', 'texto': 'Os limites previstos nos incisos I e II serão proporcionais ao número de meses transcorridos do ano-calendário, quando o período de apuração for inferior a doze meses.', 'incisos': ['Os limites previstos nos incisos I e II serão proporcionais ao número de meses transcorridos do ano-calendário, quando o período de apuração for inferior a doze meses.']}, {'paragrafo': '§ 19º', 'texto': 'O valor do adicional será recolhido integralmente, não sendo permitidas quaisquer deduções.\\nSUBSEÇÃO I\\nDas Alterações na Apuração do Lucro Real\\nArt. 41. Os tributos e contribuições são dedutíveis, na determinação do lucro real, segundo o regime de competência.', 'incisos': ['O valor do adicional será recolhido integralmente, não sendo permitidas quaisquer deduções.\\nSUBSEÇÃO I\\nDas Alterações na Apuração do Lucro Real\\nArt. 41. Os tributos e contribuições são dedutíveis, na determinação do lucro real, segundo o regime de competência.']}, {'paragrafo': '§ 20º', 'texto': 'O disposto neste artigo não se aplica aos tributos e contribuições cuja exigibilidade esteja suspensa, nos termos dos incisosII a IV do art. 151 da Lei nº 5.172, de 25 de outubro de 1966, haja ou não depósito judicial.', 'incisos': ['O disposto neste artigo não se aplica aos tributos e contribuições cuja exigibilidade esteja suspensa, nos termos dos incisosII a IV do art. 151 da Lei nº 5.172, de 25 de outubro de 1966, haja ou não depósito judicial.']}, {'paragrafo': '§ 21º', 'texto': 'Na determinação do lucro real, a pessoa jurídica não poderá deduzir como custo ou despesa o Imposto de Renda de que for sujeito passivo como contribuinte ou responsável em substituição ao contribuinte.', 'incisos': ['Na determinação do lucro real, a pessoa jurídica não poderá deduzir como custo ou despesa o Imposto de Renda de que for sujeito passivo como contribuinte ou responsável em substituição ao contribuinte.']}, {'paragrafo': '§ 22º', 'texto': 'A dedutibilidade, como custo ou despesa, de rendimentos pagos ou creditados a terceiros abrange o imposto sobre os rendimentos que o contribuinte, como fonte pagadora, tiver o dever legal de reter e recolher, ainda que assuma o ônus do imposto.', 'incisos': ['A dedutibilidade, como custo ou despesa, de rendimentos pagos ou creditados a terceiros abrange o imposto sobre os rendimentos que o contribuinte, como fonte pagadora, tiver o dever legal de reter e recolher, ainda que assuma o ônus do imposto.']}, {'paragrafo': '§ 23º', 'texto': 'Os impostos pagos pela pessoa jurídica na aquisição de bens do ativo permanente poderão, a seu critério, ser registrados como custo de aquisição ou deduzidos como despesas operacionais, salvo os pagos na importação de bens que se acrescerão ao custo de aquisição.', 'incisos': ['Os impostos pagos pela pessoa jurídica na aquisição de bens do ativo permanente poderão, a seu critério, ser registrados como custo de aquisição ou deduzidos como despesas operacionais, salvo os pagos na importação de bens que se acrescerão ao custo de aquisição.']}, {'paragrafo': '§ 24º', 'texto': 'Não são dedutíveis como custo ou despesas operacionais as multas por infrações fiscais, salvo as de natureza compensatória e as impostas por infrações de que não resultem falta ou insuficiência de pagamento de tributo.\\n§ 6oAs contribuições sociais incidentes sobre o faturamento ou receita bruta e sobre o valor das importações, pagas pela pessoa jurídica na aquisição de bens destinados ao ativo permanente, serão acrescidas ao custo de aquisição.(Incluído pela Lei nº 10.865, de 2004)\\nArt. 42. A partir de 1º de janeiro de 1995, para efeito de determinar o lucro real, o lucro líquido ajustado pelas adições e exclusões previstas ou autorizadas pela legislação do Imposto de Renda, poderá ser reduzido em, no máximo, trinta por cento.(Vide Lei nº 9.065, de 1995\\nParágrafo único. A parcela dos prejuízos fiscais apurados até 31 de dezembro de 1994, não compensada em razão do disposto no caput deste artigo poderá ser utilizada nos anos-calendário subseqüentes.\\nArt. 43. Poderão ser registradas, como custo ou despesa operacional, as importâncias necessárias à formação de provisão para créditos de liquidação duvidosa.(Vide Lei nº 9.430, de 1996)', 'incisos': ['Não são dedutíveis como custo ou despesas operacionais as multas por infrações fiscais, salvo as de natureza compensatória e as impostas por infrações de que não resultem falta ou insuficiência de pagamento de tributo.\\n§ 6oAs contribuições sociais incidentes sobre o faturamento ou receita bruta e sobre o valor das importações, pagas pela pessoa jurídica na aquisição de bens destinados ao ativo permanente, serão acrescidas ao custo de aquisição.(Incluído pela Lei nº 10.865, de 2004)\\nArt. 42. A partir de 1º de janeiro de 1995, para efeito de determinar o lucro real, o lucro líquido ajustado pelas adições e exclusões previstas ou autorizadas pela legislação do Imposto de Renda, poderá ser reduzido em, no máximo, trinta por cento.(Vide Lei nº 9.065, de 1995\\nParágrafo único. A parcela dos prejuízos fiscais apurados até 31 de dezembro de 1994, não compensada em razão do disposto no caput deste artigo poderá ser utilizada nos anos-calendário subseqüentes.\\nArt. 43. Poderão ser registradas, como custo ou despesa operacional, as importâncias necessárias à formação de provisão para créditos de liquidação duvidosa.(Vide Lei nº 9.430, de 1996)']}, {'paragrafo': '§ 25º', 'texto': 'A importância dedutível como provisão para créditos de liquidação duvidosa será a necessária a tornar a provisão suficiente para absorver as perdas que provavelmente ocorrerão no recebimento dos créditos existentes ao fim de cada período de apuração do lucro real.(Vide Lei nº 9.430, de 1996)', 'incisos': ['A importância dedutível como provisão para créditos de liquidação duvidosa será a necessária a tornar a provisão suficiente para absorver as perdas que provavelmente ocorrerão no recebimento dos créditos existentes ao fim de cada período de apuração do lucro real.(Vide Lei nº 9.430, de 1996)']}, {'paragrafo': '§ 26º', 'texto': 'O montante dos créditos referidos no parágrafo anterior abrange exclusivamente os créditos oriundos da exploração da atividade econômica da pessoa jurídica, decorrentes da venda de bens nas operações de conta própria, dos serviços prestados e das operações de conta alheia.(Vide Lei nº 9.430, de 1996)', 'incisos': ['O montante dos créditos referidos no parágrafo anterior abrange exclusivamente os créditos oriundos da exploração da atividade econômica da pessoa jurídica, decorrentes da venda de bens nas operações de conta própria, dos serviços prestados e das operações de conta alheia.(Vide Lei nº 9.430, de 1996)']}, {'paragrafo': '§ 27º', 'texto': 'Do montante dos créditos referidos no parágrafo anterior deverão ser excluídos:(Vide Lei nº 9.430, de 1996)\\na) os provenientes de vendas com reserva de domínio, de alienação fiduciária em garantia, ou de operações com garantia real;(Vide Lei nº 9.430, de 1996)\\nb) os créditos com pessoa jurídica de direito público ou empresa sob seu controle, empresa pública, sociedade de economia mista ou sua subsidiária;(Vide Lei nº 9.065, de 1995)(Vide Lei nº 9.430, de 1996)\\nc) os créditos com pessoas jurídicas coligadas, interligadas, controladoras e controladas ou associadas por qualquer forma;(Vide Lei nº 9.430, de 1996)\\nd) os créditos com administrador, sócio ou acionista, titular ou com seu cônjuge ou parente até o terceiro grau, inclusive os afins;(Vide Lei nº 9.430, de 1996)\\ne) a parcela dos créditos correspondentes às receitas que não tenham transitado por conta de resultado;(Vide Lei nº 9.430, de 1996)\\nf) o valor dos créditos adquiridos com coobrigação;(Vide Lei nº 9.430, de 1996)\\ng) o valor dos créditos cedidos sem coobrigação;(Vide Lei nº 9.430, de 1996)\\nh) o valor correspondente ao bem arrendado, no caso de pessoas jurídicas que operam com arrendamento mercantil;(Vide Lei nº 9.430, de 1996)\\ni) o valor dos créditos e direitos junto a instituições financeiras, demais instituições autorizadas a funcionar pelo Banco Central do Brasil e a sociedades e fundos de investimentos.(Vide Lei nº 9.430, de 1996)', 'incisos': ['Do montante dos créditos referidos no parágrafo anterior deverão ser excluídos:(Vide Lei nº 9.430, de 1996)\\na) os provenientes de vendas com reserva de domínio, de alienação fiduciária em garantia, ou de operações com garantia real;(Vide Lei nº 9.430, de 1996)\\nb) os créditos com pessoa jurídica de direito público ou empresa sob seu controle, empresa pública, sociedade de economia mista ou sua subsidiária;(Vide Lei nº 9.065, de 1995)(Vide Lei nº 9.430, de 1996)\\nc) os créditos com pessoas jurídicas coligadas, interligadas, controladoras e controladas ou associadas por qualquer forma;(Vide Lei nº 9.430, de 1996)\\nd) os créditos com administrador, sócio ou acionista, titular ou com seu cônjuge ou parente até o terceiro grau, inclusive os afins;(Vide Lei nº 9.430, de 1996)\\ne) a parcela dos créditos correspondentes às receitas que não tenham transitado por conta de resultado;(Vide Lei nº 9.430, de 1996)\\nf) o valor dos créditos adquiridos com coobrigação;(Vide Lei nº 9.430, de 1996)\\ng) o valor dos créditos cedidos sem coobrigação;(Vide Lei nº 9.430, de 1996)\\nh) o valor correspondente ao bem arrendado, no caso de pessoas jurídicas que operam com arrendamento mercantil;(Vide Lei nº 9.430, de 1996)\\ni) o valor dos créditos e direitos junto a instituições financeiras, demais instituições autorizadas a funcionar pelo Banco Central do Brasil e a sociedades e fundos de investimentos.(Vide Lei nº 9.430, de 1996)']}, {'paragrafo': '§ 28º', 'texto': 'Para efeito de determinação do saldo adequado da provisão, aplicar-se-á, sobre o montante dos créditos a que se refere este artigo, o percentual obtido pela relação entre a soma das perdas efetivamente ocorridas nos últimos três anos-calendário, relativas aos créditos decorrentes do exercício da atividade econômica, e a soma dos créditos da mesma espécie existentes no início dos anos-calendário correspondentes, observando-se que:(Vide Lei nº 9.430, de 1996)\\na) para efeito da relação estabelecida neste parágrafo, não poderão ser computadas as perdas relativas a créditos constituídos no próprio ano-calendário;(Vide Lei nº 9.430, de 1996)\\nb) o valor das perdas, relativas a créditos sujeitos à atualização monetária, será o constante do saldo no início do ano-calendário considerado.(Vide Lei nº 9.430, de 1996)', 'incisos': ['Para efeito de determinação do saldo adequado da provisão, aplicar-se-á, sobre o montante dos créditos a que se refere este artigo, o percentual obtido pela relação entre a soma das perdas efetivamente ocorridas nos últimos três anos-calendário, relativas aos créditos decorrentes do exercício da atividade econômica, e a soma dos créditos da mesma espécie existentes no início dos anos-calendário correspondentes, observando-se que:(Vide Lei nº 9.430, de 1996)\\na) para efeito da relação estabelecida neste parágrafo, não poderão ser computadas as perdas relativas a créditos constituídos no próprio ano-calendário;(Vide Lei nº 9.430, de 1996)\\nb) o valor das perdas, relativas a créditos sujeitos à atualização monetária, será o constante do saldo no início do ano-calendário considerado.(Vide Lei nº 9.430, de 1996)']}, {'paragrafo': '§ 29º', 'texto': 'Além da percentagem a que se refere o § 4º, a provisão poderá ser acrescida:(Vide Lei nº 9.430, de 1996)\\na) da diferença entre o montante do crédito habilitado e a proposta de liquidação pelo concordatário, nos casos de concordata, desde o momento em que esta for requerida\\xa0\\xa0\\xa0\\xa0\\xa0\\xa0\\xa0\\xa0\\xa0\\xa0\\xa0\\xa0\\xa0\\xa0\\xa0\\xa0\\xa0\\xa0\\xa0 ;(Vide Lei nº 9.430, de 1996)\\nb) de até cinqüenta por cento do crédito habilitado, nos casos de falência do devedor, desde o momento de sua decretação.(Vide Lei nº 9.430, de 1996)', 'incisos': ['Além da percentagem a que se refere o § 4º, a provisão poderá ser acrescida:(Vide Lei nº 9.430, de 1996)\\na) da diferença entre o montante do crédito habilitado e a proposta de liquidação pelo concordatário, nos casos de concordata, desde o momento em que esta for requerida\\xa0\\xa0\\xa0\\xa0\\xa0\\xa0\\xa0\\xa0\\xa0\\xa0\\xa0\\xa0\\xa0\\xa0\\xa0\\xa0\\xa0\\xa0\\xa0 ;(Vide Lei nº 9.430, de 1996)\\nb) de até cinqüenta por cento do crédito habilitado, nos casos de falência do devedor, desde o momento de sua decretação.(Vide Lei nº 9.430, de 1996)']}, {'paragrafo': '§ 30º', 'texto': 'Nos casos de concordata ou falência do devedor, não serão admitidos como perdas os créditos que não forem habilitados, ou que tiverem a sua habilitação denegada.(Vide Lei nº 9.430, de 1996)', 'incisos': ['Nos casos de concordata ou falência do devedor, não serão admitidos como perdas os créditos que não forem habilitados, ou que tiverem a sua habilitação denegada.(Vide Lei nº 9.430, de 1996)']}, {'paragrafo': '§ 31º', 'texto': 'Os prejuízos realizados no recebimento de créditos serão obrigatoriamente debitados à provisão referida neste artigo e o eventual excesso verificado será debitado a despesas operacionais.(Vide Lei nº 9.430, de 1996)', 'incisos': ['Os prejuízos realizados no recebimento de créditos serão obrigatoriamente debitados à provisão referida neste artigo e o eventual excesso verificado será debitado a despesas operacionais.(Vide Lei nº 9.430, de 1996)']}, {'paragrafo': '§ 32º', 'texto': 'O débito dos prejuízos a que se refere o parágrafo anterior poderá ser efetuado, independentemente de se terem esgotados os recursos para sua cobrança, após o decurso de:(Redação dada\\xa0 pela Lei nº 9.065, de 1995)(Vide Lei nº 9.430, de 1996)\\na) um ano de seu vencimento, se em valor inferior a 5.000 UFIR, por devedor;(Incluído pela Lei nº 9.065, de 1995)(Vide Lei nº 9.430, de 1996)\\nb) dois anos de seu vencimento, se superior ao limite referido na alínea a, não podendo exceder a vinte e cinco por cento do lucro real, antes de computada essa dedução.(Incluído pela Lei nº 9.065, de 1995)(Vide Lei nº 9.430, de 1996)', 'incisos': ['O débito dos prejuízos a que se refere o parágrafo anterior poderá ser efetuado, independentemente de se terem esgotados os recursos para sua cobrança, após o decurso de:(Redação dada\\xa0 pela Lei nº 9.065, de 1995)(Vide Lei nº 9.430, de 1996)\\na) um ano de seu vencimento, se em valor inferior a 5.000 UFIR, por devedor;(Incluído pela Lei nº 9.065, de 1995)(Vide Lei nº 9.430, de 1996)\\nb) dois anos de seu vencimento, se superior ao limite referido na alínea a, não podendo exceder a vinte e cinco por cento do lucro real, antes de computada essa dedução.(Incluído pela Lei nº 9.065, de 1995)(Vide Lei nº 9.430, de 1996)']}, {'paragrafo': '§ 33º', 'texto': 'Os prejuízos debitados em prazos inferiores, conforme o caso, aos estabelecidos no parágrafo anterior, somente serão dedutíveis quando houverem sido esgotados os recursos para sua cobrança.(Redação dada\\xa0 pela Lei nº 9.065, de 1995)(Vide Lei nº 9.430, de 1996)\\n§ 10. Consideram-se esgotados os recursos de cobrança quando o credor valer-se de todos os meios legais à sua disposição.(Vide Lei nº 9.430, de 1996)\\n§ 11. Os débitos a que se refere a alínea b do § 8º não alcançam os créditos referidos nas alíneas a, b, c, d, e e h do § 3º.(Incluído pela Lei nº 9.065, de 1995)(Vide Lei nº 9.430, de 1996)\\nSEÇÃO IV\\nDo Regime de Tributação com Base no Lucro Presumido\\nArt. 44. As pessoas jurídicas, cuja receita total, no ano-calendário anterior, tenha sido igual ou inferior a 12.000.000 de UFIR, poderão optar, por ocasião da entrega da declaração de rendimentos, pelo regime de tributação com base no lucro presumido.(Redação dada\\xa0 pela Lei nº 9.065, de 1995)(Vide Lei nº 9.249, de 1995)', 'incisos': ['Os prejuízos debitados em prazos inferiores, conforme o caso, aos estabelecidos no parágrafo anterior, somente serão dedutíveis quando houverem sido esgotados os recursos para sua cobrança.(Redação dada\\xa0 pela Lei nº 9.065, de 1995)(Vide Lei nº 9.430, de 1996)\\n§ 10. Consideram-se esgotados os recursos de cobrança quando o credor valer-se de todos os meios legais à sua disposição.(Vide Lei nº 9.430, de 1996)\\n§ 11. Os débitos a que se refere a alínea b do § 8º não alcançam os créditos referidos nas alíneas a, b, c, d, e e h do § 3º.(Incluído pela Lei nº 9.065, de 1995)(Vide Lei nº 9.430, de 1996)\\nSEÇÃO IV\\nDo Regime de Tributação com Base no Lucro Presumido\\nArt. 44. As pessoas jurídicas, cuja receita total, no ano-calendário anterior, tenha sido igual ou inferior a 12.000.000 de UFIR, poderão optar, por ocasião da entrega da declaração de rendimentos, pelo regime de tributação com base no lucro presumido.(Redação dada\\xa0 pela Lei nº 9.065, de 1995)(Vide Lei nº 9.249, de 1995)']}, {'paragrafo': '§ 34º', 'texto': 'O limite previsto neste artigo será proporcional ao número de meses do ano-calendário, no caso de início de atividade.', 'incisos': ['O limite previsto neste artigo será proporcional ao número de meses do ano-calendário, no caso de início de atividade.']}, {'paragrafo': '§ 35º', 'texto': 'Na hipótese deste artigo, o Imposto de Renda devido, relativo aos fatos geradores ocorridos em cada mês (arts. 27 a 32) será considerado definitivo.\\nArt. 45. A pessoa jurídica habilitada à opção pelo regime de tributação com base no lucro presumido deverá manter:\\nI - escrituração contábil nos termos da legislação comercial;\\nII - Livro Registro de Inventário, no qual deverão constar registrados os estoques existentes no término do ano-calendário abrangido pelo regime de tributação simplificada;\\nIII - em boa guarda e ordem, enquanto não decorrido o prazo decadencial e não prescritas eventuais ações que lhes sejam pertinentes, todos os livros de escrituração obrigatórios por legislação fiscal específica, bem como os documentos e demais papéis que serviram de base para escrituração comercial e fiscal.\\nParágrafo único. O disposto no inciso I deste artigo não se aplica à pessoa jurídica que, no decorrer do ano-calendário, mantiver livro Caixa, no qual deverá estar escriturado toda a movimentação financeira, inclusive bancária.\\nSEÇÃO V\\nDo Regime de Tributação com Base no Lucro Arbitrado\\nArt. 47. O lucro da pessoa jurídica será arbitrado quando:\\nI - o contribuinte, obrigado à tributação com base no lucro real ou submetido ao regime de tributação de que trata oDecreto-Lei nº 2.397, de 1987, não mantiver escrituração na forma das leis comerciais e fiscais, ou deixar de elaborar as demonstrações financeiras exigidas pela legislação fiscal;\\nII - a escrituração a que estiver obrigado o contribuinte revelar evidentes indícios de fraude ou contiver vícios, erros ou deficiências que a tornem imprestável para:\\na) identificar a efetiva movimentação financeira, inclusive bancária; ou\\nb) determinar o lucro real.\\nIII - o contribuinte deixar de apresentar à autoridade tributária os livros e documentos da escrituração comercial e fiscal, ou o livro Caixa, na hipótese de que trata o art. 45, parágrafo único;\\nIV - o contribuinte optar indevidamente pela tributação com base no lucro presumido;\\nV - o comissário ou representante da pessoa jurídica estrangeira deixar de cumprir o disposto no§ 1º do art. 76 da Lei nº 3.470, de 28 de novembro de 1958;\\nVII - o contribuinte não mantiver, em boa ordem e segundo as normas contábeis recomendadas, livro Razão ou fichas utilizados para resumir e totalizar, por conta ou subconta, os lançamentos efetuados no Diário.\\nVIII \\x96 o contribuinte não escriturar ou deixar de apresentar à autoridade tributária os livros ou registros auxiliares de que tratao§ 2odo art. 177 da Lei no6.404, de 15 de dezembro de 1976, e§ 2odo art. 8odo Decreto-Lei no1.598, de 26 de dezembro de 1977.(Redação dada pela Lei nº 11.941, de 2009)', 'incisos': ['escrituração contábil nos termos da legislação comercial;', 'Livro Registro de Inventário, no qual deverão constar registrados os estoques existentes no término do ano-calendário abrangido pelo regime de tributação simplificada;', 'em boa guarda e ordem, enquanto não decorrido o prazo decadencial e não prescritas eventuais ações que lhes sejam pertinentes, todos os livros de escrituração obrigatórios por legislação fiscal específica, bem como os documentos e demais papéis que serviram de base para escrituração comercial e fiscal.\\nParágrafo único. O disposto no inciso I deste artigo não se aplica à pessoa jurídica que, no decorrer do ano-calendário, mantiver livro Caixa, no qual deverá estar escriturado toda a movimentação financeira, inclusive bancária.\\nSEÇÃO V\\nDo Regime de Tributação com Base no Lucro Arbitrado\\nArt. 47. O lucro da pessoa jurídica será arbitrado quando:', 'o contribuinte, obrigado à tributação com base no lucro real ou submetido ao regime de tributação de que trata oDecreto-Lei nº 2.397, de 1987, não mantiver escrituração na forma das leis comerciais e fiscais, ou deixar de elaborar as demonstrações financeiras exigidas pela legislação fiscal;', 'a escrituração a que estiver obrigado o contribuinte revelar evidentes indícios de fraude ou contiver vícios, erros ou deficiências que a tornem imprestável para:\\na) identificar a efetiva movimentação financeira, inclusive bancária; ou\\nb) determinar o lucro real.', 'o contribuinte deixar de apresentar à autoridade tributária os livros e documentos da escrituração comercial e fiscal, ou o livro Caixa, na hipótese de que trata o art. 45, parágrafo único;', 'o contribuinte optar indevidamente pela tributação com base no lucro presumido;', 'o comissário ou representante da pessoa jurídica estrangeira deixar de cumprir o disposto no§ 1º do art. 76 da Lei nº 3.470, de 28 de novembro de 1958;', 'o contribuinte não mantiver, em boa ordem e segundo as normas contábeis recomendadas, livro Razão ou fichas utilizados para resumir e totalizar, por conta ou subconta, os lançamentos efetuados no Diário.\\nVIII \\x96 o contribuinte não escriturar ou deixar de apresentar à autoridade tributária os livros ou registros auxiliares de que tratao§ 2odo art. 177 da Lei no6.404, de 15 de dezembro de 1976, e§ 2odo art. 8odo Decreto-Lei no1.598, de 26 de dezembro de 1977.(Redação dada pela Lei nº 11.941, de 2009)']}, {'paragrafo': '§ 36º', 'texto': 'Quando conhecida a receita bruta, o contribuinte poderá efetuar o pagamento do Imposto de Renda correspondente com base nas regras previstas nesta seção.', 'incisos': ['Quando conhecida a receita bruta, o contribuinte poderá efetuar o pagamento do Imposto de Renda correspondente com base nas regras previstas nesta seção.']}, {'paragrafo': '§ 37º', 'texto': 'Na hipótese do parágrafo anterior:\\na) a apuração do Imposto de Renda com base no lucro arbitrado abrangerá todo o ano-calendário, assegurada a tributação com base no lucro real relativa aos meses não submetidos ao arbitramento, se a pessoa jurídica dispuser de escrituração exigida pela legislação comercial e fiscal que demonstre o lucro real dos períodos não abrangido por aquela modalidade de tributação, observado o disposto no § 5º do art. 37;\\nb) o imposto apurado com base no lucro real, na forma da alínea anterior, terá por vencimento o último dia útil do mês subseqüente ao de encerramento do referido período.\\nArt. 49. As pessoas jurídicas que se dedicarem à venda de imóveis construídos ou adquiridos para revenda, ao loteamento de terrenos e à incorporação de prédios em condomínio terão seus lucros arbitrados deduzindo-se da receita bruta o custo do imóvel devidamente comprovado.\\nParágrafo único. O lucro arbitrado será tributado na proporção da receita recebida ou cujo recebimento esteja previsto para o próprio mês.\\nArt. 51. O lucro arbitrado das pessoas jurídicas, quando não conhecida a receita bruta, será determinado através de procedimento de ofício, mediante a utilização de uma das seguintes alternativas de cálculo:\\nI - 1,5 (um inteiro e cinco décimos) do lucro real referente ao último período em que pessoa jurídica manteve escrituração de acordo com as leis comerciais e fiscais, atualizado monetariamente;\\nII - 0,04 (quatro centésimos) da soma dos valores do ativo circulante, realizável a longo prazo e permanente, existentes no último balanço patrimonial conhecido, atualizado monetariamente;\\nIII - 0,07 (sete centésimos) do valor do capital, inclusive a sua correção monetária contabilizada como reserva de capital, constante do último balanço patrimonial conhecido ou registrado nos atos de constituição ou alteração da sociedade, atualizado monetariamente;\\nIV - 0,05 (cinco centésimos) do valor do patrimônio líquido constante do último balanço patrimonial conhecido, atualizado monetariamente;\\nV - 0,4 (quatro décimos) do valor das compras de mercadorias efetuadas no mês;\\nVI - 0,4 (quatro décimos) da soma, em cada mês, dos valores da folha de pagamento dos empregados e das compras de matérias-primas, produtos intermediários e materiais de embalagem;\\nVII - 0,8 (oito décimos) da soma dos valores devidos no mês a empregados;\\nVIII - 0,9 (nove décimos) do valor mensal do aluguel devido.', 'incisos': ['1,5 (um inteiro e cinco décimos) do lucro real referente ao último período em que pessoa jurídica manteve escrituração de acordo com as leis comerciais e fiscais, atualizado monetariamente;', '0,04 (quatro centésimos) da soma dos valores do ativo circulante, realizável a longo prazo e permanente, existentes no último balanço patrimonial conhecido, atualizado monetariamente;', '0,07 (sete centésimos) do valor do capital, inclusive a sua correção monetária contabilizada como reserva de capital, constante do último balanço patrimonial conhecido ou registrado nos atos de constituição ou alteração da sociedade, atualizado monetariamente;', '0,05 (cinco centésimos) do valor do patrimônio líquido constante do último balanço patrimonial conhecido, atualizado monetariamente;', '0,4 (quatro décimos) do valor das compras de mercadorias efetuadas no mês;', '0,4 (quatro décimos) da soma, em cada mês, dos valores da folha de pagamento dos empregados e das compras de matérias-primas, produtos intermediários e materiais de embalagem;', '0,8 (oito décimos) da soma dos valores devidos no mês a empregados;', '0,9 (nove décimos) do valor mensal do aluguel devido.']}, {'paragrafo': '§ 38º', 'texto': 'As alternativas previstas nos incisos V, VI e VII, a critério da autoridade lançadora, poderão ter sua aplicação limitada, respectivamente, às atividades comerciais, industriais e de prestação de serviços e, no caso de empresas com atividade mista, ser adotados isoladamente em cada atividade.', 'incisos': ['As alternativas previstas nos incisos V, VI e VII, a critério da autoridade lançadora, poderão ter sua aplicação limitada, respectivamente, às atividades comerciais, industriais e de prestação de serviços e, no caso de empresas com atividade mista, ser adotados isoladamente em cada atividade.']}, {'paragrafo': '§ 39º', 'texto': 'Para os efeitos da aplicação do disposto no inciso I, quando o lucro real for decorrente de período-base anual, o valor que servirá de base ao arbitramento será proporcional ao número de meses do período-base considerado.', 'incisos': ['Para os efeitos da aplicação do disposto no inciso I, quando o lucro real for decorrente de período-base anual, o valor que servirá de base ao arbitramento será proporcional ao número de meses do período-base considerado.']}, {'paragrafo': '§ 40º', 'texto': 'Para cálculo da atualização monetária a que se referem os incisos deste artigo, serão adotados os índices utilizados para fins de correção monetária das demonstrações financeiras, tomando-se como termo inicial a data do encerramento do período-base utilizado, e, como termo final, o mês a que se referir o arbitramento.', 'incisos': ['Para cálculo da atualização monetária a que se referem os incisos deste artigo, serão adotados os índices utilizados para fins de correção monetária das demonstrações financeiras, tomando-se como termo inicial a data do encerramento do período-base utilizado, e, como termo final, o mês a que se referir o arbitramento.']}, {'paragrafo': '§ 41º', 'texto': 'Nas alternativas previstas nos incisos V e VI docaput, as compras serão consideradas pelos valores totais das operações, devendo ser incluídos os valores decorrentes do ajuste a valor presente de que trata oinciso III do art. 184 da Lei nº 6.404, de 15 de dezembro de 1976.(Incluído pela Lei nº 12.973, de 2014)(Vigência)\\nArt. 55. O lucro arbitrado na forma do art. 51 constituirá também base de cálculo da contribuição social sobre o lucro, de que trata aLei nº 7.689, de 15 de dezembro de 1988.\\nSEÇÃO VI\\nDa Declaração de Rendimentos das Pessoas Jurídicas\\nArt. 56. As pessoas jurídicas deverão apresentar, até o último dia útil do mês de março, declaração de rendimentos demonstrando os resultados auferidos no ano-calendário anterior.(Redação dada\\xa0 pela Lei nº 9.065, de 1995)', 'incisos': ['Nas alternativas previstas nos incisos V e VI docaput, as compras serão consideradas pelos valores totais das operações, devendo ser incluídos os valores decorrentes do ajuste a valor presente de que trata oinciso III do art. 184 da Lei nº 6.404, de 15 de dezembro de 1976.(Incluído pela Lei nº 12.973, de 2014)(Vigência)\\nArt. 55. O lucro arbitrado na forma do art. 51 constituirá também base de cálculo da contribuição social sobre o lucro, de que trata aLei nº 7.689, de 15 de dezembro de 1988.\\nSEÇÃO VI\\nDa Declaração de Rendimentos das Pessoas Jurídicas\\nArt. 56. As pessoas jurídicas deverão apresentar, até o último dia útil do mês de março, declaração de rendimentos demonstrando os resultados auferidos no ano-calendário anterior.(Redação dada\\xa0 pela Lei nº 9.065, de 1995)']}, {'paragrafo': '§ 42º', 'texto': 'A declaração de rendimentos será entregue na unidade local da Secretaria da Receita Federal que jurisdicionar o declarante ou nos estabelecimentos bancários autorizados, localizados na mesma jurisdição.', 'incisos': ['A declaração de rendimentos será entregue na unidade local da Secretaria da Receita Federal que jurisdicionar o declarante ou nos estabelecimentos bancários autorizados, localizados na mesma jurisdição.']}, {'paragrafo': '§ 43º', 'texto': 'No caso de encerramento de atividades, a declaração de rendimentos deverá ser entregue até o último dia útil do mês subseqüente ao da extinção.', 'incisos': ['No caso de encerramento de atividades, a declaração de rendimentos deverá ser entregue até o último dia útil do mês subseqüente ao da extinção.']}, {'paragrafo': '§ 44º', 'texto': 'A declaração de rendimentos das pessoas jurídicas deverá ser apresentada em meio magnético, ressalvado o disposto no parágrafo subseqüente.(Redação dada pela Lei nº 9.532, de 1997)(Produção de efeito)', 'incisos': ['A declaração de rendimentos das pessoas jurídicas deverá ser apresentada em meio magnético, ressalvado o disposto no parágrafo subseqüente.(Redação dada pela Lei nº 9.532, de 1997)(Produção de efeito)']}, {'paragrafo': '§ 45º', 'texto': 'O Ministro da Fazenda poderá permitir que as empresas de que trata aLei nº 9.317, de 5 de dezembro de 1996, optantes pelo SIMPLES, apresentem suas declarações por meio de formulários.(Redação dada pela Lei nº 9.532, de 1997)(Produção de efeito)\\nCAPÍTULO IV\\nDA CONTRIBUIÇÃO SOCIAL SOBRE O LUCRO\\nArt. 57. Aplicam-se à Contribuição Social sobre o Lucro(Lei nº 7.689, de 1988)as mesmas normas de apuração e de pagamento estabelecidas para o imposto de renda das pessoas jurídicas, inclusive no que se refere ao disposto no art. 38, mantidas a base de cálculo e as alíquotas previstas na legislação em vigor, com as alterações introduzidas por esta Lei.(Redação dada\\xa0 pela Lei nº 9.065, de 1995)', 'incisos': ['O Ministro da Fazenda poderá permitir que as empresas de que trata aLei nº 9.317, de 5 de dezembro de 1996, optantes pelo SIMPLES, apresentem suas declarações por meio de formulários.(Redação dada pela Lei nº 9.532, de 1997)(Produção de efeito)\\nCAPÍTULO IV\\nDA CONTRIBUIÇÃO SOCIAL SOBRE O LUCRO\\nArt. 57. Aplicam-se à Contribuição Social sobre o Lucro(Lei nº 7.689, de 1988)as mesmas normas de apuração e de pagamento estabelecidas para o imposto de renda das pessoas jurídicas, inclusive no que se refere ao disposto no art. 38, mantidas a base de cálculo e as alíquotas previstas na legislação em vigor, com as alterações introduzidas por esta Lei.(Redação dada\\xa0 pela Lei nº 9.065, de 1995)']}, {'paragrafo': '§ 46º', 'texto': 'Para efeito de pagamento mensal, a base de cálculo da contribuição social será o valor correspondente a dez por cento do somatório:\\na) da receita bruta mensal;\\nb) das demais receitas e ganhos de capital;\\nc) dos ganhos líquidos obtidos em operações realizadas nos mercados de renda variável;\\nd) dos rendimentos produzidos por aplicações financeiras de renda fixa.', 'incisos': ['Para efeito de pagamento mensal, a base de cálculo da contribuição social será o valor correspondente a dez por cento do somatório:\\na) da receita bruta mensal;\\nb) das demais receitas e ganhos de capital;\\nc) dos ganhos líquidos obtidos em operações realizadas nos mercados de renda variável;\\nd) dos rendimentos produzidos por aplicações financeiras de renda fixa.']}, {'paragrafo': '§ 47º', 'texto': 'No caso das pessoas jurídicas de que trata o inciso III do art. 36, a base de cálculo da contribuição social corresponderá ao valor decorrente da aplicação do percentual de nove por cento sobre a receita bruta ajustada, quando for o caso, pelo valor das deduções previstas no art. 29.(Redação dada\\xa0 pela Lei nº 9.065, de 1995)', 'incisos': ['No caso das pessoas jurídicas de que trata o inciso III do art. 36, a base de cálculo da contribuição social corresponderá ao valor decorrente da aplicação do percentual de nove por cento sobre a receita bruta ajustada, quando for o caso, pelo valor das deduções previstas no art. 29.(Redação dada\\xa0 pela Lei nº 9.065, de 1995)']}, {'paragrafo': '§ 48º', 'texto': 'A pessoa jurídica que determinar o Imposto de Renda a ser pago em cada mês com base no lucro real (art. 35), deverá efetuar o pagamento da contribuição social sobre o lucro, calculando-a com base no lucro líquido ajustado apurado em cada mês.', 'incisos': ['A pessoa jurídica que determinar o Imposto de Renda a ser pago em cada mês com base no lucro real (art. 35), deverá efetuar o pagamento da contribuição social sobre o lucro, calculando-a com base no lucro líquido ajustado apurado em cada mês.']}, {'paragrafo': '§ 49º', 'texto': 'No caso de pessoa jurídica submetida ao regime de tributação com base no lucro real, a contribuição determinada na forma dos §§ 1º a 3º será deduzida da contribuição apurada no encerramento do período de apuração.\\nArt. 58. Para efeito de determinação da base de cálculo da contribuição social sobre o lucro, o lucro líquido ajustado poderá ser reduzido por compensação da base de cálculo negativa, apurada em períodos-base anteriores em, no máximo, trinta por cento.(Vide Lei nº 9.065, de 1995\\nArt. 59. A contribuição social sobre o lucro das sociedades civis, submetidas ao regime de tributação de que trata oart. 1º do Decreto-Lei nº 2.397, de 1987, deverá ser paga até o último dia útil do mês de janeiro de cada ano-calendário.\\nCAPÍTULO V\\nDa Tributação do Imposto de Renda na Fonte\\nArt. 60. Estão sujeitas ao desconto do Imposto de Renda na fonte, à alíquota de cinco por cento, as importâncias pagas às pessoas jurídicas:\\nI - a título de juros e de indenizações por lucros cessantes, decorrentes de sentença judicial;\\nParágrafo único. O imposto descontado na forma deste artigo será deduzido do imposto devido apurado no encerramento do período-base.\\nArt. 61. Fica sujeito à incidência do Imposto de Renda exclusivamente na fonte, à alíquota de trinta e cinco por cento, todo pagamento efetuado pelas pessoas jurídicas a beneficiário não identificado, ressalvado o disposto em normas especiais.', 'incisos': ['a título de juros e de indenizações por lucros cessantes, decorrentes de sentença judicial;\\nParágrafo único. O imposto descontado na forma deste artigo será deduzido do imposto devido apurado no encerramento do período-base.\\nArt. 61. Fica sujeito à incidência do Imposto de Renda exclusivamente na fonte, à alíquota de trinta e cinco por cento, todo pagamento efetuado pelas pessoas jurídicas a beneficiário não identificado, ressalvado o disposto em normas especiais.']}, {'paragrafo': '§ 50º', 'texto': 'A incidência prevista no caput aplica-se, também, aos pagamentos efetuados ou aos recursos entregues a terceiros ou sócios, acionistas ou titular, contabilizados ou não, quando não for comprovada a operação ou a sua causa, bem como à hipótese de que trata o§ 2º, do art. 74 da Lei nº 8.383, de 1991.', 'incisos': ['A incidência prevista no caput aplica-se, também, aos pagamentos efetuados ou aos recursos entregues a terceiros ou sócios, acionistas ou titular, contabilizados ou não, quando não for comprovada a operação ou a sua causa, bem como à hipótese de que trata o§ 2º, do art. 74 da Lei nº 8.383, de 1991.']}, {'paragrafo': '§ 51º', 'texto': 'Considera-se vencido o Imposto de Renda na fonte no dia do pagamento da referida importância.', 'incisos': ['Considera-se vencido o Imposto de Renda na fonte no dia do pagamento da referida importância.']}, {'paragrafo': '§ 52º', 'texto': 'O rendimento de que trata este artigo será considerado líquido, cabendo o reajustamento do respectivo rendimento bruto sobre o qual recairá o imposto.\\nArt. 62. A partir de 1º de janeiro de 1995, a alíquota do Imposto de Renda na fonte de que trata oart. 44 da Lei nº 8.541, de 1992, será de 35%.\\nArt. 63. Os prêmios distribuídos sob a forma de bens e serviços, através de concursos e sorteios de qualquer espécie, estão sujeitos à incidência do imposto, à alíquota de vinte por cento, exclusivamente na fonte.(Redação dada\\xa0 pela Lei nº 9.065, de 1995)\\n§ 1oO imposto de que trata este artigo incidirá sobre o valor de mercado do prêmio, na data da distribuição.(Redação dada pela Lei nº 11.196, de 2005)', 'incisos': ['O rendimento de que trata este artigo será considerado líquido, cabendo o reajustamento do respectivo rendimento bruto sobre o qual recairá o imposto.\\nArt. 62. A partir de 1º de janeiro de 1995, a alíquota do Imposto de Renda na fonte de que trata oart. 44 da Lei nº 8.541, de 1992, será de 35%.\\nArt. 63. Os prêmios distribuídos sob a forma de bens e serviços, através de concursos e sorteios de qualquer espécie, estão sujeitos à incidência do imposto, à alíquota de vinte por cento, exclusivamente na fonte.(Redação dada\\xa0 pela Lei nº 9.065, de 1995)\\n§ 1oO imposto de que trata este artigo incidirá sobre o valor de mercado do prêmio, na data da distribuição.(Redação dada pela Lei nº 11.196, de 2005)']}, {'paragrafo': '§ 53º', 'texto': 'Compete à pessoa jurídica que proceder à distribuição de prêmios, efetuar o pagamento do imposto correspondente, não se aplicando o reajustamento da base de cálculo.', 'incisos': ['Compete à pessoa jurídica que proceder à distribuição de prêmios, efetuar o pagamento do imposto correspondente, não se aplicando o reajustamento da base de cálculo.']}, {'paragrafo': '§ 54º', 'texto': 'O disposto neste artigo não se aplica aos prêmios em dinheiro, que continuam sujeitos à tributação na forma do art. 14 daLei nº 4.506, de 30 de novembro de 1964.\\nArt. 64. O art. 45 da Lei nº 8.541, de 1992, passa a ter a seguinte redação:\\n\"Art. 45.Estão sujeitas à incidência do Imposto de Renda na fonte, à alíquota de 1,5%, as importâncias pagas ou creditadas por pessoas jurídicas a cooperativas de trabalho, associações de profissionais ou assemelhadas, relativas a serviços pessoais que lhes forem prestados por associados destas ou colocados à disposição.', 'incisos': ['O disposto neste artigo não se aplica aos prêmios em dinheiro, que continuam sujeitos à tributação na forma do art. 14 daLei nº 4.506, de 30 de novembro de 1964.\\nArt. 64. O art. 45 da Lei nº 8.541, de 1992, passa a ter a seguinte redação:\\n\"Art. 45.Estão sujeitas à incidência do Imposto de Renda na fonte, à alíquota de 1,5%, as importâncias pagas ou creditadas por pessoas jurídicas a cooperativas de trabalho, associações de profissionais ou assemelhadas, relativas a serviços pessoais que lhes forem prestados por associados destas ou colocados à disposição.']}, {'paragrafo': '§ 55º', 'texto': 'O imposto retido será compensado pelas cooperativas de trabalho, associações ou assemelhadas com o imposto retido por ocasião do pagamento dos rendimentos aos associados.', 'incisos': ['O imposto retido será compensado pelas cooperativas de trabalho, associações ou assemelhadas com o imposto retido por ocasião do pagamento dos rendimentos aos associados.']}, {'paragrafo': '§ 56º', 'texto': 'O imposto retido na forma deste artigo poderá ser objeto de pedido de restituição, desde que a cooperativa, associação ou assemelhada comprove, relativamente a cada ano-calendário, a impossibilidade de sua compensação, na forma e condições definidas em ato normativo do Ministro da Fazenda.\"\\nCAPÍTULO VI\\nDa Tributação das Operações Financeiras\\nSEÇÃO I\\nDo Mercado de Renda Fixa\\nArt. 65. O rendimento produzido por aplicação financeira de renda fixa, auferido por qualquer beneficiário, inclusive pessoa jurídica isenta, a partir de 1º de janeiro de 1995, sujeita-se à incidência do Imposto de Renda na fonte à alíquota de dez por cento.', 'incisos': ['O imposto retido na forma deste artigo poderá ser objeto de pedido de restituição, desde que a cooperativa, associação ou assemelhada comprove, relativamente a cada ano-calendário, a impossibilidade de sua compensação, na forma e condições definidas em ato normativo do Ministro da Fazenda.\"\\nCAPÍTULO VI\\nDa Tributação das Operações Financeiras\\nSEÇÃO I\\nDo Mercado de Renda Fixa\\nArt. 65. O rendimento produzido por aplicação financeira de renda fixa, auferido por qualquer beneficiário, inclusive pessoa jurídica isenta, a partir de 1º de janeiro de 1995, sujeita-se à incidência do Imposto de Renda na fonte à alíquota de dez por cento.']}, {'paragrafo': '§ 57º', 'texto': 'A base de cálculo do imposto é constituída pela diferença positiva entre o valor da alienação, líquido do imposto sobre operações de crédito, câmbio e seguro, e sobre operações relativas a títulos ou valores mobiliários (IOF), de que trata aLei nº 8.894, de 21 de junho de 1994, e o valor da aplicação financeira.', 'incisos': ['A base de cálculo do imposto é constituída pela diferença positiva entre o valor da alienação, líquido do imposto sobre operações de crédito, câmbio e seguro, e sobre operações relativas a títulos ou valores mobiliários (IOF), de que trata aLei nº 8.894, de 21 de junho de 1994, e o valor da aplicação financeira.']}, {'paragrafo': '§ 58º', 'texto': 'Para fins de incidência do Imposto de Renda na fonte, a alienação compreende qualquer forma de transmissão da propriedade, bem como a liquidação, resgate, cessão ou repactuação do título ou aplicação.', 'incisos': ['Para fins de incidência do Imposto de Renda na fonte, a alienação compreende qualquer forma de transmissão da propriedade, bem como a liquidação, resgate, cessão ou repactuação do título ou aplicação.']}, {'paragrafo': '§ 59º', 'texto': 'Os rendimentos periódicos produzidos por título ou aplicação, bem como qualquer remuneração adicional aos rendimentos prefixados, serão submetidos à incidência do Imposto de Renda na fonte por ocasião de sua percepção.', 'incisos': ['Os rendimentos periódicos produzidos por título ou aplicação, bem como qualquer remuneração adicional aos rendimentos prefixados, serão submetidos à incidência do Imposto de Renda na fonte por ocasião de sua percepção.']}, {'paragrafo': '§ 60º', 'texto': 'O disposto neste artigo aplica-se também:\\na) às operações conjugadas que permitam a obtenção de rendimentos predeterminados, realizadas nas bolsas de valores, de mercadorias, de futuros e assemelhadas, bem como no mercado de balcão;\\nb) às operações de transferência de dívidas realizadas com instituição financeira, demais instituições autorizadas a funcionar pelo Banco Central do Brasil ou com pessoa jurídica não-financeira;\\nc) aos rendimentos auferidos pela entrega de recursos a pessoa jurídica, sob qualquer forma e a qualquer título, independentemente de ser ou não a fonte pagadora instituição autorizada a funcionar pelo Banco Central do Brasil.', 'incisos': ['O disposto neste artigo aplica-se também:\\na) às operações conjugadas que permitam a obtenção de rendimentos predeterminados, realizadas nas bolsas de valores, de mercadorias, de futuros e assemelhadas, bem como no mercado de balcão;\\nb) às operações de transferência de dívidas realizadas com instituição financeira, demais instituições autorizadas a funcionar pelo Banco Central do Brasil ou com pessoa jurídica não-financeira;\\nc) aos rendimentos auferidos pela entrega de recursos a pessoa jurídica, sob qualquer forma e a qualquer título, independentemente de ser ou não a fonte pagadora instituição autorizada a funcionar pelo Banco Central do Brasil.']}, {'paragrafo': '§ 61º', 'texto': 'Em relação às operações de que tratam as alíneas a e b do § 4º, a base de cálculo do imposto será:\\na) o resultado positivo auferido no encerramento ou liquidação das operações conjugadas;\\nb) a diferença positiva entre o valor da dívida e o valor entregue à pessoa jurídica responsável pelo pagamento da obrigação, acrescida do respectivo Imposto de Renda retido.', 'incisos': ['Em relação às operações de que tratam as alíneas a e b do § 4º, a base de cálculo do imposto será:\\na) o resultado positivo auferido no encerramento ou liquidação das operações conjugadas;\\nb) a diferença positiva entre o valor da dívida e o valor entregue à pessoa jurídica responsável pelo pagamento da obrigação, acrescida do respectivo Imposto de Renda retido.']}, {'paragrafo': '§ 62º', 'texto': 'Fica o Poder Executivo autorizado a baixar normas com vistas a definir as características das operações de que tratam as alíneas a e b do § 4º.', 'incisos': ['Fica o Poder Executivo autorizado a baixar normas com vistas a definir as características das operações de que tratam as alíneas a e b do § 4º.']}, {'paragrafo': '§ 63º', 'texto': 'O imposto de que trata este artigo será retido:\\na) por ocasião do recebimento dos recursos destinados ao pagamento de dívidas, no caso de que trata a alínea b do § 4º;\\nb) por ocasião do pagamento dos rendimentos, ou da alienação do título ou da aplicação, nos demais casos.', 'incisos': ['O imposto de que trata este artigo será retido:\\na) por ocasião do recebimento dos recursos destinados ao pagamento de dívidas, no caso de que trata a alínea b do § 4º;\\nb) por ocasião do pagamento dos rendimentos, ou da alienação do título ou da aplicação, nos demais casos.']}, {'paragrafo': '§ 64º', 'texto': 'É responsável pela retenção do imposto a pessoa jurídica que receber os recursos, no caso de operações de transferência de dívidas, e a pessoa jurídica que efetuar o pagamento do rendimento, nos demais casos.\\nArt. 66. Nas aplicações em fundos de renda fixa, inclusive, em Fundo de Aplicação Financeira (FAF), resgatadas a partir de 1º de janeiro de 1995, a base de cálculo do imposto sobre a renda na fonte será constituída pela diferença positiva entre o valor do resgate, líquido de IOF, e o valor de aquisição da quota.\\nParágrafo único. O imposto, calculado à alíquota de dez por cento, será retido pelo administrador do fundo na data do resgate.\\nArt. 67. As aplicações financeiras de que tratam os arts. 65, 66 e 70, existentes em 31 de dezembro de 1994, terão os respectivos rendimentos apropriados pro-rata tempore até aquela data e tributados nos termos da legislação à época vigente.', 'incisos': ['É responsável pela retenção do imposto a pessoa jurídica que receber os recursos, no caso de operações de transferência de dívidas, e a pessoa jurídica que efetuar o pagamento do rendimento, nos demais casos.\\nArt. 66. Nas aplicações em fundos de renda fixa, inclusive, em Fundo de Aplicação Financeira (FAF), resgatadas a partir de 1º de janeiro de 1995, a base de cálculo do imposto sobre a renda na fonte será constituída pela diferença positiva entre o valor do resgate, líquido de IOF, e o valor de aquisição da quota.\\nParágrafo único. O imposto, calculado à alíquota de dez por cento, será retido pelo administrador do fundo na data do resgate.\\nArt. 67. As aplicações financeiras de que tratam os arts. 65, 66 e 70, existentes em 31 de dezembro de 1994, terão os respectivos rendimentos apropriados pro-rata tempore até aquela data e tributados nos termos da legislação à época vigente.']}, {'paragrafo': '§ 65º', 'texto': 'O imposto apurado nos termos deste artigo será adicionado àquele devido por ocasião da alienação ou resgate do título ou aplicação.', 'incisos': ['O imposto apurado nos termos deste artigo será adicionado àquele devido por ocasião da alienação ou resgate do título ou aplicação.']}, {'paragrafo': '§ 66º', 'texto': 'Para efeitos de apuração da base de cálculo do imposto quando da alienação ou resgate, o valor dos rendimentos, apropriado nos termos deste artigo, será acrescido ao valor de aquisição da aplicação financeira.', 'incisos': ['Para efeitos de apuração da base de cálculo do imposto quando da alienação ou resgate, o valor dos rendimentos, apropriado nos termos deste artigo, será acrescido ao valor de aquisição da aplicação financeira.']}, {'paragrafo': '§ 67º', 'texto': 'O valor de aquisição existente em 31 de dezembro de 1994, expresso em quantidade de Ufir, será convertido em Real, pelo valor de R$ 0,6767.', 'incisos': ['O valor de aquisição existente em 31 de dezembro de 1994, expresso em quantidade de Ufir, será convertido em Real, pelo valor de R$ 0,6767.']}, {'paragrafo': '§ 68º', 'texto': 'Excluem-se do disposto neste artigo as aplicações em Fundo de Aplicação Financeira (FAF) existentes em 31 de dezembro de 1994, cujo valor de aquisição será apurado com base no valor da quota na referida data.', 'incisos': ['Excluem-se do disposto neste artigo as aplicações em Fundo de Aplicação Financeira (FAF) existentes em 31 de dezembro de 1994, cujo valor de aquisição será apurado com base no valor da quota na referida data.']}, {'paragrafo': '§ 69º', 'texto': 'Os rendimentos das aplicações financeiras de que trata este artigo, produzidos a partir de 1º de janeiro de 1995, poderão ser excluídos do lucro real, para efeito de incidência do adicional do Imposto de Renda de que trata o art. 39.', 'incisos': ['Os rendimentos das aplicações financeiras de que trata este artigo, produzidos a partir de 1º de janeiro de 1995, poderão ser excluídos do lucro real, para efeito de incidência do adicional do Imposto de Renda de que trata o art. 39.']}, {'paragrafo': '§ 70º', 'texto': 'A faculdade prevista no parágrafo anterior não se aplica aos rendimentos das aplicações financeiras auferidos por instituição financeira, sociedade corretora de títulos e valores mobiliários, sociedade distribuidoras de títulos e valores mobiliários, sociedades de seguro, previdência e capitalização.\\nArt. 68. São isentos do Imposto de Renda:\\nI - os rendimentos auferidos pelas carteiras dos fundos de renda fixa;\\nII - os rendimentos auferidos nos resgates de quotas de fundos de investimentos, de titularidade de fundos cujos recursos sejam aplicados na aquisição de quotas de fundos de investimentos;\\nIII - os rendimentos auferidos por pessoa física em contas de depósitos de poupança, de Depósitos Especiais Remunerados (DER) e sobre os juros produzidos por letras hipotecárias.\\nArt. 69. Ficam revogadas as isenções previstas na legislação do Imposto de Renda sobre os rendimentos auferidos por pessoas jurídicas em contas de depósitos de poupança, de Depósitos Especiais Remunerados (DER) e sobre os juros produzidos por letras hipotecárias.\\nParágrafo único. O imposto devido sobre os rendimentos de que trata este artigo será retido por ocasião do crédito ou pagamento do rendimento.\\nArt. 70. As operações de mútuo e de compra vinculada à revenda, no mercado secundário, tendo por objeto ouro, ativo financeiro, continuam equiparadas às operações de renda fixa para fins de incidência do Imposto de Renda na fonte.', 'incisos': ['os rendimentos auferidos pelas carteiras dos fundos de renda fixa;', 'os rendimentos auferidos nos resgates de quotas de fundos de investimentos, de titularidade de fundos cujos recursos sejam aplicados na aquisição de quotas de fundos de investimentos;', 'os rendimentos auferidos por pessoa física em contas de depósitos de poupança, de Depósitos Especiais Remunerados (DER) e sobre os juros produzidos por letras hipotecárias.\\nArt. 69. Ficam revogadas as isenções previstas na legislação do Imposto de Renda sobre os rendimentos auferidos por pessoas jurídicas em contas de depósitos de poupança, de Depósitos Especiais Remunerados (DER) e sobre os juros produzidos por letras hipotecárias.\\nParágrafo único. O imposto devido sobre os rendimentos de que trata este artigo será retido por ocasião do crédito ou pagamento do rendimento.\\nArt. 70. As operações de mútuo e de compra vinculada à revenda, no mercado secundário, tendo por objeto ouro, ativo financeiro, continuam equiparadas às operações de renda fixa para fins de incidência do Imposto de Renda na fonte.']}, {'paragrafo': '§ 71º', 'texto': 'Constitui fato gerador do imposto:\\na) na operação de mútuo, o pagamento ou crédito do rendimento ao mutuante;\\nb) na operação de compra vinculada à revenda, a operação de revenda do ouro.', 'incisos': ['Constitui fato gerador do imposto:\\na) na operação de mútuo, o pagamento ou crédito do rendimento ao mutuante;\\nb) na operação de compra vinculada à revenda, a operação de revenda do ouro.']}, {'paragrafo': '§ 72º', 'texto': 'A base de cálculo do imposto será constituída:\\na) na operação de mútuo, pelo valor do rendimento pago ou creditado ao mutuante;\\nb) na operação de compra vinculada à revenda, pela diferença positiva entre o valor de revenda e o de compra do ouro.', 'incisos': ['A base de cálculo do imposto será constituída:\\na) na operação de mútuo, pelo valor do rendimento pago ou creditado ao mutuante;\\nb) na operação de compra vinculada à revenda, pela diferença positiva entre o valor de revenda e o de compra do ouro.']}, {'paragrafo': '§ 73º', 'texto': 'A base de cálculo do imposto, em Reais, na operação de mútuo, quando o rendimento for fixado em quantidade de ouro, será apurada com base no preço médio verificado no mercado à vista da bolsa em que ocorrer o maior volume de operações com ouro, na data da liquidação do contrato, acrescida do Imposto de Renda retido na fonte.', 'incisos': ['A base de cálculo do imposto, em Reais, na operação de mútuo, quando o rendimento for fixado em quantidade de ouro, será apurada com base no preço médio verificado no mercado à vista da bolsa em que ocorrer o maior volume de operações com ouro, na data da liquidação do contrato, acrescida do Imposto de Renda retido na fonte.']}, {'paragrafo': '§ 74º', 'texto': 'No caso de pessoa jurídica tributada com base no lucro real deverão ser ainda observados que:\\na) a diferença positiva entre o valor de mercado, na data do mútuo, e o custo de aquisição do ouro será incluída pelo mutuante na apuração do ganho líquido de que trata o art. 72;\\nb) as alterações no preço do ouro durante o decurso do prazo do contrato de mútuo, em relação ao preço verificado na data de realização do contrato, serão reconhecidas pelo mutuante e pelo mutuário como receita ou despesa, segundo o regime de competência;\\nc) para efeito do disposto na alínea b será considerado o preço médio do ouro verificado no mercado à vista da bolsa em que ocorrer o maior volume de operações, na data do registro da variação.', 'incisos': ['No caso de pessoa jurídica tributada com base no lucro real deverão ser ainda observados que:\\na) a diferença positiva entre o valor de mercado, na data do mútuo, e o custo de aquisição do ouro será incluída pelo mutuante na apuração do ganho líquido de que trata o art. 72;\\nb) as alterações no preço do ouro durante o decurso do prazo do contrato de mútuo, em relação ao preço verificado na data de realização do contrato, serão reconhecidas pelo mutuante e pelo mutuário como receita ou despesa, segundo o regime de competência;\\nc) para efeito do disposto na alínea b será considerado o preço médio do ouro verificado no mercado à vista da bolsa em que ocorrer o maior volume de operações, na data do registro da variação.']}, {'paragrafo': '§ 75º', 'texto': 'O Imposto de Renda na fonte será calculado aplicando-se a alíquota prevista no art. 65.', 'incisos': ['O Imposto de Renda na fonte será calculado aplicando-se a alíquota prevista no art. 65.']}, {'paragrafo': '§ 76º', 'texto': 'Fica o Poder Executivo autorizado a baixar normas com vistas a definir as características da operação de compra vinculada à revenda de que trata este artigo.\\nArt. 71. Fica dispensada a retenção do imposto de renda na fonte sobre rendimentos de aplicações financeiras de renda fixa ou de renda variável quando o beneficiário do rendimento declarar à fonte pagadora, por escrito, sua condição de entidade imune.(Redação dada\\xa0 pela Lei nº 9.065, de 1995)\\nSEÇÃO II\\nDo Mercado de Renda Variável\\nArt. 72. Os ganhos líquidos auferidos, a partir de 1º de janeiro de 1995, por qualquer beneficiário, inclusive pessoa jurídica isenta, em operações realizadas nas bolsas de valores, de mercadorias, de futuros e assemelhadas, serão tributados pelo Imposto de Renda na forma da Legislação vigente, com as alterações introduzidas por esta lei.', 'incisos': ['Fica o Poder Executivo autorizado a baixar normas com vistas a definir as características da operação de compra vinculada à revenda de que trata este artigo.\\nArt. 71. Fica dispensada a retenção do imposto de renda na fonte sobre rendimentos de aplicações financeiras de renda fixa ou de renda variável quando o beneficiário do rendimento declarar à fonte pagadora, por escrito, sua condição de entidade imune.(Redação dada\\xa0 pela Lei nº 9.065, de 1995)\\nSEÇÃO II\\nDo Mercado de Renda Variável\\nArt. 72. Os ganhos líquidos auferidos, a partir de 1º de janeiro de 1995, por qualquer beneficiário, inclusive pessoa jurídica isenta, em operações realizadas nas bolsas de valores, de mercadorias, de futuros e assemelhadas, serão tributados pelo Imposto de Renda na forma da Legislação vigente, com as alterações introduzidas por esta lei.']}, {'paragrafo': '§ 77º', 'texto': 'A alíquota do imposto será de dez por cento, aplicável sobre os ganhos líquidos apurados mensalmente.', 'incisos': ['A alíquota do imposto será de dez por cento, aplicável sobre os ganhos líquidos apurados mensalmente.']}, {'paragrafo': '§ 78º', 'texto': 'Os custos de aquisição dos ativos objeto das operações de que trata este artigo serão:\\na) considerados pela média ponderada dos custos unitários;\\nb) convertidos em Real pelo valor de R$ 0,6767, no caso de ativos existentes em 31 de dezembro de 1994, expressos em quantidade de Ufir.', 'incisos': ['Os custos de aquisição dos ativos objeto das operações de que trata este artigo serão:\\na) considerados pela média ponderada dos custos unitários;\\nb) convertidos em Real pelo valor de R$ 0,6767, no caso de ativos existentes em 31 de dezembro de 1994, expressos em quantidade de Ufir.']}, {'paragrafo': '§ 79º', 'texto': 'O disposto neste artigo aplica-se também:\\na) aos ganhos líquidos auferidos por qualquer beneficiário, na alienação de ouro, ativo financeiro, fora de bolsa;\\nb) aos ganhos líquidos auferidos pelas pessoas jurídicas na alienação de participações societárias, fora de bolsa.', 'incisos': ['O disposto neste artigo aplica-se também:\\na) aos ganhos líquidos auferidos por qualquer beneficiário, na alienação de ouro, ativo financeiro, fora de bolsa;\\nb) aos ganhos líquidos auferidos pelas pessoas jurídicas na alienação de participações societárias, fora de bolsa.']}, {'paragrafo': '§ 80º', 'texto': 'As perdas apuradas nas operações de que trata este artigo poderão ser compensadas com os ganhos líquidos auferidos nos meses subseqüentes, em operações da mesma natureza.', 'incisos': ['As perdas apuradas nas operações de que trata este artigo poderão ser compensadas com os ganhos líquidos auferidos nos meses subseqüentes, em operações da mesma natureza.']}, {'paragrafo': '§ 81º', 'texto': 'O disposto nos §§ 4º e 5º aplica-se, inclusive, às perdas existentes em 31 de dezembro de 1994.', 'incisos': ['O disposto nos §§ 4º e 5º aplica-se, inclusive, às perdas existentes em 31 de dezembro de 1994.']}, {'paragrafo': '§ 82º', 'texto': 'Ficam isentos do Imposto de Renda os ganhos líquidos auferidos por pessoa física em operações no mercado à vista de ações nas bolsas de valores e em operações com ouro, ativo financeiro, cujo valor das alienações realizadas em cada mês seja igual ou inferior a 5.000,00 Ufirs, para o conjunto de ações e para o ouro, ativo financeiro, respectivamente.\\nArt. 73. O rendimento auferido no resgate de quota de fundo de ações, de commodities, de investimento no exterior, clube de investimento e outros fundos da espécie, por qualquer beneficiário, inclusive pessoa jurídica isenta, sujeita-se à incidência do Imposto de Renda na fonte à alíquota de dez por cento.', 'incisos': ['Ficam isentos do Imposto de Renda os ganhos líquidos auferidos por pessoa física em operações no mercado à vista de ações nas bolsas de valores e em operações com ouro, ativo financeiro, cujo valor das alienações realizadas em cada mês seja igual ou inferior a 5.000,00 Ufirs, para o conjunto de ações e para o ouro, ativo financeiro, respectivamente.\\nArt. 73. O rendimento auferido no resgate de quota de fundo de ações, de commodities, de investimento no exterior, clube de investimento e outros fundos da espécie, por qualquer beneficiário, inclusive pessoa jurídica isenta, sujeita-se à incidência do Imposto de Renda na fonte à alíquota de dez por cento.']}, {'paragrafo': '§ 83º', 'texto': 'A base de cálculo do imposto é constituída pela diferença positiva entre o valor de resgate, líquido de IOF, e o valor de aquisição da quota.', 'incisos': ['A base de cálculo do imposto é constituída pela diferença positiva entre o valor de resgate, líquido de IOF, e o valor de aquisição da quota.']}, {'paragrafo': '§ 84º', 'texto': 'Os ganhos líquidos previstos nos arts. 72 e 74 e os rendimentos produzidos por aplicações financeiras de renda fixa auferidos pelas carteiras dos fundos e clubes de que trata este artigo são isentos de Imposto de Renda.', 'incisos': ['Os ganhos líquidos previstos nos arts. 72 e 74 e os rendimentos produzidos por aplicações financeiras de renda fixa auferidos pelas carteiras dos fundos e clubes de que trata este artigo são isentos de Imposto de Renda.']}, {'paragrafo': '§ 85º', 'texto': 'O imposto de que trata este artigo será retido pelo administrador do fundo ou clube na data do resgate.', 'incisos': ['O imposto de que trata este artigo será retido pelo administrador do fundo ou clube na data do resgate.']}, {'paragrafo': '§ 86º', 'texto': 'As aplicações nos fundos e clubes de que trata este artigo, existentes em 31 de dezembro de 1994, terão os respectivos rendimentos apropriados pro-rata tempore até aquela data.', 'incisos': ['As aplicações nos fundos e clubes de que trata este artigo, existentes em 31 de dezembro de 1994, terão os respectivos rendimentos apropriados pro-rata tempore até aquela data.']}, {'paragrafo': '§ 87º', 'texto': 'No resgate de quotas, existentes em 31 de dezembro de 1994, deverão ser observados os seguintes procedimentos:\\na) se o valor de aquisição da aplicação, calculado segundo o disposto no § 2º do art. 67, for inferior ao valor de resgate, o imposto devido será acrescido do imposto apurado nos termos daquele artigo;\\nb) em qualquer outro caso, a base de cálculo do imposto no resgate das quotas será a diferença positiva entre o valor de resgate, líquido do IOF, e o valor original de aquisição, aplicando-se a alíquota vigente em 31 de dezembro de 1994.', 'incisos': ['No resgate de quotas, existentes em 31 de dezembro de 1994, deverão ser observados os seguintes procedimentos:\\na) se o valor de aquisição da aplicação, calculado segundo o disposto no § 2º do art. 67, for inferior ao valor de resgate, o imposto devido será acrescido do imposto apurado nos termos daquele artigo;\\nb) em qualquer outro caso, a base de cálculo do imposto no resgate das quotas será a diferença positiva entre o valor de resgate, líquido do IOF, e o valor original de aquisição, aplicando-se a alíquota vigente em 31 de dezembro de 1994.']}, {'paragrafo': '§ 88º', 'texto': 'Para efeito da apuração prevista na alínea b do § 5º, o valor original de aquisição em 31 de dezembro de 1994, expresso em quantidade de Ufir, será convertido em Real pelo valor de R$ 0,6767.', 'incisos': ['Para efeito da apuração prevista na alínea b do § 5º, o valor original de aquisição em 31 de dezembro de 1994, expresso em quantidade de Ufir, será convertido em Real pelo valor de R$ 0,6767.']}, {'paragrafo': '§ 89º', 'texto': 'Os rendimentos produzidos a partir de 1º de janeiro de 1995, referentes a aplicações existentes em 31 de dezembro de 1994 nos fundos e clubes de que trata este artigo, poderão ser excluídos do lucro real para efeito de incidência do adicional do Imposto de Renda de que trata o art. 39.\\nArt. 74. Ficam sujeitos à incidência do Imposto de Renda na fonte à alíquota de dez por cento, os rendimentos auferidos em operações de swap.', 'incisos': ['Os rendimentos produzidos a partir de 1º de janeiro de 1995, referentes a aplicações existentes em 31 de dezembro de 1994 nos fundos e clubes de que trata este artigo, poderão ser excluídos do lucro real para efeito de incidência do adicional do Imposto de Renda de que trata o art. 39.\\nArt. 74. Ficam sujeitos à incidência do Imposto de Renda na fonte à alíquota de dez por cento, os rendimentos auferidos em operações de swap.']}, {'paragrafo': '§ 90º', 'texto': 'A base de cálculo do imposto das operações de que trata este artigo será o resultado positivo auferido na liquidação do contrato de swap.', 'incisos': ['A base de cálculo do imposto das operações de que trata este artigo será o resultado positivo auferido na liquidação do contrato de swap.']}, {'paragrafo': '§ 91º', 'texto': 'O imposto será retido pela pessoa jurídica que efetuar o pagamento do rendimento, na data da liquidação do respectivo contrato.', 'incisos': ['O imposto será retido pela pessoa jurídica que efetuar o pagamento do rendimento, na data da liquidação do respectivo contrato.']}, {'paragrafo': '§ 92º', 'texto': 'Somente será admitido o reconhecimento de perdas em operações de swap registradas no termos da legislação vigente.\\nArt. 75. Ressalvado o disposto no § 3º do art. 74, fica o Poder Executivo autorizado a permitir a compensação dos resultados apurados nas operações de tratam os arts. 73 e 74, definindo as condições para a sua realização.\\nSEÇÃO III\\nDas Disposições Comuns à Tributação das Operações Financeiras\\nArt. 76. O imposto de renda retido na fonte sobre os rendimentos de aplicações financeiras de renda fixa e de renda variável, ou pago sobre os ganhos líquidos mensais, será:(Redação dada\\xa0 pela Lei nº 9.065, de 1995)\\nI - deduzido do apurado no encerramento do período ou na data da extinção, no caso de pessoa jurídica submetida ao regime de tributação com base no lucro real;\\nII - definitivo, no caso de pessoa jurídica não submetida ao regime de tributação com base no lucro real, inclusive isenta, e de pessoa física.', 'incisos': ['deduzido do apurado no encerramento do período ou na data da extinção, no caso de pessoa jurídica submetida ao regime de tributação com base no lucro real;', 'definitivo, no caso de pessoa jurídica não submetida ao regime de tributação com base no lucro real, inclusive isenta, e de pessoa física.']}, {'paragrafo': '§ 93º', 'texto': 'No caso de sociedade civil de prestação de serviços, submetida ao regime de tributação de que trata oart. 1º do Decreto-Lei nº 2.397, de 1987, o imposto poderá ser compensado com o imposto retido por ocasião do pagamento dos rendimentos aos sócios beneficiários.', 'incisos': ['No caso de sociedade civil de prestação de serviços, submetida ao regime de tributação de que trata oart. 1º do Decreto-Lei nº 2.397, de 1987, o imposto poderá ser compensado com o imposto retido por ocasião do pagamento dos rendimentos aos sócios beneficiários.']}, {'paragrafo': '§ 94º', 'texto': 'Os rendimentos de aplicações financeiras de renda fixa e de renda variável e os ganhos líquidos produzidos a partir de 1º de janeiro de 1995 integrarão o lucro real.', 'incisos': ['Os rendimentos de aplicações financeiras de renda fixa e de renda variável e os ganhos líquidos produzidos a partir de 1º de janeiro de 1995 integrarão o lucro real.']}, {'paragrafo': '§ 95º', 'texto': 'As perdas incorridas em operações iniciadas e encerradas no mesmo dia (day-trade), realizadas em mercado de renda fixa ou de renda variável, não serão dedutíveis na apuração do lucro real.', 'incisos': ['As perdas incorridas em operações iniciadas e encerradas no mesmo dia (day-trade), realizadas em mercado de renda fixa ou de renda variável, não serão dedutíveis na apuração do lucro real.']}, {'paragrafo': '§ 96º', 'texto': 'Ressalvado o disposto no parágrafo anterior, as perdas apuradas nas operações de que tratam os arts. 72 a 74 somente serão dedutíveis na determinação do lucro real até o limite dos ganhos auferidos em operações previstas naqueles artigos.', 'incisos': ['Ressalvado o disposto no parágrafo anterior, as perdas apuradas nas operações de que tratam os arts. 72 a 74 somente serão dedutíveis na determinação do lucro real até o limite dos ganhos auferidos em operações previstas naqueles artigos.']}, {'paragrafo': '§ 97º', 'texto': 'Na hipótese do § 4º, a parcela das perdas adicionadas poderá, nos anos-calendário subseqüentes, ser excluída na determinação do lucro real, até o limite correspondente à diferença positiva apurada em cada ano, entre os ganhos e perdas decorrentes das operações realizadas.(Redação dada\\xa0 pela Lei nº 9.065, de 1995)', 'incisos': ['Na hipótese do § 4º, a parcela das perdas adicionadas poderá, nos anos-calendário subseqüentes, ser excluída na determinação do lucro real, até o limite correspondente à diferença positiva apurada em cada ano, entre os ganhos e perdas decorrentes das operações realizadas.(Redação dada\\xa0 pela Lei nº 9.065, de 1995)']}, {'paragrafo': '§ 98º', 'texto': 'Fica reduzida a zero a alíquota do IOF incidente sobre operações com títulos e valores mobiliários de renda fixa e renda variável.', 'incisos': ['Fica reduzida a zero a alíquota do IOF incidente sobre operações com títulos e valores mobiliários de renda fixa e renda variável.']}, {'paragrafo': '§ 99º', 'texto': 'O disposto no § 6º não elide a faculdade do Poder Executivo alterar a alíquota daquele imposto, conforme previsto no§ 1º do art. 153 da ConstituiçãoFederal e no parágrafo único doart. 1º da Lei nº 8.894, de 21 de junho de 1994.\\nArt. 77. O regime de tributação previsto neste Capítulo não se aplica aos rendimentos ou ganhos líquidos:(Redação dada\\xa0 pela Lei nº 9.065, de 1995)\\nI - em aplicações financeiras de renda fixa de titularidade de instituição financeira, inclusive sociedade de seguro, previdência e capitalização, sociedade corretora de títulos, valores mobiliários e câmbio, sociedade distribuidora de títulos e valores mobiliários ou sociedade de arrendamento mercantil;(Redação dada\\xa0 pela Lei nº 9.065, de 1995)\\nIII - nas operações de renda variável realizadas em bolsa, no mercado de balcão organizado, autorizado pelo órgão competente, ou através de fundos de investimento, para a carteira própria das entidades citadas no inciso I;(Redação dada pela Lei nº 9.249, de 26.12.1995)\\nIV - na alienação de participações societárias permanentes em sociedades coligadas e controladas, e de participações societárias que permaneceram no ativo da pessoa jurídica até o término do ano-calendário seguinte ao de suas aquisições;\\nV - em operações de cobertura (hedge) realizadas em bolsa de valores, de mercadoria e de futuros ou no mercado de balcão.', 'incisos': ['em aplicações financeiras de renda fixa de titularidade de instituição financeira, inclusive sociedade de seguro, previdência e capitalização, sociedade corretora de títulos, valores mobiliários e câmbio, sociedade distribuidora de títulos e valores mobiliários ou sociedade de arrendamento mercantil;(Redação dada\\xa0 pela Lei nº 9.065, de 1995)', 'nas operações de renda variável realizadas em bolsa, no mercado de balcão organizado, autorizado pelo órgão competente, ou através de fundos de investimento, para a carteira própria das entidades citadas no inciso I;(Redação dada pela Lei nº 9.249, de 26.12.1995)', 'na alienação de participações societárias permanentes em sociedades coligadas e controladas, e de participações societárias que permaneceram no ativo da pessoa jurídica até o término do ano-calendário seguinte ao de suas aquisições;', 'em operações de cobertura (hedge) realizadas em bolsa de valores, de mercadoria e de futuros ou no mercado de balcão.']}, {'paragrafo': '§ 100º', 'texto': 'Para efeito do disposto no inciso V, consideram-se de cobertura (hedge) as operações destinadas, exclusivamente, à proteção contra riscos inerentes às oscilações de preço ou de taxas, quando o objeto do contrato negociado:\\na) estiver relacionado com as atividades operacionais da pessoa jurídica;\\nb) destinar-se à proteção de direitos ou obrigações da pessoa jurídica.', 'incisos': ['Para efeito do disposto no inciso V, consideram-se de cobertura (hedge) as operações destinadas, exclusivamente, à proteção contra riscos inerentes às oscilações de preço ou de taxas, quando o objeto do contrato negociado:\\na) estiver relacionado com as atividades operacionais da pessoa jurídica;\\nb) destinar-se à proteção de direitos ou obrigações da pessoa jurídica.']}, {'paragrafo': '§ 101º', 'texto': 'O Poder Executivo poderá definir requisitos adicionais para a caracterização das operações de que trata o parágrafo anterior, bem como estabelecer procedimentos para registro e apuração dos ajustes diários incorridos nessas operações.', 'incisos': ['O Poder Executivo poderá definir requisitos adicionais para a caracterização das operações de que trata o parágrafo anterior, bem como estabelecer procedimentos para registro e apuração dos ajustes diários incorridos nessas operações.']}, {'paragrafo': '§ 102º', 'texto': 'Os rendimentos e ganhos líquidos de que trata este artigo deverão compor a base de cálculo prevista nos arts. 28 ou 29 e o lucro real.', 'incisos': ['Os rendimentos e ganhos líquidos de que trata este artigo deverão compor a base de cálculo prevista nos arts. 28 ou 29 e o lucro real.']}, {'paragrafo': '§ 103º', 'texto': 'Para as associações de poupança e empréstimo, os rendimentos e ganhos líquidos auferidos nas aplicações financeiras serão tributados de forma definitiva, à alíquota de vinte e cinco por cento sobre a base de cálculo prevista no art. 29.(Redação dada\\xa0 pela Lei nº 9.065, de 1995)\\nSEÇÃO IV\\nDa Tributação das Operações Financeiras Realizadas por Residentes ou Domiciliados no Exterior\\nArt. 78. Os residentes ou domiciliados no exterior sujeitam-se às mesmas normas de tributação pelo Imposto de Renda, previstas para os residentes ou domiciliados no país, em relação aos:\\nI - rendimentos decorrentes de aplicações financeiras de renda fixa;\\nII - ganhos líquidos auferidos em operações realizadas em bolsas de valores, de mercadorias, de futuros e assemelhadas;\\nIII - rendimentos obtidos em aplicações em fundos de renda fixa e de renda variável e em clubes de investimentos.\\nParágrafo único. Sujeitam-se à tributação pelo Imposto de Renda, nos termos dos arts. 80 a 82, os rendimentos e ganhos de capital decorrentes de aplicações financeiras, auferidos por fundos, sociedades de investimento e carteiras de valores mobiliários de que participem, exclusivamente, pessoas físicas ou jurídicas, fundos ou outras entidades de investimento coletivo residentes, domiciliados ou com sede no exterior.\\nArt. 79. O investimento estrangeiro nos mercados financeiros e de valores mobiliários somente poderá ser realizado no país por intermédio de representante legal, previamente designado dentre as instituições autorizadas pelo Poder Executivo a prestar tal serviço e que será responsável, nos termos doart. 128do Código Tributário Nacional(Lei nº 5.172, de 25 de outubro de 1966)pelo cumprimento das obrigações tributárias decorrentes das operações que realizar por conta e ordem do representado.', 'incisos': ['rendimentos decorrentes de aplicações financeiras de renda fixa;', 'ganhos líquidos auferidos em operações realizadas em bolsas de valores, de mercadorias, de futuros e assemelhadas;', 'rendimentos obtidos em aplicações em fundos de renda fixa e de renda variável e em clubes de investimentos.\\nParágrafo único. Sujeitam-se à tributação pelo Imposto de Renda, nos termos dos arts. 80 a 82, os rendimentos e ganhos de capital decorrentes de aplicações financeiras, auferidos por fundos, sociedades de investimento e carteiras de valores mobiliários de que participem, exclusivamente, pessoas físicas ou jurídicas, fundos ou outras entidades de investimento coletivo residentes, domiciliados ou com sede no exterior.\\nArt. 79. O investimento estrangeiro nos mercados financeiros e de valores mobiliários somente poderá ser realizado no país por intermédio de representante legal, previamente designado dentre as instituições autorizadas pelo Poder Executivo a prestar tal serviço e que será responsável, nos termos doart. 128do Código Tributário Nacional(Lei nº 5.172, de 25 de outubro de 1966)pelo cumprimento das obrigações tributárias decorrentes das operações que realizar por conta e ordem do representado.']}, {'paragrafo': '§ 104º', 'texto': 'O representante legal não será responsável pela retenção e recolhimento do Imposto de Renda na fonte sobre aplicações financeiras quando, nos termos da legislação pertinente tal responsabilidade for atribuída a terceiro.', 'incisos': ['O representante legal não será responsável pela retenção e recolhimento do Imposto de Renda na fonte sobre aplicações financeiras quando, nos termos da legislação pertinente tal responsabilidade for atribuída a terceiro.']}, {'paragrafo': '§ 105º', 'texto': 'O Poder Executivo poderá excluir determinadas categorias de investidores da obrigatoriedade prevista neste artigo.\\nArt. 80. Sujeitam-se à tributação pelo Imposto Renda, à alíquota de dez por cento, os rendimentos e ganhos de capital auferidos no resgate pelo quotista, quando distribuídos, sob qualquer forma e a qualquer título, por fundos em condomínio, a que se refere oart. 50 da Lei Nº 4.728, de 14 de julho de 1965, constituídos na forma prescrita pelo Conselho Monetário Nacional e mantidos com recursos provenientes de conversão de débitos externos brasileiros, e de que participem, exclusivamente, pessoas físicas ou jurídicas, fundos ou outras entidades de investimentos coletivos, residentes, domiciliados, ou com sede no exterior.', 'incisos': ['O Poder Executivo poderá excluir determinadas categorias de investidores da obrigatoriedade prevista neste artigo.\\nArt. 80. Sujeitam-se à tributação pelo Imposto Renda, à alíquota de dez por cento, os rendimentos e ganhos de capital auferidos no resgate pelo quotista, quando distribuídos, sob qualquer forma e a qualquer título, por fundos em condomínio, a que se refere oart. 50 da Lei Nº 4.728, de 14 de julho de 1965, constituídos na forma prescrita pelo Conselho Monetário Nacional e mantidos com recursos provenientes de conversão de débitos externos brasileiros, e de que participem, exclusivamente, pessoas físicas ou jurídicas, fundos ou outras entidades de investimentos coletivos, residentes, domiciliados, ou com sede no exterior.']}, {'paragrafo': '§ 106º', 'texto': 'A base de cálculo do imposto é constituída pela diferença positiva entre o valor de resgate e o custo de aquisição da quota.', 'incisos': ['A base de cálculo do imposto é constituída pela diferença positiva entre o valor de resgate e o custo de aquisição da quota.']}, {'paragrafo': '§ 107º', 'texto': 'Os rendimentos e ganhos de capital auferidos pelas carteiras dos fundos de que trata este artigo, são isentos de Imposto de Renda.\\nArt. 81. Ficam sujeitos ao Imposto de Renda na fonte, à alíquota de dez por cento, os rendimentos auferidos:\\nI - pelas entidades mencionadas nosarts. 1º e 2º do Decreto-Lei nº 2.285, de 23 de julho de 1986;\\nII - pelas sociedades de investimento a que se refere oart. 49 da Lei nº 4.728, de 1965, de que participem, exclusivamente, investidores estrangeiros;\\nIII - pelas carteiras de valores mobiliários, inclusive vinculadas à emissão, no exterior, de certificados representativos de ações, mantidas, exclusivamente, por investidores estrangeiros.', 'incisos': ['pelas entidades mencionadas nosarts. 1º e 2º do Decreto-Lei nº 2.285, de 23 de julho de 1986;', 'pelas sociedades de investimento a que se refere oart. 49 da Lei nº 4.728, de 1965, de que participem, exclusivamente, investidores estrangeiros;', 'pelas carteiras de valores mobiliários, inclusive vinculadas à emissão, no exterior, de certificados representativos de ações, mantidas, exclusivamente, por investidores estrangeiros.']}, {'paragrafo': '§ 108º', 'texto': 'Os ganhos de capital ficam excluídos da incidência do Imposto de Renda quando auferidos e distribuídos, sob qualquer forma e a qualquer título, inclusive em decorrência de liquidação parcial ou total do investimento pelos fundos, sociedades ou carteiras referidos no caput deste artigo.', 'incisos': ['Os ganhos de capital ficam excluídos da incidência do Imposto de Renda quando auferidos e distribuídos, sob qualquer forma e a qualquer título, inclusive em decorrência de liquidação parcial ou total do investimento pelos fundos, sociedades ou carteiras referidos no caput deste artigo.']}, {'paragrafo': '§ 109º', 'texto': 'Para os efeitos deste artigo, consideram-se:\\na) rendimentos: quaisquer valores que constituam remuneração de capital aplicado, inclusive aquela produzida por títulos de renda variável, tais como juros, prêmios, comissões, ágio, deságio e participações nos lucros, bem como os resultados positivos auferidos em aplicações nos fundos e clubes de investimento de que trata o art. 73;(Vide Lei nº 12.431, de 2011)\\nb) ganhos de capital, os resultados positivos auferidos:\\nb.1) nas operações realizadas em bolsas de valores, de mercadorias, de futuros e assemelhadas, com exceção das operações conjugadas de que trata a alínea a do § 4º do art. 65;\\nb.2) nas operações com ouro, ativo financeiro, fora de bolsa;', 'incisos': ['Para os efeitos deste artigo, consideram-se:\\na) rendimentos: quaisquer valores que constituam remuneração de capital aplicado, inclusive aquela produzida por títulos de renda variável, tais como juros, prêmios, comissões, ágio, deságio e participações nos lucros, bem como os resultados positivos auferidos em aplicações nos fundos e clubes de investimento de que trata o art. 73;(Vide Lei nº 12.431, de 2011)\\nb) ganhos de capital, os resultados positivos auferidos:\\nb.1) nas operações realizadas em bolsas de valores, de mercadorias, de futuros e assemelhadas, com exceção das operações conjugadas de que trata a alínea a do § 4º do art. 65;\\nb.2) nas operações com ouro, ativo financeiro, fora de bolsa;']}, {'paragrafo': '§ 110º', 'texto': 'A base de cálculo do Imposto de Renda sobre os rendimentos auferidos pelas entidades de que trata este artigo será apurada:\\na) de acordo com os critérios previstos nos arts. 65 a 67 no caso de aplicações de renda fixa;\\nb) de acordo com o tratamento previsto no § 3º do art. 65 no caso de rendimentos periódicos;\\nc) pelo valor do respectivo rendimento ou resultado positivo, nos demais casos.', 'incisos': ['A base de cálculo do Imposto de Renda sobre os rendimentos auferidos pelas entidades de que trata este artigo será apurada:\\na) de acordo com os critérios previstos nos arts. 65 a 67 no caso de aplicações de renda fixa;\\nb) de acordo com o tratamento previsto no § 3º do art. 65 no caso de rendimentos periódicos;\\nc) pelo valor do respectivo rendimento ou resultado positivo, nos demais casos.']}, {'paragrafo': '§ 111º', 'texto': 'Na apuração do imposto de que trata este artigo serão indedutíveis os prejuízos apurados em operações de renda fixa e de renda variável.', 'incisos': ['Na apuração do imposto de que trata este artigo serão indedutíveis os prejuízos apurados em operações de renda fixa e de renda variável.']}, {'paragrafo': '§ 112º', 'texto': 'O disposto neste artigo alcança, exclusivamente, as entidades que atenderem às normas e condições estabelecidas pelo Conselho Monetário Nacional, não se aplicando, entretanto, aos fundos em condomínio referidos no art. 80.', 'incisos': ['O disposto neste artigo alcança, exclusivamente, as entidades que atenderem às normas e condições estabelecidas pelo Conselho Monetário Nacional, não se aplicando, entretanto, aos fundos em condomínio referidos no art. 80.']}, {'paragrafo': '§ 113º', 'texto': 'Os dividendos e as bonificações em dinheiro estão sujeitas ao Imposto de Renda à alíquota de quinze por cento.\\nArt. 82. O Imposto de Renda na fonte sobre os rendimentos auferidos pelas entidades de que trata o art. 81, será devido por ocasião da cessão, resgate, repactuação ou liquidação de cada operação de renda fixa, ou do recebimento ou crédito, o que primeiro ocorrer, de outros rendimentos, inclusive dividendos e bonificações em dinheiro.', 'incisos': ['Os dividendos e as bonificações em dinheiro estão sujeitas ao Imposto de Renda à alíquota de quinze por cento.\\nArt. 82. O Imposto de Renda na fonte sobre os rendimentos auferidos pelas entidades de que trata o art. 81, será devido por ocasião da cessão, resgate, repactuação ou liquidação de cada operação de renda fixa, ou do recebimento ou crédito, o que primeiro ocorrer, de outros rendimentos, inclusive dividendos e bonificações em dinheiro.']}, {'paragrafo': '§ 114º', 'texto': 'Os dividendos que forem atribuídos às ações integrantes do patrimônio do fundo, sociedade ou carteira, serão registrados, na data em que as ações forem cotadas sem os respectivos direitos (ex-dividendos), em conta representativa de rendimentos a receber, em contrapartida à diminuição de idêntico valor da parcela do ativo correspondente às ações às quais se vinculam, acompanhados de transferência para a receita de dividendos de igual valor a débito da conta de resultado de variação da carteira de ações.', 'incisos': ['Os dividendos que forem atribuídos às ações integrantes do patrimônio do fundo, sociedade ou carteira, serão registrados, na data em que as ações forem cotadas sem os respectivos direitos (ex-dividendos), em conta representativa de rendimentos a receber, em contrapartida à diminuição de idêntico valor da parcela do ativo correspondente às ações às quais se vinculam, acompanhados de transferência para a receita de dividendos de igual valor a débito da conta de resultado de variação da carteira de ações.']}, {'paragrafo': '§ 115º', 'texto': 'Os rendimentos submetidos à sistemática de tributação de que trata este artigo não se sujeitam a nova incidência do Imposto de Renda quando distribuídos.\\nCAPÍTULO VII\\nDos Prazos de Recolhimento\\nArt. 83. Em relação aos fatos geradores cuja ocorrência se verifique a partir de 1º de janeiro de 1995, os pagamentos do Imposto de Renda retido na fonte, do imposto sobre operações de crédito, câmbio e seguro e sobre operações relativas a títulos e valores mobiliários e da contribuição para o Programa de Integração Social - PIS/PASEP deverão ser efetuados nos seguintes prazos:\\nIII - Contribuição para o Programa de Integração Social e para o Programa de Formação do Patrimônio do Servidor Público (PIS/Pasep): até o último dia útil da quinzena subseqüente ao mês de ocorrência dos fatos geradores.\\nCAPÍTULO VIII\\nDas Penalidades e dos Acréscimos Moratórios\\nArt. 84. Os tributos e contribuições sociais arrecadados pela Secretaria da Receita Federal, cujos fatos geradores vierem a ocorrer a partir de 1º de janeiro de 1995, não pagos nos prazos previstos na legislação tributária serão acrescidos de:(Vide Decreto nº 7.212, de 2010)\\nI - juros de mora, equivalentes à taxa média mensal de captação do Tesouro Nacional relativa à Dívida Mobiliária Federal Interna;(Vide Lei nº 9.065, de 1995\\nII - multa de mora aplicada da seguinte forma:\\na) dez por cento, se o pagamento se verificar no próprio mês do vencimento;\\nb) vinte por cento, quando o pagamento ocorrer no mês seguinte ao do vencimento;\\nc) trinta por cento, quando o pagamento for efetuado a partir do segundo mês subseqüente ao do vencimento.', 'incisos': ['Contribuição para o Programa de Integração Social e para o Programa de Formação do Patrimônio do Servidor Público (PIS/Pasep): até o último dia útil da quinzena subseqüente ao mês de ocorrência dos fatos geradores.\\nCAPÍTULO VIII\\nDas Penalidades e dos Acréscimos Moratórios\\nArt. 84. Os tributos e contribuições sociais arrecadados pela Secretaria da Receita Federal, cujos fatos geradores vierem a ocorrer a partir de 1º de janeiro de 1995, não pagos nos prazos previstos na legislação tributária serão acrescidos de:(Vide Decreto nº 7.212, de 2010)', 'juros de mora, equivalentes à taxa média mensal de captação do Tesouro Nacional relativa à Dívida Mobiliária Federal Interna;(Vide Lei nº 9.065, de 1995', 'multa de mora aplicada da seguinte forma:\\na) dez por cento, se o pagamento se verificar no próprio mês do vencimento;\\nb) vinte por cento, quando o pagamento ocorrer no mês seguinte ao do vencimento;\\nc) trinta por cento, quando o pagamento for efetuado a partir do segundo mês subseqüente ao do vencimento.']}, {'paragrafo': '§ 116º', 'texto': 'Os juros de mora incidirão a partir do primeiro dia do mês subseqüente ao do vencimento, e a multa de mora, a partir do primeiro dia após o vencimento do débito.', 'incisos': ['Os juros de mora incidirão a partir do primeiro dia do mês subseqüente ao do vencimento, e a multa de mora, a partir do primeiro dia após o vencimento do débito.']}, {'paragrafo': '§ 117º', 'texto': 'O percentual dos juros de mora relativo ao mês em que o pagamento estiver sendo efetuado será de 1%.', 'incisos': ['O percentual dos juros de mora relativo ao mês em que o pagamento estiver sendo efetuado será de 1%.']}, {'paragrafo': '§ 118º', 'texto': 'Em nenhuma hipótese os juros de mora previstos no inciso I, deste artigo, poderão ser inferiores à taxa de juros estabelecida noart. 161, § 1º, da Lei nº 5.172, de 25 de outubro de 1966, noart. 59 da Lei nº 8.383, de 1991, e noart. 3º da Lei nº 8.620, de 5 de janeiro de 1993.', 'incisos': ['Em nenhuma hipótese os juros de mora previstos no inciso I, deste artigo, poderão ser inferiores à taxa de juros estabelecida noart. 161, § 1º, da Lei nº 5.172, de 25 de outubro de 1966, noart. 59 da Lei nº 8.383, de 1991, e noart. 3º da Lei nº 8.620, de 5 de janeiro de 1993.']}, {'paragrafo': '§ 119º', 'texto': 'Os juros de mora de que trata o inciso I, deste artigo, serão aplicados também às contribuições sociais arrecadadas pelo INSS e aos débitos para com o patrimônio imobiliário, quando não recolhidos nos prazos previstos na legislação específica.', 'incisos': ['Os juros de mora de que trata o inciso I, deste artigo, serão aplicados também às contribuições sociais arrecadadas pelo INSS e aos débitos para com o patrimônio imobiliário, quando não recolhidos nos prazos previstos na legislação específica.']}, {'paragrafo': '§ 120º', 'texto': 'Em relação aos débitos referidos no art. 5º desta lei incidirão, a partir de 1º de janeiro de 1995, juros de mora de um por cento ao mês-calendário ou fração.', 'incisos': ['Em relação aos débitos referidos no art. 5º desta lei incidirão, a partir de 1º de janeiro de 1995, juros de mora de um por cento ao mês-calendário ou fração.']}, {'paragrafo': '§ 121º', 'texto': 'O disposto no § 2º aplica-se, inclusive, às hipóteses de pagamento parcelado de tributos e contribuições sociais, previstos nesta lei.', 'incisos': ['O disposto no § 2º aplica-se, inclusive, às hipóteses de pagamento parcelado de tributos e contribuições sociais, previstos nesta lei.']}, {'paragrafo': '§ 122º', 'texto': 'A Secretaria do Tesouro Nacional divulgará mensalmente a taxa a que se refere o inciso I deste artigo.\\n§ 8oO disposto neste artigo aplica-se aos demais créditos da Fazenda Nacional, cuja inscrição e cobrança como Dívida Ativa da União seja de competência da Procuradoria-Geral da Fazenda Nacional.(Incluído pela Lei nº 10.522, de 2002)\\nArt. 85. O produto da arrecadação dos juros de mora, no que diz respeito aos tributos e contribuições, exceto as contribuições arrecadadas pelo INSS, integra os recursos referidos nosarts. 3º, parágrafo único,4ºe5º, § 1º, da Lei nº 7.711, de 22 de dezembro de 1988, e noart. 69 da Lei nº 8.383, de 1991, até o limite de juros previstos noart. 161, § 1º , da Lei nº 5.172, de 25 de outubro de 1966.\\nArt. 86. As pessoas físicas ou jurídicas que efetuarem pagamentos com retenção do Imposto de Renda na fonte, deverão fornecer à pessoa física ou jurídica beneficiária, até o dia 31 de janeiro, documento comprobatório, em duas vias, com indicação da natureza e do montante do pagamento, das deduções e do Imposto de Renda retido no ano-calendário anterior, quando for o caso.', 'incisos': ['A Secretaria do Tesouro Nacional divulgará mensalmente a taxa a que se refere o inciso I deste artigo.\\n§ 8oO disposto neste artigo aplica-se aos demais créditos da Fazenda Nacional, cuja inscrição e cobrança como Dívida Ativa da União seja de competência da Procuradoria-Geral da Fazenda Nacional.(Incluído pela Lei nº 10.522, de 2002)\\nArt. 85. O produto da arrecadação dos juros de mora, no que diz respeito aos tributos e contribuições, exceto as contribuições arrecadadas pelo INSS, integra os recursos referidos nosarts. 3º, parágrafo único,4ºe5º, § 1º, da Lei nº 7.711, de 22 de dezembro de 1988, e noart. 69 da Lei nº 8.383, de 1991, até o limite de juros previstos noart. 161, § 1º , da Lei nº 5.172, de 25 de outubro de 1966.\\nArt. 86. As pessoas físicas ou jurídicas que efetuarem pagamentos com retenção do Imposto de Renda na fonte, deverão fornecer à pessoa física ou jurídica beneficiária, até o dia 31 de janeiro, documento comprobatório, em duas vias, com indicação da natureza e do montante do pagamento, das deduções e do Imposto de Renda retido no ano-calendário anterior, quando for o caso.']}, {'paragrafo': '§ 123º', 'texto': 'No documento de que trata este artigo, o imposto retido na fonte, as deduções e os rendimentos, deverão ser informados por seus valores em Reais.', 'incisos': ['No documento de que trata este artigo, o imposto retido na fonte, as deduções e os rendimentos, deverão ser informados por seus valores em Reais.']}, {'paragrafo': '§ 124º', 'texto': 'As pessoas físicas ou jurídicas que deixarem de fornecer aos beneficiários, dentro do prazo, ou fornecerem com inexatidão, o documento a que se refere este artigo, ficarão sujeitas ao pagamento de multa de cinqüenta Ufirs por documento.', 'incisos': ['As pessoas físicas ou jurídicas que deixarem de fornecer aos beneficiários, dentro do prazo, ou fornecerem com inexatidão, o documento a que se refere este artigo, ficarão sujeitas ao pagamento de multa de cinqüenta Ufirs por documento.']}, {'paragrafo': '§ 125º', 'texto': 'A fonte pagadora que prestar informação falsa sobre rendimentos pagos, deduções ou imposto retido na fonte, será aplicada multa de trezentos por cento sobre o valor que for indevidamente utilizável, como redução do Imposto de Renda a pagar ou aumento do imposto a restituir ou compensar, independentemente de outras penalidades administrativas ou criminais.', 'incisos': ['A fonte pagadora que prestar informação falsa sobre rendimentos pagos, deduções ou imposto retido na fonte, será aplicada multa de trezentos por cento sobre o valor que for indevidamente utilizável, como redução do Imposto de Renda a pagar ou aumento do imposto a restituir ou compensar, independentemente de outras penalidades administrativas ou criminais.']}, {'paragrafo': '§ 126º', 'texto': 'Na mesma penalidade incorrerá aquele que se beneficiar da informação, sabendo ou devendo saber da sua falsidade.\\nArt. 87. Aplicar-se-ão às microempresas, as mesmas penalidades previstas na legislação do Imposto de Renda para as demais pessoas jurídicas.\\nArt. 88. A falta de apresentação da declaração de rendimentos ou a sua apresentação fora do prazo fixado, sujeitará a pessoa física ou jurídica:\\nI - à multa de mora de um por cento ao mês ou fração sobre o Imposto de Renda devido, ainda que integralmente pago;(Vide Lei nº 9.532, de 1997)\\nII - à multa de duzentas Ufirs a oito mil Ufirs, no caso de declaração de que não resulte imposto devido.', 'incisos': ['à multa de mora de um por cento ao mês ou fração sobre o Imposto de Renda devido, ainda que integralmente pago;(Vide Lei nº 9.532, de 1997)', 'à multa de duzentas Ufirs a oito mil Ufirs, no caso de declaração de que não resulte imposto devido.']}, {'paragrafo': '§ 127º', 'texto': 'O valor mínimo a ser aplicado será:\\na) de duzentas Ufirs, para as pessoas físicas;\\nb) de quinhentas Ufirs, para as pessoas jurídicas.', 'incisos': ['O valor mínimo a ser aplicado será:\\na) de duzentas Ufirs, para as pessoas físicas;\\nb) de quinhentas Ufirs, para as pessoas jurídicas.']}, {'paragrafo': '§ 128º', 'texto': 'A não regularização no prazo previsto na intimação, ou em caso de reincidência, acarretará o agravamento da multa em cem por cento sobre o valor anteriormente aplicado.', 'incisos': ['A não regularização no prazo previsto na intimação, ou em caso de reincidência, acarretará o agravamento da multa em cem por cento sobre o valor anteriormente aplicado.']}, {'paragrafo': '§ 129º', 'texto': 'As reduções previstas noart. 6º da Lei nº 8.218, de 29 de agosto de 1991eart. 60 da Lei nº 8.383, de 1991não se aplicam às multas previstas neste artigo.\\nArt. 90. O art. 14 daLei nº 8.847, de 28 de janeiro de 1994, com a redação dada pelo art. 6º da Lei nº 8.850, de 28 de janeiro de 1994, passa a vigorar com a seguinte redação:(Vide Lei nº 9.065, de 1995\\n\"Art. 14.O valor do ITR deverá ser pago até o último dia útil do mês subseqüente àquele em que o contribuinte for notificado.(Redação dada\\xa0 pela Lei nº 9.065, de 1995)\\nParágrafo único. À opção do contribuinte, o imposto poderá ser parcelado em até três quotas iguais, mensais e sucessivas, observado o seguinte:\\na) nenhuma quota será inferior a R$ 35,00 e o imposto de valor inferior a R$ 70,00 será pago de uma só vez;\\nb) a primeira quota deverá ser paga até o último dia útil do mês subseqüente àquele em que o contribuinte for notificado.\\nc) as demais quotas, acrescidas de juros equivalentes à taxa média mensal de captação do Tesouro Nacional relativa à Dívida Mobiliária Federal Interna, vencerão no último dia útil de cada mês;\\nd) é facultado ao contribuinte antecipar, total ou parcialmente, o pagamento do imposto ou das quotas.\"\\nCAPÍTULO IX\\nDo Parcelamento de Débitos\\nArt. 92. Os débitos vencidos até 31 de outubro de 1994, poderão ser parcelados em até sessenta prestações, desde que os pedidos sejam apresentados na unidade da Secretaria da Receita Federal da jurisdição do contribuinte até 31 de março de 1995.\\nParágrafo único. Sobre os débitos parcelados nos termos deste artigo, não incidirá o encargo adicional de que trata a alínea b.1 do parágrafo único do art. 91.\\nCAPÍTULO X\\nDas Disposições Finais\\nArt. 95. As empresas industriais titulares de Programas Especiais de Exportação aprovados até 3 de junho de 1993, pela Comissão para Concessão de Benefícios Fiscais a Programas Especiais de Exportação - BEFIEX, poderão compensar o prejuízo fiscal verificado em um período-base com o lucro real determinado nos seis anos-calendário subseqüentes, independentemente da distribuição de lucros ou dividendos a seus sócios ou acionistas.(Redação dada\\xa0 pela Lei nº 9.065, de 1995)\\nArt. 96. A opção de que trata o§ 4º do art. 31 da Lei nº 8.541, de 1992, relativo ao imposto incidente sobre o lucro inflacionário acumulado realizado no mês de dezembro de 1994, será manifestada pelo pagamento até o vencimento da 1ª quota ou quota única do respectivo tributo.\\nArt. 97. A falta ou insuficiência de pagamento do Imposto de Renda e da contribuição social sobre o lucro está sujeita aos acréscimos legais previstos na legislação tributária federal.\\nParágrafo único. No caso de lançamento de ofício, no decorrer do ano-calendário, será observada a forma de apuração da base de cálculo do imposto adotada pela pessoa jurídica.\\nArt. 99. No caso de lançamento de ofício, as penalidades previstas na legislação tributária federal, expressas em Ufirs, serão reconvertidas para Reais, quando aplicadas a infrações cometidas a partir de 1º de janeiro de 1995.\\nArt. 100. Poderão ser excluídos do lucro líquido, para determinação do lucro real e da base de cálculo da contribuição social sobre o lucro, os juros reais produzidos por Notas do Tesouro Nacional (NTN), emitidas para troca compulsória no âmbito do Programa Nacional de Privatização (PND).\\nParágrafo único. O valor excluído será controlado na parte \"B\" do Livro de Apuração do Lucro Real (Lalur), e computado na determinação do lucro real e da contribuição social sobre o lucro no período do seu recebimento.\\nArt. 101. Fica acrescentado o § 4º ao art. 24 do Decreto-Lei nº 1.598, de 26 de dezembro de 1977:\\n\"Art. 24. ............................................................', 'incisos': ['As reduções previstas noart. 6º da Lei nº 8.218, de 29 de agosto de 1991eart. 60 da Lei nº 8.383, de 1991não se aplicam às multas previstas neste artigo.\\nArt. 90. O art. 14 daLei nº 8.847, de 28 de janeiro de 1994, com a redação dada pelo art. 6º da Lei nº 8.850, de 28 de janeiro de 1994, passa a vigorar com a seguinte redação:(Vide Lei nº 9.065, de 1995\\n\"Art. 14.O valor do ITR deverá ser pago até o último dia útil do mês subseqüente àquele em que o contribuinte for notificado.(Redação dada\\xa0 pela Lei nº 9.065, de 1995)\\nParágrafo único. À opção do contribuinte, o imposto poderá ser parcelado em até três quotas iguais, mensais e sucessivas, observado o seguinte:\\na) nenhuma quota será inferior a R$ 35,00 e o imposto de valor inferior a R$ 70,00 será pago de uma só vez;\\nb) a primeira quota deverá ser paga até o último dia útil do mês subseqüente àquele em que o contribuinte for notificado.\\nc) as demais quotas, acrescidas de juros equivalentes à taxa média mensal de captação do Tesouro Nacional relativa à Dívida Mobiliária Federal Interna, vencerão no último dia útil de cada mês;\\nd) é facultado ao contribuinte antecipar, total ou parcialmente, o pagamento do imposto ou das quotas.\"\\nCAPÍTULO IX\\nDo Parcelamento de Débitos\\nArt. 92. Os débitos vencidos até 31 de outubro de 1994, poderão ser parcelados em até sessenta prestações, desde que os pedidos sejam apresentados na unidade da Secretaria da Receita Federal da jurisdição do contribuinte até 31 de março de 1995.\\nParágrafo único. Sobre os débitos parcelados nos termos deste artigo, não incidirá o encargo adicional de que trata a alínea b.1 do parágrafo único do art. 91.\\nCAPÍTULO X\\nDas Disposições Finais\\nArt. 95. As empresas industriais titulares de Programas Especiais de Exportação aprovados até 3 de junho de 1993, pela Comissão para Concessão de Benefícios Fiscais a Programas Especiais de Exportação - BEFIEX, poderão compensar o prejuízo fiscal verificado em um período-base com o lucro real determinado nos seis anos-calendário subseqüentes, independentemente da distribuição de lucros ou dividendos a seus sócios ou acionistas.(Redação dada\\xa0 pela Lei nº 9.065, de 1995)\\nArt. 96. A opção de que trata o§ 4º do art. 31 da Lei nº 8.541, de 1992, relativo ao imposto incidente sobre o lucro inflacionário acumulado realizado no mês de dezembro de 1994, será manifestada pelo pagamento até o vencimento da 1ª quota ou quota única do respectivo tributo.\\nArt. 97. A falta ou insuficiência de pagamento do Imposto de Renda e da contribuição social sobre o lucro está sujeita aos acréscimos legais previstos na legislação tributária federal.\\nParágrafo único. No caso de lançamento de ofício, no decorrer do ano-calendário, será observada a forma de apuração da base de cálculo do imposto adotada pela pessoa jurídica.\\nArt. 99. No caso de lançamento de ofício, as penalidades previstas na legislação tributária federal, expressas em Ufirs, serão reconvertidas para Reais, quando aplicadas a infrações cometidas a partir de 1º de janeiro de 1995.\\nArt. 100. Poderão ser excluídos do lucro líquido, para determinação do lucro real e da base de cálculo da contribuição social sobre o lucro, os juros reais produzidos por Notas do Tesouro Nacional (NTN), emitidas para troca compulsória no âmbito do Programa Nacional de Privatização (PND).\\nParágrafo único. O valor excluído será controlado na parte \"B\" do Livro de Apuração do Lucro Real (Lalur), e computado na determinação do lucro real e da contribuição social sobre o lucro no período do seu recebimento.\\nArt. 101. Fica acrescentado o § 4º ao art. 24 do Decreto-Lei nº 1.598, de 26 de dezembro de 1977:\\n\"Art. 24. ............................................................']}, {'paragrafo': '§ 130º', 'texto': 'A reserva de relativa a participações societárias vinculadas ao Fundo Nacional de Desestatização (art. 9º da Lei nº 8.031, de 12 de abril de 1990), poderá, quando da conclusão da operação de venda, ser estornada em contrapartida da conta de investimentos.\"\\nArt. 102. O disposto nos arts. 100 e 101 aplica-se, inclusive, em relação ao ano-calendário de 1994.\\nArt. 103. As pessoas jurídicas que explorarem atividade comercial de vendas de produtos e serviços poderão promover depreciação acelerada dos equipamentos Emissores de Cupom Fiscal (ECF) novos, que vierem a ser adquiridos no período compreendido entre 1º de janeiro de 1995 a 31 de dezembro de 1995.', 'incisos': ['A reserva de relativa a participações societárias vinculadas ao Fundo Nacional de Desestatização (art. 9º da Lei nº 8.031, de 12 de abril de 1990), poderá, quando da conclusão da operação de venda, ser estornada em contrapartida da conta de investimentos.\"\\nArt. 102. O disposto nos arts. 100 e 101 aplica-se, inclusive, em relação ao ano-calendário de 1994.\\nArt. 103. As pessoas jurídicas que explorarem atividade comercial de vendas de produtos e serviços poderão promover depreciação acelerada dos equipamentos Emissores de Cupom Fiscal (ECF) novos, que vierem a ser adquiridos no período compreendido entre 1º de janeiro de 1995 a 31 de dezembro de 1995.']}, {'paragrafo': '§ 131º', 'texto': 'A depreciação acelerada de que trata este artigo será calculada pela aplicação da taxa de depreciação usualmente admitida, sem prejuízo da depreciação normal.', 'incisos': ['A depreciação acelerada de que trata este artigo será calculada pela aplicação da taxa de depreciação usualmente admitida, sem prejuízo da depreciação normal.']}, {'paragrafo': '§ 132º', 'texto': 'O total acumulado da depreciação, inclusive a normal, não poderá ultrapassar o custo de aquisição do bem.', 'incisos': ['O total acumulado da depreciação, inclusive a normal, não poderá ultrapassar o custo de aquisição do bem.']}, {'paragrafo': '§ 133º', 'texto': 'O disposto neste artigo somente alcança os equipamentos:\\na) que identifiquem no cupom fiscal emitido os produtos ou serviços vendidos; e\\nb) cuja utilização tenha sido autorizada pelo órgão competente dos Estados, do Distrito Federal ou dos Municípios.\\nArt. 106. Fica o Poder Executivo autorizado a alterar a forma de fixação da taxa de câmbio, para cálculo dos impostos incidentes na importação, de que trata oparágrafo único do art. 24 do Decreto-lei nº 37, de 18 de novembro de 1966, com a redação dada peloart. 1º da Lei nº 7.683, de 2 de dezembro de 1988.\\nArt. 108. O art. 4º da Lei nº 7.965, de 22 de dezembro de 1989, passa a vigorar com a seguinte redação:\\n\"Art. 4ºOs produtos nacionais ou nacionalizados, que entrarem na Área de Livre Comércio de Tabatinga, estarão isentos do Imposto sobre Produtos Industrializados, quando destinados às finalidades mencionadas no caput do art. 3º.', 'incisos': ['O disposto neste artigo somente alcança os equipamentos:\\na) que identifiquem no cupom fiscal emitido os produtos ou serviços vendidos; e\\nb) cuja utilização tenha sido autorizada pelo órgão competente dos Estados, do Distrito Federal ou dos Municípios.\\nArt. 106. Fica o Poder Executivo autorizado a alterar a forma de fixação da taxa de câmbio, para cálculo dos impostos incidentes na importação, de que trata oparágrafo único do art. 24 do Decreto-lei nº 37, de 18 de novembro de 1966, com a redação dada peloart. 1º da Lei nº 7.683, de 2 de dezembro de 1988.\\nArt. 108. O art. 4º da Lei nº 7.965, de 22 de dezembro de 1989, passa a vigorar com a seguinte redação:\\n\"Art. 4ºOs produtos nacionais ou nacionalizados, que entrarem na Área de Livre Comércio de Tabatinga, estarão isentos do Imposto sobre Produtos Industrializados, quando destinados às finalidades mencionadas no caput do art. 3º.']}, {'paragrafo': '§ 134º', 'texto': 'Ficam asseguradas a manutenção e a utilização dos créditos do Imposto sobre Produtos Industrializados relativos às matérias-primas, produtos intermediários e material de embalagem empregados na industrialização dos produtos entrados na Área de Livre Comércio de Tabatinga.', 'incisos': ['Ficam asseguradas a manutenção e a utilização dos créditos do Imposto sobre Produtos Industrializados relativos às matérias-primas, produtos intermediários e material de embalagem empregados na industrialização dos produtos entrados na Área de Livre Comércio de Tabatinga.']}, {'paragrafo': '§ 135º', 'texto': 'Estão excluídos dos benefícios fiscais de que trata este artigo os produtos abaixo mencionados, compreendidos nos capítulos e/ou nas posições indicadas da Nomenclatura Brasileira de Mercadorias, aprovada pela Resolução nº 75, de 22 de abril de 1988, do Comitê Brasileiro de Nomenclatura, com alterações posteriores:\\na)armas e munições: capítulo 93;\\nb)veículos de passageiros: posição 8703 do capítulo 87, exceto ambulâncias, carros funerários, carros celulares e jipes;\\nc)bebidas alcoólicas: posições 2203 a 2206 e 2208 (exceto 2208.10 e 2208.90.0100) do capítulo 22;\\nd)produtos de perfumaria e de toucador, preparados e preparações cosméticas: posições 3303 a 3307 do capítulo 33;\\ne)fumo e seus derivados: capítulo 24.\"\\nArt. 109. O art. 6º da Lei nº 8.210, de 19 de julho de 1991, passa a vigorar com a seguinte redação:\\n\"Art. 6ºOs produtos nacionais ou nacionalizados, que entrarem na Área de Livre Comércio, estarão isentos do Imposto sobre Produtos Industrializados, quando destinados às finalidades mencionadas no caput do art. 4º.', 'incisos': ['Estão excluídos dos benefícios fiscais de que trata este artigo os produtos abaixo mencionados, compreendidos nos capítulos e/ou nas posições indicadas da Nomenclatura Brasileira de Mercadorias, aprovada pela Resolução nº 75, de 22 de abril de 1988, do Comitê Brasileiro de Nomenclatura, com alterações posteriores:\\na)armas e munições: capítulo 93;\\nb)veículos de passageiros: posição 8703 do capítulo 87, exceto ambulâncias, carros funerários, carros celulares e jipes;\\nc)bebidas alcoólicas: posições 2203 a 2206 e 2208 (exceto 2208.10 e 2208.90.0100) do capítulo 22;\\nd)produtos de perfumaria e de toucador, preparados e preparações cosméticas: posições 3303 a 3307 do capítulo 33;\\ne)fumo e seus derivados: capítulo 24.\"\\nArt. 109. O art. 6º da Lei nº 8.210, de 19 de julho de 1991, passa a vigorar com a seguinte redação:\\n\"Art. 6ºOs produtos nacionais ou nacionalizados, que entrarem na Área de Livre Comércio, estarão isentos do Imposto sobre Produtos Industrializados, quando destinados às finalidades mencionadas no caput do art. 4º.']}, {'paragrafo': '§ 136º', 'texto': 'Ficam asseguradas a manutenção e a utilização dos créditos do Imposto sobre Produtos Industrializados relativo às matérias-primas, produtos intermediários e material de embalagem empregados na industrialização dos produtos entrados na Área de Livre Comércio.', 'incisos': ['Ficam asseguradas a manutenção e a utilização dos créditos do Imposto sobre Produtos Industrializados relativo às matérias-primas, produtos intermediários e material de embalagem empregados na industrialização dos produtos entrados na Área de Livre Comércio.']}, {'paragrafo': '§ 137º', 'texto': 'Estão excluídos dos benefícios fiscais de que trata este artigo os produtos abaixo, compreendidos nos capítulos e/ou nas posições indicadas da Nomenclatura Brasileira de Mercadorias, aprovada pela Resolução nº 75, de 22 de abril de 1988, do Comitê Brasileiro de Nomenclatura, com alterações posteriores:\\nI - armas e munições: capítulo 93;\\nII - veículos de passageiros: posição 8703 do capítulo 87, exceto ambulâncias, carros funerários, carros celulares e jipes;\\nIII - bebidas alcoólicas: posições 2203 a 2206 e 2208 (exceto 2208.10 e 2208.90.0100) do capítulo 22;\\nIV - produtos de perfumaria e de toucador, preparados e preparações cosméticas: posições 3303 a 3307 do capítulo 33;\\nV - fumo e seus derivados: capítulo 24.\"\\nArt. 110. Oart. 7º das Leis nºs 8.256, de 25 de novembro de 1991, e8.857, de 8 de março de 1994, passam a vigorar com a seguinte redação:\\n\"Art. 7º Os produtos nacionais ou nacionalizados, que entrarem na Área de Livre Comércio, estarão isentos do Imposto sobre Produtos Industrializados, quando destinados às finalidades mencionadas no caput do art. 4º.', 'incisos': ['armas e munições: capítulo 93;', 'veículos de passageiros: posição 8703 do capítulo 87, exceto ambulâncias, carros funerários, carros celulares e jipes;', 'bebidas alcoólicas: posições 2203 a 2206 e 2208 (exceto 2208.10 e 2208.90.0100) do capítulo 22;', 'produtos de perfumaria e de toucador, preparados e preparações cosméticas: posições 3303 a 3307 do capítulo 33;', 'fumo e seus derivados: capítulo 24.\"\\nArt. 110. Oart. 7º das Leis nºs 8.256, de 25 de novembro de 1991, e8.857, de 8 de março de 1994, passam a vigorar com a seguinte redação:\\n\"Art. 7º Os produtos nacionais ou nacionalizados, que entrarem na Área de Livre Comércio, estarão isentos do Imposto sobre Produtos Industrializados, quando destinados às finalidades mencionadas no caput do art. 4º.']}, {'paragrafo': '§ 138º', 'texto': 'Ficam asseguradas a manutenção e a utilização dos créditos do Imposto sobre Produtos Industrializados relativo às matérias-primas, produtos intermediários e material de embalagem empregados na industrialização dos produtos entrados na Área de Livre Comércio.', 'incisos': ['Ficam asseguradas a manutenção e a utilização dos créditos do Imposto sobre Produtos Industrializados relativo às matérias-primas, produtos intermediários e material de embalagem empregados na industrialização dos produtos entrados na Área de Livre Comércio.']}, {'paragrafo': '§ 139º', 'texto': 'Estão excluídos dos benefícios fiscais de que trata este artigo os produtos abaixo, compreendidos nos capítulos e/ou nas posições indicadas da Nomenclatura Brasileira de Mercadorias, aprovada pela Resolução nº 75, de 22 de abril de 1988, do Comitê Brasileiro de Nomenclatura, com alterações posteriores:\\nI - armas e munições: capítulo 93;\\nII - veículos de passageiros: posição 8703 do capítulo 87 exceto ambulâncias, carros funerários, carros celulares e jipes;\\nIII - bebidas alcoólicas: posições 2203 a 2206 e 2208 (exceto 2208.10 e 2208.90.0100) do capítulo 22;\\nIV - produtos de perfumaria e de toucador, preparados e preparações cosméticas: posições 3303 a 3307 do capítulo 33;\\nV - fumo e seus derivados: capítulo 24.\"\\nArt. 111. Oart. 14 do Decreto-Lei nº 1.593, de 21 de dezembro de 1977, passa a vigorar com a seguinte redação:\\n\"Art. 14. Os cigarros apreendidos por infração de que decorra pena de perdimento, ou que sejam declarados abandonados, serão incinerados após o encerramento do processo administrativo fiscal.\\nParágrafo único. Fica vedada qualquer outra destinação aos cigarros de que trata este artigo.\"\\nArt. 114. O lucro inflacionário acumulado existente em 31 de dezembro de 1994, continua submetido aos critérios de realização previstos naLei nº 7.799, de 10 de julho de 1989, observado o disposto noart. 32, da Lei nº 8.541, de 1992.\\nArt. 115. O disposto nosarts. 48a51,53,55e56 da Medida Provisória nº 785, de 23 de dezembro de 1994, aplica-se somente aos fatos geradores ocorridos até 31 de dezembro de 1994.\\nArt. 116. Esta Lei entra em vigor na data de sua publicação, produzindo efeitos a partir de 1º de janeiro de 1995.\\nArt. 117. Revogam-se as disposições em contrário, e, especificamente:\\nI - osarts. 12e21, e oparágrafo único do art. 42 da Lei nº 8.541, de 23 de dezembro de 1992;\\nII - oparágrafo único do art. 44e oart. 47 da Lei nº 8.383, de 30 de dezembro de 1991;\\nIII -art. 8º do Decreto-Lei nº 2.287, de 23 de julho de 1986;\\nIV - o§ 3º do art. 3º da Lei nº 8.847, de 28 de janeiro de 1994;\\nV - oart. 5º da Lei nº 8.850, de 28 de janeiro de 1994;\\nVI - oart. 6º da Lei nº 7.965, de 22 de dezembro de 1989.', 'incisos': ['armas e munições: capítulo 93;', 'veículos de passageiros: posição 8703 do capítulo 87 exceto ambulâncias, carros funerários, carros celulares e jipes;', 'bebidas alcoólicas: posições 2203 a 2206 e 2208 (exceto 2208.10 e 2208.90.0100) do capítulo 22;', 'produtos de perfumaria e de toucador, preparados e preparações cosméticas: posições 3303 a 3307 do capítulo 33;', 'fumo e seus derivados: capítulo 24.\"\\nArt. 111. Oart. 14 do Decreto-Lei nº 1.593, de 21 de dezembro de 1977, passa a vigorar com a seguinte redação:\\n\"Art. 14. Os cigarros apreendidos por infração de que decorra pena de perdimento, ou que sejam declarados abandonados, serão incinerados após o encerramento do processo administrativo fiscal.\\nParágrafo único. Fica vedada qualquer outra destinação aos cigarros de que trata este artigo.\"\\nArt. 114. O lucro inflacionário acumulado existente em 31 de dezembro de 1994, continua submetido aos critérios de realização previstos naLei nº 7.799, de 10 de julho de 1989, observado o disposto noart. 32, da Lei nº 8.541, de 1992.\\nArt. 115. O disposto nosarts. 48a51,53,55e56 da Medida Provisória nº 785, de 23 de dezembro de 1994, aplica-se somente aos fatos geradores ocorridos até 31 de dezembro de 1994.\\nArt. 116. Esta Lei entra em vigor na data de sua publicação, produzindo efeitos a partir de 1º de janeiro de 1995.\\nArt. 117. Revogam-se as disposições em contrário, e, especificamente:', 'osarts. 12e21, e oparágrafo único do art. 42 da Lei nº 8.541, de 23 de dezembro de 1992;', 'oparágrafo único do art. 44e oart. 47 da Lei nº 8.383, de 30 de dezembro de 1991;\\nIII -art. 8º do Decreto-Lei nº 2.287, de 23 de julho de 1986;', 'o§ 3º do art. 3º da Lei nº 8.847, de 28 de janeiro de 1994;', 'oart. 5º da Lei nº 8.850, de 28 de janeiro de 1994;', 'oart. 6º da Lei nº 7.965, de 22 de dezembro de 1989.']}]\n"
          ]
        }
      ],
      "source": [
        "for item in laws_set:\n",
        "  for artigos in item[\"artigos\"]:\n",
        "    print(artigos[\"paragrafos\"])"
      ]
    },
    {
      "cell_type": "code",
      "execution_count": null,
      "metadata": {
        "colab": {
          "base_uri": "https://localhost:8080/"
        },
        "id": "pZAFAHDYPVG9",
        "outputId": "3e098d2f-18e7-42d2-a931-eb9c40143f76"
      },
      "outputs": [
        {
          "name": "stdout",
          "output_type": "stream",
          "text": [
            "{'lei': 'LEI Nº 8.981, DE 20 DE JANEIRO DE 1995', 'content': 'Art. 3º A base de cálculo e o Imposto de Renda das pessoas jurídicas tributadas com base no lucro real, presumido ou arbitrado, correspondentes aos períodos-base encerrados no ano-calendário de 1994, serão expressos em quantidade de Ufir, observada a legislação então vigente. § 1º A base de cálculo e o Imposto de Renda das pessoas jurídicas tributadas com base no lucro real, presumido ou arbitrado, correspondentes aos períodos-base encerrados no ano-calendário de 1994, serão expressos em quantidade de Ufir, observada a legislação então vigente. A base de cálculo e o Imposto de Renda das pessoas jurídicas tributadas com base no lucro real, presumido ou arbitrado, correspondentes aos períodos-base encerrados no ano-calendário de 1994, serão expressos em quantidade de Ufir, observada a legislação então vigente.'}\n"
          ]
        },
        {
          "data": {
            "text/plain": [
              "192"
            ]
          },
          "execution_count": 175,
          "metadata": {},
          "output_type": "execute_result"
        }
      ],
      "source": [
        "print(documents[4])\n",
        "len(documents)"
      ]
    },
    {
      "cell_type": "code",
      "execution_count": null,
      "metadata": {
        "colab": {
          "base_uri": "https://localhost:8080/",
          "height": 49,
          "referenced_widgets": [
            "7d1cf105c8ab482cac2ca4d39b36a6e1",
            "cf32384b7a514a988edc103918b05328",
            "a4a80b21f7614f1aa9df4d6ec4edef86",
            "f75da6810a9241c497d5bff0730bf353",
            "4552cf43e29a4916913be47161d7ab53",
            "03c72048b91c4892a8650f13406ed853",
            "5c5b26988fe045a0b806131dc2ad3b85",
            "62a001e0f814492a809846a273f05053",
            "c39c68dbd1b54da0b6762e4c2c5ee961",
            "f5484f61407f47b2b2a1df9ad116e93d",
            "47c7f32db86549ec856333fa9c005352"
          ]
        },
        "id": "sxwGqTD8PVD-",
        "outputId": "343914db-b897-4ae8-8734-8b6cb811275b"
      },
      "outputs": [
        {
          "data": {
            "application/vnd.jupyter.widget-view+json": {
              "model_id": "7d1cf105c8ab482cac2ca4d39b36a6e1",
              "version_major": 2,
              "version_minor": 0
            },
            "text/plain": [
              "  0%|          | 0/192 [00:00<?, ?it/s]"
            ]
          },
          "metadata": {},
          "output_type": "display_data"
        }
      ],
      "source": [
        "nlp = spacy.blank(\"pt\")\n",
        "nlp.add_pipe(\"sentencizer\")\n",
        "\n",
        "stride = 2\n",
        "max_length = 3\n",
        "\n",
        "def window(documents, stride=2, max_length=3):\n",
        "  treated_documents = []\n",
        "\n",
        "  for j, document in enumerate(tqdm(documents)):\n",
        "    doc_text = document['content']\n",
        "    doc = nlp(doc_text)\n",
        "    sentences = [sent.text.strip() for sent in doc.sents]\n",
        "    for i in range(0, len(sentences), stride):\n",
        "      segment = ' '.join(sentences[i:i + max_length])\n",
        "      treated_documents.append({\n",
        "          \"title\": document['lei'],\n",
        "          \"contents\": document['lei']+\". \"+segment,\n",
        "          \"segment\": segment\n",
        "      })\n",
        "      if i + max_length >= len(sentences):\n",
        "        break\n",
        "  return treated_documents\n",
        "\n",
        "\n",
        "treated_documents = window(documents)"
      ]
    },
    {
      "cell_type": "code",
      "execution_count": null,
      "metadata": {
        "id": "JHHPdIdPPVA-"
      },
      "outputs": [],
      "source": [
        "os.makedirs(\"outputs\", exist_ok=True)\n",
        "\n",
        "with open(\"outputs/output.jsonl\", \"w\") as output_file:\n",
        "  for i, document in enumerate(treated_documents):\n",
        "      if i > 0:\n",
        "          output_file.write(\"\\n\")\n",
        "\n",
        "      document['id'] = i\n",
        "      output_file.write(json.dumps(document))"
      ]
    },
    {
      "cell_type": "code",
      "execution_count": null,
      "metadata": {
        "colab": {
          "base_uri": "https://localhost:8080/"
        },
        "id": "Ofsxgjc1PU-G",
        "outputId": "b71ffc46-4307-40c2-b291-878aaaa4f465"
      },
      "outputs": [
        {
          "name": "stdout",
          "output_type": "stream",
          "text": [
            "WARNING: sun.reflect.Reflection.getCallerClass is not supported. This will impact performance.\n",
            "2024-06-27 00:45:42,072 INFO  [main] index.IndexCollection (IndexCollection.java:380) - Setting log level to INFO\n",
            "2024-06-27 00:45:42,074 INFO  [main] index.IndexCollection (IndexCollection.java:383) - Starting indexer...\n",
            "2024-06-27 00:45:42,074 INFO  [main] index.IndexCollection (IndexCollection.java:384) - ============ Loading Parameters ============\n",
            "2024-06-27 00:45:42,074 INFO  [main] index.IndexCollection (IndexCollection.java:385) - DocumentCollection path: outputs\n",
            "2024-06-27 00:45:42,075 INFO  [main] index.IndexCollection (IndexCollection.java:386) - CollectionClass: JsonCollection\n",
            "2024-06-27 00:45:42,075 INFO  [main] index.IndexCollection (IndexCollection.java:387) - Generator: DefaultLuceneDocumentGenerator\n",
            "2024-06-27 00:45:42,075 INFO  [main] index.IndexCollection (IndexCollection.java:388) - Threads: 1\n",
            "2024-06-27 00:45:42,076 INFO  [main] index.IndexCollection (IndexCollection.java:389) - Language: pt\n",
            "2024-06-27 00:45:42,076 INFO  [main] index.IndexCollection (IndexCollection.java:390) - Stemmer: porter\n",
            "2024-06-27 00:45:42,076 INFO  [main] index.IndexCollection (IndexCollection.java:391) - Keep stopwords? false\n",
            "2024-06-27 00:45:42,077 INFO  [main] index.IndexCollection (IndexCollection.java:392) - Stopwords: null\n",
            "2024-06-27 00:45:42,077 INFO  [main] index.IndexCollection (IndexCollection.java:393) - Store positions? true\n",
            "2024-06-27 00:45:42,077 INFO  [main] index.IndexCollection (IndexCollection.java:394) - Store docvectors? true\n",
            "2024-06-27 00:45:42,078 INFO  [main] index.IndexCollection (IndexCollection.java:395) - Store document \"contents\" field? false\n",
            "2024-06-27 00:45:42,078 INFO  [main] index.IndexCollection (IndexCollection.java:396) - Store document \"raw\" field? true\n",
            "2024-06-27 00:45:42,079 INFO  [main] index.IndexCollection (IndexCollection.java:397) - Additional fields to index: []\n",
            "2024-06-27 00:45:42,079 INFO  [main] index.IndexCollection (IndexCollection.java:398) - Optimize (merge segments)? false\n",
            "2024-06-27 00:45:42,079 INFO  [main] index.IndexCollection (IndexCollection.java:399) - Whitelist: null\n",
            "2024-06-27 00:45:42,080 INFO  [main] index.IndexCollection (IndexCollection.java:400) - Pretokenized?: false\n",
            "2024-06-27 00:45:42,080 INFO  [main] index.IndexCollection (IndexCollection.java:401) - Index path: output\n",
            "2024-06-27 00:45:42,082 INFO  [main] index.IndexCollection (IndexCollection.java:481) - ============ Indexing Collection ============\n",
            "2024-06-27 00:45:42,092 INFO  [main] index.IndexCollection (IndexCollection.java:459) - Using language-specific analyzer\n",
            "2024-06-27 00:45:42,092 INFO  [main] index.IndexCollection (IndexCollection.java:460) - Language: pt\n",
            "2024-06-27 00:45:42,276 INFO  [main] index.IndexCollection (IndexCollection.java:510) - Thread pool with 1 threads initialized.\n",
            "2024-06-27 00:45:42,277 INFO  [main] index.IndexCollection (IndexCollection.java:512) - Initializing collection in outputs\n",
            "2024-06-27 00:45:42,279 INFO  [main] index.IndexCollection (IndexCollection.java:521) - 1 file found\n",
            "2024-06-27 00:45:42,279 INFO  [main] index.IndexCollection (IndexCollection.java:522) - Starting to index...\n",
            "2024-06-27 00:45:43,362 DEBUG [pool-2-thread-1] index.IndexCollection$LocalIndexerThread (IndexCollection.java:345) - outputs/output.jsonl: 731 docs added.\n",
            "2024-06-27 00:45:43,684 INFO  [main] index.IndexCollection (IndexCollection.java:578) - Indexing Complete! 731 documents indexed\n",
            "2024-06-27 00:45:43,684 INFO  [main] index.IndexCollection (IndexCollection.java:579) - ============ Final Counter Values ============\n",
            "2024-06-27 00:45:43,685 INFO  [main] index.IndexCollection (IndexCollection.java:580) - indexed:              731\n",
            "2024-06-27 00:45:43,685 INFO  [main] index.IndexCollection (IndexCollection.java:581) - unindexable:            0\n",
            "2024-06-27 00:45:43,685 INFO  [main] index.IndexCollection (IndexCollection.java:582) - empty:                  0\n",
            "2024-06-27 00:45:43,685 INFO  [main] index.IndexCollection (IndexCollection.java:583) - skipped:                0\n",
            "2024-06-27 00:45:43,686 INFO  [main] index.IndexCollection (IndexCollection.java:584) - errors:                 0\n",
            "2024-06-27 00:45:43,693 INFO  [main] index.IndexCollection (IndexCollection.java:587) - Total 731 documents indexed in 00:00:01\n"
          ]
        }
      ],
      "source": [
        "!python -m pyserini.index.lucene \\\n",
        "  --collection JsonCollection \\\n",
        "  --input outputs \\\n",
        "  --index output \\\n",
        "  --language pt\\\n",
        "  --generator DefaultLuceneDocumentGenerator \\\n",
        "  --threads 1 \\\n",
        "  --storePositions --storeDocvectors --storeRaw"
      ]
    },
    {
      "cell_type": "code",
      "execution_count": null,
      "metadata": {
        "id": "_XUDX8euPU69"
      },
      "outputs": [],
      "source": [
        "## Trecho obtido na integra de Thiago Laitz\n",
        "\n",
        "from math import exp\n",
        "from typing import List\n",
        "\n",
        "import torch\n",
        "from tqdm.auto import tqdm\n",
        "from transformers import (\n",
        "    AutoModelForSequenceClassification,\n",
        "    AutoTokenizer,\n",
        "    BatchEncoding,\n",
        "    AutoModelForSeq2SeqLM\n",
        ")\n",
        "\n",
        "class MonoT5():\n",
        "    def __init__(self, model_name_or_path: str, fp8: bool = False):\n",
        "        \"\"\"\n",
        "        Loads the T5 model from the given path.\n",
        "        Args:\n",
        "            model_name_or_path: path to the model\n",
        "            fp8: whether the model should be loaded using FP8\n",
        "        \"\"\"\n",
        "        self.tokenizer = AutoTokenizer.from_pretrained(model_name_or_path)\n",
        "        # The training was carried out using two specific tokens for relevant and non-relevant passages\n",
        "        self.token_false_id = self.tokenizer.get_vocab()['▁false']\n",
        "        self.token_true_id  = self.tokenizer.get_vocab()['▁true']\n",
        "\n",
        "        self.device = torch.device(\"cuda\" if torch.cuda.is_available() else \"cpu\")\n",
        "\n",
        "        # Loads the model with model_args\n",
        "        model_args = {}\n",
        "        if fp8:\n",
        "            model_args[\"torch_dtype\"] = torch.float16\n",
        "            model_args[\"load_in_8bit\"] = True\n",
        "\n",
        "        self.model = AutoModelForSeq2SeqLM.from_pretrained(model_name_or_path, **model_args)\n",
        "\n",
        "    @torch.no_grad()\n",
        "    def rescore(self, query: str, batch: List[str]):\n",
        "        \"\"\"\n",
        "        Adapted from Pygaggle's repo.\n",
        "        Rescore all documents for the given query.\n",
        "        Args:\n",
        "            query: the query for ranking\n",
        "            batch: list of passages for ranking\n",
        "        \"\"\"\n",
        "        scores = []\n",
        "        # Creates the inputs to the model\n",
        "        queries_documents = [f\"Query: {query} Document: {doc} Relevant:\" for doc in batch]\n",
        "        tokenized = self.tokenizer(\n",
        "            queries_documents,\n",
        "            padding=True,\n",
        "            truncation=\"longest_first\",\n",
        "            return_tensors=\"pt\",\n",
        "            max_length=512,\n",
        "        ).to(self.device)\n",
        "        input_ids = tokenized[\"input_ids\"].to(self.device)\n",
        "        attention_mask = tokenized[\"attention_mask\"].to(self.device)\n",
        "        _ , batch_scores = self.greedy_decode(model=self.model,\n",
        "                                            input_ids=input_ids,\n",
        "                                            length=1,\n",
        "                                            attention_mask=attention_mask,\n",
        "                                            return_last_logits=True)\n",
        "        batch_scores = batch_scores[:, [self.token_false_id, self.token_true_id]]\n",
        "        batch_scores = torch.nn.functional.log_softmax(batch_scores, dim=1)\n",
        "        batch_log_probs = batch_scores[:, 1].tolist()\n",
        "        batch_probs = [exp(log_prob) for log_prob in batch_log_probs]\n",
        "        scores.extend(batch_probs)\n",
        "        return scores\n",
        "\n",
        "    @torch.no_grad()\n",
        "    def greedy_decode(\n",
        "        self,\n",
        "        model,\n",
        "        input_ids: torch.Tensor,\n",
        "        length: int,\n",
        "        attention_mask: torch.Tensor = None,\n",
        "        return_last_logits: bool = True\n",
        "    ):\n",
        "\n",
        "        decode_ids = torch.full((input_ids.size(0), 1),\n",
        "                                model.config.decoder_start_token_id,\n",
        "                                dtype=torch.long).to(input_ids.device)\n",
        "        encoder_outputs = model.get_encoder()(input_ids, attention_mask=attention_mask)\n",
        "        next_token_logits = None\n",
        "        for _ in range(length):\n",
        "            model_inputs = model.prepare_inputs_for_generation(\n",
        "                decode_ids,\n",
        "                encoder_outputs=encoder_outputs,\n",
        "                past=None,\n",
        "                attention_mask=attention_mask,\n",
        "                use_cache=True)\n",
        "            outputs = model(**model_inputs)  # (batch_size, cur_len, vocab_size)\n",
        "            next_token_logits = outputs[0][:, -1, :]  # (batch_size, vocab_size)\n",
        "            decode_ids = torch.cat([decode_ids,\n",
        "                                    next_token_logits.max(1)[1].unsqueeze(-1)],\n",
        "                                dim=-1)\n",
        "        if return_last_logits:\n",
        "            return decode_ids, next_token_logits\n",
        "        return decode_ids"
      ]
    },
    {
      "cell_type": "code",
      "execution_count": null,
      "metadata": {
        "colab": {
          "base_uri": "https://localhost:8080/"
        },
        "id": "rhyzQ-y1PU4O",
        "outputId": "bc41a0e1-2a79-460d-873f-f6c89a955600"
      },
      "outputs": [
        {
          "name": "stderr",
          "output_type": "stream",
          "text": [
            "The `load_in_4bit` and `load_in_8bit` arguments are deprecated and will be removed in the future versions. Please, pass a `BitsAndBytesConfig` object in `quantization_config` argument instead.\n",
            "`low_cpu_mem_usage` was None, now set to True since model is quantized.\n"
          ]
        }
      ],
      "source": [
        "t5_ranker = MonoT5('castorini/monot5-large-msmarco-10k', fp8=True)"
      ]
    },
    {
      "cell_type": "code",
      "execution_count": null,
      "metadata": {
        "id": "S4GOv0FpPU1O"
      },
      "outputs": [],
      "source": [
        "searcher = LuceneSearcher('/content/output')\n",
        "\n",
        "def get_passages(query, top_k):\n",
        "    hits = searcher.search(query, top_k)\n",
        "    return hits"
      ]
    },
    {
      "cell_type": "code",
      "execution_count": null,
      "metadata": {
        "id": "wWfM_aec54xw"
      },
      "outputs": [],
      "source": [
        "## Adaptado de Thiago Laitz\n",
        "\n",
        "import requests\n",
        "import time\n",
        "\n",
        "def get_llm_response(prompt: str, system_prompt: str = None):\n",
        "    for _ in range(15):\n",
        "        data = {\n",
        "            \"model\": \"llama3-70b-8192\",\n",
        "            \"messages\": [{\"role\": \"user\", \"content\": prompt}],\n",
        "            \"temperature\": 0,\n",
        "            \"top_p\": 1\n",
        "        }\n",
        "        if system_prompt:\n",
        "            data[\"messages\"].insert(0, {\"role\": \"system\", \"content\": system_prompt})\n",
        "        headers = {\n",
        "            \"Content-Type\": \"application/json\",\n",
        "            \"Authorization\": f\"Bearer [KEY]\"\n",
        "        }\n",
        "\n",
        "        response = requests.post(\n",
        "            \"https://api.groq.com/openai/v1/chat/completions\",\n",
        "            json=data,\n",
        "            headers=headers\n",
        "        )\n",
        "\n",
        "        if not response.ok:\n",
        "            time.sleep(3)\n",
        "            continue\n",
        "\n",
        "        response = response.json()\n",
        "\n",
        "        return response[\"choices\"][0][\"message\"][\"content\"].strip().lower()\n"
      ]
    },
    {
      "cell_type": "code",
      "execution_count": null,
      "metadata": {
        "id": "k9gBy8XI54ux"
      },
      "outputs": [],
      "source": [
        "system_prompt = \"\"\"\n",
        "Você é um legislador e receberá informações especificas sobre leis, como por exemplo o nome da lei, seus artigos, paragrafos e incisos.\n",
        "Você precisará responder a perguntas se baseado inteiramente nas informações fornecidas por prompt, isto é, você não pode utilizar seu conhecimento prévio para responder.\n",
        "Caso os trechos das leis que você receber não forem o suficiente para responder a pergunta, informe que você não pode responder, já que qualquer resposta neste caso é incerta.\n",
        "\"\"\".strip()"
      ]
    },
    {
      "cell_type": "code",
      "execution_count": null,
      "metadata": {
        "id": "MuNOP8pFy7gj"
      },
      "outputs": [],
      "source": [
        "user_prompt = r\"\"\"\n",
        "Dada as seguintes informações sobre leis, tente responder a pergunta exclusivamente se baseando nestas informações. Responda em português. Após a resposta, inclua a fonte da informação (qual lei, paragrafo, inciso, entre outros).\n",
        "Questão: {query}\n",
        "\"\"\".strip()"
      ]
    },
    {
      "cell_type": "code",
      "execution_count": null,
      "metadata": {
        "id": "U1hnhR3K54rZ"
      },
      "outputs": [],
      "source": [
        "def get_search_answer(\n",
        "    query: str,\n",
        "    top_k_bm25: int = 50,\n",
        "    top_k_ranker: int = 5\n",
        ") -> tuple[str, float]:\n",
        "    hits = searcher.search(query, top_k_bm25)\n",
        "    paragraphs = [json.loads(hit.raw) for hit in hits]\n",
        "\n",
        "    scores = t5_ranker.rescore(query, [p[\"contents\"] for p in paragraphs])\n",
        "    scores_paragraphs = list(zip(paragraphs, scores))\n",
        "    sorted_paragraphs = sorted(scores_paragraphs, key=lambda x: x[1], reverse=True)\n",
        "    documents_string = \"\"\n",
        "    for idx, (doc, _) in enumerate(sorted_paragraphs[:top_k_ranker]):\n",
        "        documents_string += f\"Documento {idx} - {doc['title']}:\\n{doc['contents']}\\n\\n\"\n",
        "    documents_string = documents_string.replace(\"{\", \"{{\").replace(\"}\", \"}}\")\n",
        "    return documents_string"
      ]
    },
    {
      "cell_type": "code",
      "execution_count": null,
      "metadata": {
        "colab": {
          "base_uri": "https://localhost:8080/"
        },
        "id": "JsjM_wySGx-1",
        "outputId": "d0d34d46-0a53-4038-d53c-fefe3ca7264f"
      },
      "outputs": [
        {
          "name": "stdout",
          "output_type": "stream",
          "text": [
            "Qual é o tratamento tributário dos rendimentos produzidos por conta de depósito de poupança?\n"
          ]
        }
      ],
      "source": [
        "#question = \"Qual é a alíquota de incidência do IR aplicável nas operações realizadas em bolsa?\"\n",
        "#question = \"Quais operações em bolsa são isentas do IR?\"\n",
        "question = question_answer[11][\"question\"]\n",
        "print(question)\n"
      ]
    },
    {
      "cell_type": "code",
      "execution_count": null,
      "metadata": {
        "colab": {
          "base_uri": "https://localhost:8080/"
        },
        "id": "6Y1BU-apxn-_",
        "outputId": "dc507200-c618-497d-9139-718399b8ce06"
      },
      "outputs": [
        {
          "name": "stdout",
          "output_type": "stream",
          "text": [
            "Os rendimentos obtidos em conta de depósito de poupança pela pessoa física estão isentos do imposto sobre a renda, ainda que em virtude de decisão judicial que tenha determinado a correção dos valores depositados por índice diferente do fixado pela autoridade monetária.\n",
            "Lei nº 8.981, de 20 de janeiro de 1995, art. 68, inciso III\n"
          ]
        }
      ],
      "source": [
        "answer = question_answer[11][\"answer\"]\n",
        "source = question_answer[11][\"source\"]\n",
        "print(answer)\n",
        "print(source)"
      ]
    },
    {
      "cell_type": "code",
      "execution_count": null,
      "metadata": {
        "colab": {
          "base_uri": "https://localhost:8080/"
        },
        "id": "5dC4PWbsYzQ6",
        "outputId": "0546ed4b-7845-408e-efba-3192447c9e0c"
      },
      "outputs": [
        {
          "name": "stdout",
          "output_type": "stream",
          "text": [
            "Dada as seguintes informações sobre leis, tente responder a pergunta exclusivamente se baseando nestas informações. Responda em português. Após a resposta, inclua a fonte da informação (qual lei, paragrafo, inciso, entre outros).\n",
            "Questão: Qual é o tratamento tributário dos rendimentos produzidos por conta de depósito de poupança?\n"
          ]
        }
      ],
      "source": [
        "content = user_prompt.format(query=question)\n",
        "print(content)"
      ]
    },
    {
      "cell_type": "code",
      "execution_count": null,
      "metadata": {
        "colab": {
          "base_uri": "https://localhost:8080/"
        },
        "id": "1V30ZM7WTRuB",
        "outputId": "da680a76-886c-466a-bd0b-09688e19eab4"
      },
      "outputs": [
        {
          "name": "stdout",
          "output_type": "stream",
          "text": [
            "Documento 0 - LEI Nº 8.981, DE 20 DE JANEIRO DE 1995:\n",
            "LEI Nº 8.981, DE 20 DE JANEIRO DE 1995. Art. 7º A partir de 1º de janeiro de 1995, a renda e os proventos de qualquer natureza, inclusive os rendimentos e ganhos de capital, percebidos por pessoas físicas residentes ou domiciliadas no Brasil, serão tributados pelo Imposto de Renda na forma da legislação vigente, com as modificações introduzidas por esta lei. SEÇÃO II\n",
            "Da Incidência Mensal do Imposto\n",
            "SEÇÃO III\n",
            "Da Declaração de Rendimentos\n",
            "SEÇÃO IV\n",
            "Tributação dos Ganhos de Capital das Pessoas Físicas\n",
            "Art. 21. O ganho de capital percebido por pessoa física em decorrência da alienação de bens e direitos de qualquer natureza sujeita-se à incidência do imposto sobre a renda, com as seguintes alíquotas:(Redação dada pela Lei nº 13.259, de 2016)Produção de efeito\n",
            "I - 15% (quinze por cento) sobre a parcela dos ganhos que não ultrapassar R$ 5.000.000,00 (cinco milhões de reais);(Redação dada pela Lei nº 13.259, de 2016)Produção de efeito\n",
            "II - 17,5% (dezessete inteiros e cinco décimos por cento) sobre a parcela dos ganhos que exceder R$ 5.000.000,00 (cinco milhões de reais) e não ultrapassar R$ 10.000.000,00 (dez milhões de reais);(Redação dada pela Lei nº 13.259, de 2016)Produção de efeito\n",
            "III - 20% (vinte por cento) sobre a parcela dos ganhos que exceder R$ 10.000.000,00 (dez milhões de reais) e não ultrapassar R$ 30.000.000,00 (trinta milhões de reais); e(Redação dada pela Lei nº 13.259, de 2016)Produção de efeito\n",
            "IV - 22,5% (vinte e dois inteiros e cinco décimos por cento) sobre a parcela dos ganhos que ultrapassar R$ 30.000.000,00 (trinta milhões de reais).(Redação dada pela Lei nº 13.259, de 2016)Produção de efeito § 114º Os dividendos que forem atribuídos às ações integrantes do patrimônio do fundo, sociedade ou carteira, serão registrados, na data em que as ações forem cotadas sem os respectivos direitos (ex-dividendos), em conta representativa de rendimentos a receber, em contrapartida à diminuição de idêntico valor da parcela do ativo correspondente às ações às quais se vinculam, acompanhados de transferência para a receita de dividendos de igual valor a débito da conta de resultado de variação da carteira de ações.\n",
            "\n",
            "Documento 1 - LEI Nº 8.981, DE 20 DE JANEIRO DE 1995:\n",
            "LEI Nº 8.981, DE 20 DE JANEIRO DE 1995. Art. 7º A partir de 1º de janeiro de 1995, a renda e os proventos de qualquer natureza, inclusive os rendimentos e ganhos de capital, percebidos por pessoas físicas residentes ou domiciliadas no Brasil, serão tributados pelo Imposto de Renda na forma da legislação vigente, com as modificações introduzidas por esta lei. SEÇÃO II\n",
            "Da Incidência Mensal do Imposto\n",
            "SEÇÃO III\n",
            "Da Declaração de Rendimentos\n",
            "SEÇÃO IV\n",
            "Tributação dos Ganhos de Capital das Pessoas Físicas\n",
            "Art. 21. O ganho de capital percebido por pessoa física em decorrência da alienação de bens e direitos de qualquer natureza sujeita-se à incidência do imposto sobre a renda, com as seguintes alíquotas:(Redação dada pela Lei nº 13.259, de 2016)Produção de efeito\n",
            "I - 15% (quinze por cento) sobre a parcela dos ganhos que não ultrapassar R$ 5.000.000,00 (cinco milhões de reais);(Redação dada pela Lei nº 13.259, de 2016)Produção de efeito\n",
            "II - 17,5% (dezessete inteiros e cinco décimos por cento) sobre a parcela dos ganhos que exceder R$ 5.000.000,00 (cinco milhões de reais) e não ultrapassar R$ 10.000.000,00 (dez milhões de reais);(Redação dada pela Lei nº 13.259, de 2016)Produção de efeito\n",
            "III - 20% (vinte por cento) sobre a parcela dos ganhos que exceder R$ 10.000.000,00 (dez milhões de reais) e não ultrapassar R$ 30.000.000,00 (trinta milhões de reais); e(Redação dada pela Lei nº 13.259, de 2016)Produção de efeito\n",
            "IV - 22,5% (vinte e dois inteiros e cinco décimos por cento) sobre a parcela dos ganhos que ultrapassar R$ 30.000.000,00 (trinta milhões de reais).(Redação dada pela Lei nº 13.259, de 2016)Produção de efeito § 3º É facultado às sociedades civis de prestação de serviços relativos às profissões regulamentadas(art.\n",
            "\n",
            "Documento 2 - LEI Nº 8.981, DE 20 DE JANEIRO DE 1995:\n",
            "LEI Nº 8.981, DE 20 DE JANEIRO DE 1995. Art. 7º A partir de 1º de janeiro de 1995, a renda e os proventos de qualquer natureza, inclusive os rendimentos e ganhos de capital, percebidos por pessoas físicas residentes ou domiciliadas no Brasil, serão tributados pelo Imposto de Renda na forma da legislação vigente, com as modificações introduzidas por esta lei. SEÇÃO II\n",
            "Da Incidência Mensal do Imposto\n",
            "SEÇÃO III\n",
            "Da Declaração de Rendimentos\n",
            "SEÇÃO IV\n",
            "Tributação dos Ganhos de Capital das Pessoas Físicas\n",
            "Art. 21. O ganho de capital percebido por pessoa física em decorrência da alienação de bens e direitos de qualquer natureza sujeita-se à incidência do imposto sobre a renda, com as seguintes alíquotas:(Redação dada pela Lei nº 13.259, de 2016)Produção de efeito\n",
            "I - 15% (quinze por cento) sobre a parcela dos ganhos que não ultrapassar R$ 5.000.000,00 (cinco milhões de reais);(Redação dada pela Lei nº 13.259, de 2016)Produção de efeito\n",
            "II - 17,5% (dezessete inteiros e cinco décimos por cento) sobre a parcela dos ganhos que exceder R$ 5.000.000,00 (cinco milhões de reais) e não ultrapassar R$ 10.000.000,00 (dez milhões de reais);(Redação dada pela Lei nº 13.259, de 2016)Produção de efeito\n",
            "III - 20% (vinte por cento) sobre a parcela dos ganhos que exceder R$ 10.000.000,00 (dez milhões de reais) e não ultrapassar R$ 30.000.000,00 (trinta milhões de reais); e(Redação dada pela Lei nº 13.259, de 2016)Produção de efeito\n",
            "IV - 22,5% (vinte e dois inteiros e cinco décimos por cento) sobre a parcela dos ganhos que ultrapassar R$ 30.000.000,00 (trinta milhões de reais).(Redação dada pela Lei nº 13.259, de 2016)Produção de efeito § 83º A base de cálculo do imposto é constituída pela diferença positiva entre o valor de resgate, líquido de IOF, e o valor de aquisição da quota.\n",
            "\n",
            "Documento 3 - LEI Nº 8.981, DE 20 DE JANEIRO DE 1995:\n",
            "LEI Nº 8.981, DE 20 DE JANEIRO DE 1995. Art. 7º A partir de 1º de janeiro de 1995, a renda e os proventos de qualquer natureza, inclusive os rendimentos e ganhos de capital, percebidos por pessoas físicas residentes ou domiciliadas no Brasil, serão tributados pelo Imposto de Renda na forma da legislação vigente, com as modificações introduzidas por esta lei. SEÇÃO II\n",
            "Da Incidência Mensal do Imposto\n",
            "SEÇÃO III\n",
            "Da Declaração de Rendimentos\n",
            "SEÇÃO IV\n",
            "Tributação dos Ganhos de Capital das Pessoas Físicas\n",
            "Art. 21. O ganho de capital percebido por pessoa física em decorrência da alienação de bens e direitos de qualquer natureza sujeita-se à incidência do imposto sobre a renda, com as seguintes alíquotas:(Redação dada pela Lei nº 13.259, de 2016)Produção de efeito\n",
            "I - 15% (quinze por cento) sobre a parcela dos ganhos que não ultrapassar R$ 5.000.000,00 (cinco milhões de reais);(Redação dada pela Lei nº 13.259, de 2016)Produção de efeito\n",
            "II - 17,5% (dezessete inteiros e cinco décimos por cento) sobre a parcela dos ganhos que exceder R$ 5.000.000,00 (cinco milhões de reais) e não ultrapassar R$ 10.000.000,00 (dez milhões de reais);(Redação dada pela Lei nº 13.259, de 2016)Produção de efeito\n",
            "III - 20% (vinte por cento) sobre a parcela dos ganhos que exceder R$ 10.000.000,00 (dez milhões de reais) e não ultrapassar R$ 30.000.000,00 (trinta milhões de reais); e(Redação dada pela Lei nº 13.259, de 2016)Produção de efeito\n",
            "IV - 22,5% (vinte e dois inteiros e cinco décimos por cento) sobre a parcela dos ganhos que ultrapassar R$ 30.000.000,00 (trinta milhões de reais).(Redação dada pela Lei nº 13.259, de 2016)Produção de efeito § 106º A base de cálculo do imposto é constituída pela diferença positiva entre o valor de resgate e o custo de aquisição da quota.\n",
            "\n",
            "Documento 4 - LEI Nº 8.981, DE 20 DE JANEIRO DE 1995:\n",
            "LEI Nº 8.981, DE 20 DE JANEIRO DE 1995. Art. 7º A partir de 1º de janeiro de 1995, a renda e os proventos de qualquer natureza, inclusive os rendimentos e ganhos de capital, percebidos por pessoas físicas residentes ou domiciliadas no Brasil, serão tributados pelo Imposto de Renda na forma da legislação vigente, com as modificações introduzidas por esta lei. SEÇÃO II\n",
            "Da Incidência Mensal do Imposto\n",
            "SEÇÃO III\n",
            "Da Declaração de Rendimentos\n",
            "SEÇÃO IV\n",
            "Tributação dos Ganhos de Capital das Pessoas Físicas\n",
            "Art. 21. O ganho de capital percebido por pessoa física em decorrência da alienação de bens e direitos de qualquer natureza sujeita-se à incidência do imposto sobre a renda, com as seguintes alíquotas:(Redação dada pela Lei nº 13.259, de 2016)Produção de efeito\n",
            "I - 15% (quinze por cento) sobre a parcela dos ganhos que não ultrapassar R$ 5.000.000,00 (cinco milhões de reais);(Redação dada pela Lei nº 13.259, de 2016)Produção de efeito\n",
            "II - 17,5% (dezessete inteiros e cinco décimos por cento) sobre a parcela dos ganhos que exceder R$ 5.000.000,00 (cinco milhões de reais) e não ultrapassar R$ 10.000.000,00 (dez milhões de reais);(Redação dada pela Lei nº 13.259, de 2016)Produção de efeito\n",
            "III - 20% (vinte por cento) sobre a parcela dos ganhos que exceder R$ 10.000.000,00 (dez milhões de reais) e não ultrapassar R$ 30.000.000,00 (trinta milhões de reais); e(Redação dada pela Lei nº 13.259, de 2016)Produção de efeito\n",
            "IV - 22,5% (vinte e dois inteiros e cinco décimos por cento) sobre a parcela dos ganhos que ultrapassar R$ 30.000.000,00 (trinta milhões de reais).(Redação dada pela Lei nº 13.259, de 2016)Produção de efeito § 6º É vedada a dedução de qualquer despesa administrativa.\n",
            "\n",
            "\n"
          ]
        }
      ],
      "source": [
        "search_answer = get_search_answer(content)\n",
        "print(search_answer)"
      ]
    },
    {
      "cell_type": "code",
      "execution_count": null,
      "metadata": {
        "colab": {
          "base_uri": "https://localhost:8080/"
        },
        "id": "QoHVniTJYtaK",
        "outputId": "6502e101-458c-44fd-9778-23f7a0b8769d"
      },
      "outputs": [
        {
          "name": "stdout",
          "output_type": "stream",
          "text": [
            "Dada as seguintes informações sobre leis, tente responder a pergunta exclusivamente se baseando nestas informações. Responda em português. Após a resposta, inclua a fonte da informação (qual lei, paragrafo, inciso, entre outros).\n",
            "Questão: {query}\n",
            "Documentos: {documents}\n",
            "Answer:\n"
          ]
        }
      ],
      "source": [
        "user_prompt += \"\\nDocumentos: {documents}\\nAnswer:\"\n",
        "print(user_prompt)"
      ]
    },
    {
      "cell_type": "code",
      "execution_count": null,
      "metadata": {
        "colab": {
          "base_uri": "https://localhost:8080/"
        },
        "id": "fCWJVl2MQLzJ",
        "outputId": "702558d9-6b1f-4e46-fe3d-2108b85af9a5"
      },
      "outputs": [
        {
          "name": "stdout",
          "output_type": "stream",
          "text": [
            "Dada as seguintes informações sobre leis, tente responder a pergunta exclusivamente se baseando nestas informações. Responda em português. Após a resposta, inclua a fonte da informação (qual lei, paragrafo, inciso, entre outros).\n",
            "Questão: Qual é o tratamento tributário dos rendimentos produzidos por conta de depósito de poupança?\n",
            "Documentos: Documento 0 - LEI Nº 8.981, DE 20 DE JANEIRO DE 1995:\n",
            "LEI Nº 8.981, DE 20 DE JANEIRO DE 1995. Art. 7º A partir de 1º de janeiro de 1995, a renda e os proventos de qualquer natureza, inclusive os rendimentos e ganhos de capital, percebidos por pessoas físicas residentes ou domiciliadas no Brasil, serão tributados pelo Imposto de Renda na forma da legislação vigente, com as modificações introduzidas por esta lei. SEÇÃO II\n",
            "Da Incidência Mensal do Imposto\n",
            "SEÇÃO III\n",
            "Da Declaração de Rendimentos\n",
            "SEÇÃO IV\n",
            "Tributação dos Ganhos de Capital das Pessoas Físicas\n",
            "Art. 21. O ganho de capital percebido por pessoa física em decorrência da alienação de bens e direitos de qualquer natureza sujeita-se à incidência do imposto sobre a renda, com as seguintes alíquotas:(Redação dada pela Lei nº 13.259, de 2016)Produção de efeito\n",
            "I - 15% (quinze por cento) sobre a parcela dos ganhos que não ultrapassar R$ 5.000.000,00 (cinco milhões de reais);(Redação dada pela Lei nº 13.259, de 2016)Produção de efeito\n",
            "II - 17,5% (dezessete inteiros e cinco décimos por cento) sobre a parcela dos ganhos que exceder R$ 5.000.000,00 (cinco milhões de reais) e não ultrapassar R$ 10.000.000,00 (dez milhões de reais);(Redação dada pela Lei nº 13.259, de 2016)Produção de efeito\n",
            "III - 20% (vinte por cento) sobre a parcela dos ganhos que exceder R$ 10.000.000,00 (dez milhões de reais) e não ultrapassar R$ 30.000.000,00 (trinta milhões de reais); e(Redação dada pela Lei nº 13.259, de 2016)Produção de efeito\n",
            "IV - 22,5% (vinte e dois inteiros e cinco décimos por cento) sobre a parcela dos ganhos que ultrapassar R$ 30.000.000,00 (trinta milhões de reais).(Redação dada pela Lei nº 13.259, de 2016)Produção de efeito § 114º Os dividendos que forem atribuídos às ações integrantes do patrimônio do fundo, sociedade ou carteira, serão registrados, na data em que as ações forem cotadas sem os respectivos direitos (ex-dividendos), em conta representativa de rendimentos a receber, em contrapartida à diminuição de idêntico valor da parcela do ativo correspondente às ações às quais se vinculam, acompanhados de transferência para a receita de dividendos de igual valor a débito da conta de resultado de variação da carteira de ações.\n",
            "\n",
            "Documento 1 - LEI Nº 8.981, DE 20 DE JANEIRO DE 1995:\n",
            "LEI Nº 8.981, DE 20 DE JANEIRO DE 1995. Art. 7º A partir de 1º de janeiro de 1995, a renda e os proventos de qualquer natureza, inclusive os rendimentos e ganhos de capital, percebidos por pessoas físicas residentes ou domiciliadas no Brasil, serão tributados pelo Imposto de Renda na forma da legislação vigente, com as modificações introduzidas por esta lei. SEÇÃO II\n",
            "Da Incidência Mensal do Imposto\n",
            "SEÇÃO III\n",
            "Da Declaração de Rendimentos\n",
            "SEÇÃO IV\n",
            "Tributação dos Ganhos de Capital das Pessoas Físicas\n",
            "Art. 21. O ganho de capital percebido por pessoa física em decorrência da alienação de bens e direitos de qualquer natureza sujeita-se à incidência do imposto sobre a renda, com as seguintes alíquotas:(Redação dada pela Lei nº 13.259, de 2016)Produção de efeito\n",
            "I - 15% (quinze por cento) sobre a parcela dos ganhos que não ultrapassar R$ 5.000.000,00 (cinco milhões de reais);(Redação dada pela Lei nº 13.259, de 2016)Produção de efeito\n",
            "II - 17,5% (dezessete inteiros e cinco décimos por cento) sobre a parcela dos ganhos que exceder R$ 5.000.000,00 (cinco milhões de reais) e não ultrapassar R$ 10.000.000,00 (dez milhões de reais);(Redação dada pela Lei nº 13.259, de 2016)Produção de efeito\n",
            "III - 20% (vinte por cento) sobre a parcela dos ganhos que exceder R$ 10.000.000,00 (dez milhões de reais) e não ultrapassar R$ 30.000.000,00 (trinta milhões de reais); e(Redação dada pela Lei nº 13.259, de 2016)Produção de efeito\n",
            "IV - 22,5% (vinte e dois inteiros e cinco décimos por cento) sobre a parcela dos ganhos que ultrapassar R$ 30.000.000,00 (trinta milhões de reais).(Redação dada pela Lei nº 13.259, de 2016)Produção de efeito § 3º É facultado às sociedades civis de prestação de serviços relativos às profissões regulamentadas(art.\n",
            "\n",
            "Documento 2 - LEI Nº 8.981, DE 20 DE JANEIRO DE 1995:\n",
            "LEI Nº 8.981, DE 20 DE JANEIRO DE 1995. Art. 7º A partir de 1º de janeiro de 1995, a renda e os proventos de qualquer natureza, inclusive os rendimentos e ganhos de capital, percebidos por pessoas físicas residentes ou domiciliadas no Brasil, serão tributados pelo Imposto de Renda na forma da legislação vigente, com as modificações introduzidas por esta lei. SEÇÃO II\n",
            "Da Incidência Mensal do Imposto\n",
            "SEÇÃO III\n",
            "Da Declaração de Rendimentos\n",
            "SEÇÃO IV\n",
            "Tributação dos Ganhos de Capital das Pessoas Físicas\n",
            "Art. 21. O ganho de capital percebido por pessoa física em decorrência da alienação de bens e direitos de qualquer natureza sujeita-se à incidência do imposto sobre a renda, com as seguintes alíquotas:(Redação dada pela Lei nº 13.259, de 2016)Produção de efeito\n",
            "I - 15% (quinze por cento) sobre a parcela dos ganhos que não ultrapassar R$ 5.000.000,00 (cinco milhões de reais);(Redação dada pela Lei nº 13.259, de 2016)Produção de efeito\n",
            "II - 17,5% (dezessete inteiros e cinco décimos por cento) sobre a parcela dos ganhos que exceder R$ 5.000.000,00 (cinco milhões de reais) e não ultrapassar R$ 10.000.000,00 (dez milhões de reais);(Redação dada pela Lei nº 13.259, de 2016)Produção de efeito\n",
            "III - 20% (vinte por cento) sobre a parcela dos ganhos que exceder R$ 10.000.000,00 (dez milhões de reais) e não ultrapassar R$ 30.000.000,00 (trinta milhões de reais); e(Redação dada pela Lei nº 13.259, de 2016)Produção de efeito\n",
            "IV - 22,5% (vinte e dois inteiros e cinco décimos por cento) sobre a parcela dos ganhos que ultrapassar R$ 30.000.000,00 (trinta milhões de reais).(Redação dada pela Lei nº 13.259, de 2016)Produção de efeito § 83º A base de cálculo do imposto é constituída pela diferença positiva entre o valor de resgate, líquido de IOF, e o valor de aquisição da quota.\n",
            "\n",
            "Documento 3 - LEI Nº 8.981, DE 20 DE JANEIRO DE 1995:\n",
            "LEI Nº 8.981, DE 20 DE JANEIRO DE 1995. Art. 7º A partir de 1º de janeiro de 1995, a renda e os proventos de qualquer natureza, inclusive os rendimentos e ganhos de capital, percebidos por pessoas físicas residentes ou domiciliadas no Brasil, serão tributados pelo Imposto de Renda na forma da legislação vigente, com as modificações introduzidas por esta lei. SEÇÃO II\n",
            "Da Incidência Mensal do Imposto\n",
            "SEÇÃO III\n",
            "Da Declaração de Rendimentos\n",
            "SEÇÃO IV\n",
            "Tributação dos Ganhos de Capital das Pessoas Físicas\n",
            "Art. 21. O ganho de capital percebido por pessoa física em decorrência da alienação de bens e direitos de qualquer natureza sujeita-se à incidência do imposto sobre a renda, com as seguintes alíquotas:(Redação dada pela Lei nº 13.259, de 2016)Produção de efeito\n",
            "I - 15% (quinze por cento) sobre a parcela dos ganhos que não ultrapassar R$ 5.000.000,00 (cinco milhões de reais);(Redação dada pela Lei nº 13.259, de 2016)Produção de efeito\n",
            "II - 17,5% (dezessete inteiros e cinco décimos por cento) sobre a parcela dos ganhos que exceder R$ 5.000.000,00 (cinco milhões de reais) e não ultrapassar R$ 10.000.000,00 (dez milhões de reais);(Redação dada pela Lei nº 13.259, de 2016)Produção de efeito\n",
            "III - 20% (vinte por cento) sobre a parcela dos ganhos que exceder R$ 10.000.000,00 (dez milhões de reais) e não ultrapassar R$ 30.000.000,00 (trinta milhões de reais); e(Redação dada pela Lei nº 13.259, de 2016)Produção de efeito\n",
            "IV - 22,5% (vinte e dois inteiros e cinco décimos por cento) sobre a parcela dos ganhos que ultrapassar R$ 30.000.000,00 (trinta milhões de reais).(Redação dada pela Lei nº 13.259, de 2016)Produção de efeito § 106º A base de cálculo do imposto é constituída pela diferença positiva entre o valor de resgate e o custo de aquisição da quota.\n",
            "\n",
            "Documento 4 - LEI Nº 8.981, DE 20 DE JANEIRO DE 1995:\n",
            "LEI Nº 8.981, DE 20 DE JANEIRO DE 1995. Art. 7º A partir de 1º de janeiro de 1995, a renda e os proventos de qualquer natureza, inclusive os rendimentos e ganhos de capital, percebidos por pessoas físicas residentes ou domiciliadas no Brasil, serão tributados pelo Imposto de Renda na forma da legislação vigente, com as modificações introduzidas por esta lei. SEÇÃO II\n",
            "Da Incidência Mensal do Imposto\n",
            "SEÇÃO III\n",
            "Da Declaração de Rendimentos\n",
            "SEÇÃO IV\n",
            "Tributação dos Ganhos de Capital das Pessoas Físicas\n",
            "Art. 21. O ganho de capital percebido por pessoa física em decorrência da alienação de bens e direitos de qualquer natureza sujeita-se à incidência do imposto sobre a renda, com as seguintes alíquotas:(Redação dada pela Lei nº 13.259, de 2016)Produção de efeito\n",
            "I - 15% (quinze por cento) sobre a parcela dos ganhos que não ultrapassar R$ 5.000.000,00 (cinco milhões de reais);(Redação dada pela Lei nº 13.259, de 2016)Produção de efeito\n",
            "II - 17,5% (dezessete inteiros e cinco décimos por cento) sobre a parcela dos ganhos que exceder R$ 5.000.000,00 (cinco milhões de reais) e não ultrapassar R$ 10.000.000,00 (dez milhões de reais);(Redação dada pela Lei nº 13.259, de 2016)Produção de efeito\n",
            "III - 20% (vinte por cento) sobre a parcela dos ganhos que exceder R$ 10.000.000,00 (dez milhões de reais) e não ultrapassar R$ 30.000.000,00 (trinta milhões de reais); e(Redação dada pela Lei nº 13.259, de 2016)Produção de efeito\n",
            "IV - 22,5% (vinte e dois inteiros e cinco décimos por cento) sobre a parcela dos ganhos que ultrapassar R$ 30.000.000,00 (trinta milhões de reais).(Redação dada pela Lei nº 13.259, de 2016)Produção de efeito § 6º É vedada a dedução de qualquer despesa administrativa.\n",
            "\n",
            "\n",
            "Answer:\n"
          ]
        }
      ],
      "source": [
        "content = user_prompt.format(documents = search_answer, query=question)\n",
        "print(content)"
      ]
    },
    {
      "cell_type": "code",
      "execution_count": null,
      "metadata": {
        "colab": {
          "base_uri": "https://localhost:8080/"
        },
        "id": "Ijy7H6umKTUm",
        "outputId": "6abc3e01-f264-4557-97f4-ce27d1d10541"
      },
      "outputs": [
        {
          "name": "stdout",
          "output_type": "stream",
          "text": [
            "não é possível responder a essa pergunta com base nas informações fornecidas, pois não há menção específica ao tratamento tributário dos rendimentos produzidos por conta de depósito de poupança. as informações fornecidas tratam de imposto de renda, ganhos de capital, e incidência do imposto sobre a renda, mas não abordam especificamente o tratamento tributário dos rendimentos de depósito de poupança.\n",
            "\n",
            "fonte: não há fonte específica para essa resposta, pois não há informação relevante nos documentos fornecidos.\n"
          ]
        }
      ],
      "source": [
        "llm_answer = get_llm_response(content, system_prompt)\n",
        "\n",
        "print(llm_answer)\n"
      ]
    }
  ],
  "metadata": {
    "accelerator": "GPU",
    "colab": {
      "gpuType": "T4",
      "provenance": []
    },
    "kernelspec": {
      "display_name": "Python 3",
      "name": "python3"
    },
    "language_info": {
      "name": "python"
    },
    "widgets": {
      "application/vnd.jupyter.widget-state+json": {
        "03c72048b91c4892a8650f13406ed853": {
          "model_module": "@jupyter-widgets/base",
          "model_module_version": "1.2.0",
          "model_name": "LayoutModel",
          "state": {
            "_model_module": "@jupyter-widgets/base",
            "_model_module_version": "1.2.0",
            "_model_name": "LayoutModel",
            "_view_count": null,
            "_view_module": "@jupyter-widgets/base",
            "_view_module_version": "1.2.0",
            "_view_name": "LayoutView",
            "align_content": null,
            "align_items": null,
            "align_self": null,
            "border": null,
            "bottom": null,
            "display": null,
            "flex": null,
            "flex_flow": null,
            "grid_area": null,
            "grid_auto_columns": null,
            "grid_auto_flow": null,
            "grid_auto_rows": null,
            "grid_column": null,
            "grid_gap": null,
            "grid_row": null,
            "grid_template_areas": null,
            "grid_template_columns": null,
            "grid_template_rows": null,
            "height": null,
            "justify_content": null,
            "justify_items": null,
            "left": null,
            "margin": null,
            "max_height": null,
            "max_width": null,
            "min_height": null,
            "min_width": null,
            "object_fit": null,
            "object_position": null,
            "order": null,
            "overflow": null,
            "overflow_x": null,
            "overflow_y": null,
            "padding": null,
            "right": null,
            "top": null,
            "visibility": null,
            "width": null
          }
        },
        "4552cf43e29a4916913be47161d7ab53": {
          "model_module": "@jupyter-widgets/base",
          "model_module_version": "1.2.0",
          "model_name": "LayoutModel",
          "state": {
            "_model_module": "@jupyter-widgets/base",
            "_model_module_version": "1.2.0",
            "_model_name": "LayoutModel",
            "_view_count": null,
            "_view_module": "@jupyter-widgets/base",
            "_view_module_version": "1.2.0",
            "_view_name": "LayoutView",
            "align_content": null,
            "align_items": null,
            "align_self": null,
            "border": null,
            "bottom": null,
            "display": null,
            "flex": null,
            "flex_flow": null,
            "grid_area": null,
            "grid_auto_columns": null,
            "grid_auto_flow": null,
            "grid_auto_rows": null,
            "grid_column": null,
            "grid_gap": null,
            "grid_row": null,
            "grid_template_areas": null,
            "grid_template_columns": null,
            "grid_template_rows": null,
            "height": null,
            "justify_content": null,
            "justify_items": null,
            "left": null,
            "margin": null,
            "max_height": null,
            "max_width": null,
            "min_height": null,
            "min_width": null,
            "object_fit": null,
            "object_position": null,
            "order": null,
            "overflow": null,
            "overflow_x": null,
            "overflow_y": null,
            "padding": null,
            "right": null,
            "top": null,
            "visibility": null,
            "width": null
          }
        },
        "47c7f32db86549ec856333fa9c005352": {
          "model_module": "@jupyter-widgets/controls",
          "model_module_version": "1.5.0",
          "model_name": "DescriptionStyleModel",
          "state": {
            "_model_module": "@jupyter-widgets/controls",
            "_model_module_version": "1.5.0",
            "_model_name": "DescriptionStyleModel",
            "_view_count": null,
            "_view_module": "@jupyter-widgets/base",
            "_view_module_version": "1.2.0",
            "_view_name": "StyleView",
            "description_width": ""
          }
        },
        "5c5b26988fe045a0b806131dc2ad3b85": {
          "model_module": "@jupyter-widgets/controls",
          "model_module_version": "1.5.0",
          "model_name": "DescriptionStyleModel",
          "state": {
            "_model_module": "@jupyter-widgets/controls",
            "_model_module_version": "1.5.0",
            "_model_name": "DescriptionStyleModel",
            "_view_count": null,
            "_view_module": "@jupyter-widgets/base",
            "_view_module_version": "1.2.0",
            "_view_name": "StyleView",
            "description_width": ""
          }
        },
        "62a001e0f814492a809846a273f05053": {
          "model_module": "@jupyter-widgets/base",
          "model_module_version": "1.2.0",
          "model_name": "LayoutModel",
          "state": {
            "_model_module": "@jupyter-widgets/base",
            "_model_module_version": "1.2.0",
            "_model_name": "LayoutModel",
            "_view_count": null,
            "_view_module": "@jupyter-widgets/base",
            "_view_module_version": "1.2.0",
            "_view_name": "LayoutView",
            "align_content": null,
            "align_items": null,
            "align_self": null,
            "border": null,
            "bottom": null,
            "display": null,
            "flex": null,
            "flex_flow": null,
            "grid_area": null,
            "grid_auto_columns": null,
            "grid_auto_flow": null,
            "grid_auto_rows": null,
            "grid_column": null,
            "grid_gap": null,
            "grid_row": null,
            "grid_template_areas": null,
            "grid_template_columns": null,
            "grid_template_rows": null,
            "height": null,
            "justify_content": null,
            "justify_items": null,
            "left": null,
            "margin": null,
            "max_height": null,
            "max_width": null,
            "min_height": null,
            "min_width": null,
            "object_fit": null,
            "object_position": null,
            "order": null,
            "overflow": null,
            "overflow_x": null,
            "overflow_y": null,
            "padding": null,
            "right": null,
            "top": null,
            "visibility": null,
            "width": null
          }
        },
        "7d1cf105c8ab482cac2ca4d39b36a6e1": {
          "model_module": "@jupyter-widgets/controls",
          "model_module_version": "1.5.0",
          "model_name": "HBoxModel",
          "state": {
            "_dom_classes": [],
            "_model_module": "@jupyter-widgets/controls",
            "_model_module_version": "1.5.0",
            "_model_name": "HBoxModel",
            "_view_count": null,
            "_view_module": "@jupyter-widgets/controls",
            "_view_module_version": "1.5.0",
            "_view_name": "HBoxView",
            "box_style": "",
            "children": [
              "IPY_MODEL_cf32384b7a514a988edc103918b05328",
              "IPY_MODEL_a4a80b21f7614f1aa9df4d6ec4edef86",
              "IPY_MODEL_f75da6810a9241c497d5bff0730bf353"
            ],
            "layout": "IPY_MODEL_4552cf43e29a4916913be47161d7ab53"
          }
        },
        "a4a80b21f7614f1aa9df4d6ec4edef86": {
          "model_module": "@jupyter-widgets/controls",
          "model_module_version": "1.5.0",
          "model_name": "FloatProgressModel",
          "state": {
            "_dom_classes": [],
            "_model_module": "@jupyter-widgets/controls",
            "_model_module_version": "1.5.0",
            "_model_name": "FloatProgressModel",
            "_view_count": null,
            "_view_module": "@jupyter-widgets/controls",
            "_view_module_version": "1.5.0",
            "_view_name": "ProgressView",
            "bar_style": "success",
            "description": "",
            "description_tooltip": null,
            "layout": "IPY_MODEL_62a001e0f814492a809846a273f05053",
            "max": 192,
            "min": 0,
            "orientation": "horizontal",
            "style": "IPY_MODEL_c39c68dbd1b54da0b6762e4c2c5ee961",
            "value": 192
          }
        },
        "c39c68dbd1b54da0b6762e4c2c5ee961": {
          "model_module": "@jupyter-widgets/controls",
          "model_module_version": "1.5.0",
          "model_name": "ProgressStyleModel",
          "state": {
            "_model_module": "@jupyter-widgets/controls",
            "_model_module_version": "1.5.0",
            "_model_name": "ProgressStyleModel",
            "_view_count": null,
            "_view_module": "@jupyter-widgets/base",
            "_view_module_version": "1.2.0",
            "_view_name": "StyleView",
            "bar_color": null,
            "description_width": ""
          }
        },
        "cf32384b7a514a988edc103918b05328": {
          "model_module": "@jupyter-widgets/controls",
          "model_module_version": "1.5.0",
          "model_name": "HTMLModel",
          "state": {
            "_dom_classes": [],
            "_model_module": "@jupyter-widgets/controls",
            "_model_module_version": "1.5.0",
            "_model_name": "HTMLModel",
            "_view_count": null,
            "_view_module": "@jupyter-widgets/controls",
            "_view_module_version": "1.5.0",
            "_view_name": "HTMLView",
            "description": "",
            "description_tooltip": null,
            "layout": "IPY_MODEL_03c72048b91c4892a8650f13406ed853",
            "placeholder": "​",
            "style": "IPY_MODEL_5c5b26988fe045a0b806131dc2ad3b85",
            "value": "100%"
          }
        },
        "f5484f61407f47b2b2a1df9ad116e93d": {
          "model_module": "@jupyter-widgets/base",
          "model_module_version": "1.2.0",
          "model_name": "LayoutModel",
          "state": {
            "_model_module": "@jupyter-widgets/base",
            "_model_module_version": "1.2.0",
            "_model_name": "LayoutModel",
            "_view_count": null,
            "_view_module": "@jupyter-widgets/base",
            "_view_module_version": "1.2.0",
            "_view_name": "LayoutView",
            "align_content": null,
            "align_items": null,
            "align_self": null,
            "border": null,
            "bottom": null,
            "display": null,
            "flex": null,
            "flex_flow": null,
            "grid_area": null,
            "grid_auto_columns": null,
            "grid_auto_flow": null,
            "grid_auto_rows": null,
            "grid_column": null,
            "grid_gap": null,
            "grid_row": null,
            "grid_template_areas": null,
            "grid_template_columns": null,
            "grid_template_rows": null,
            "height": null,
            "justify_content": null,
            "justify_items": null,
            "left": null,
            "margin": null,
            "max_height": null,
            "max_width": null,
            "min_height": null,
            "min_width": null,
            "object_fit": null,
            "object_position": null,
            "order": null,
            "overflow": null,
            "overflow_x": null,
            "overflow_y": null,
            "padding": null,
            "right": null,
            "top": null,
            "visibility": null,
            "width": null
          }
        },
        "f75da6810a9241c497d5bff0730bf353": {
          "model_module": "@jupyter-widgets/controls",
          "model_module_version": "1.5.0",
          "model_name": "HTMLModel",
          "state": {
            "_dom_classes": [],
            "_model_module": "@jupyter-widgets/controls",
            "_model_module_version": "1.5.0",
            "_model_name": "HTMLModel",
            "_view_count": null,
            "_view_module": "@jupyter-widgets/controls",
            "_view_module_version": "1.5.0",
            "_view_name": "HTMLView",
            "description": "",
            "description_tooltip": null,
            "layout": "IPY_MODEL_f5484f61407f47b2b2a1df9ad116e93d",
            "placeholder": "​",
            "style": "IPY_MODEL_47c7f32db86549ec856333fa9c005352",
            "value": " 192/192 [00:01&lt;00:00, 145.55it/s]"
          }
        }
      }
    }
  },
  "nbformat": 4,
  "nbformat_minor": 0
}
